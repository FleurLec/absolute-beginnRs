{
 "cells": [
  {
   "cell_type": "markdown",
   "metadata": {},
   "source": [
    "# Section 1 - Premiers pas en R "
   ]
  },
  {
   "cell_type": "markdown",
   "metadata": {},
   "source": [
    "## <span style=\"color: steelblue\">1. Introduction à R et RStudio</span>\n",
    "## <span style=\"font-family:Calibri\">1.1 Généralités</span>\n",
    "\n",
    "<font size=3 color=grey>\n",
    " 1.1.1. Un peu d'histoire<br>\n",
    " 1.1.2. Installer R et RStudio (sans droits d'administrateur)<br>\n",
    " 1.1.3. R en local / R en serveur<br>\n",
    "</font>\n",
    "\n",
    "## <span style=\"font-family:Calibri\">1.2 Les librairies et leur installation</span>\n",
    "## <span style=\"font-family:Calibri\">1.3 Quelques bons papiers pour apprendre et comprendre R</span>\n",
    "\n",
    "## <span style=\"color: steelblue\">2. Operations élémentaires sur les données (R)</span>\n",
    "## <span style=\"font-family:Calibri\">2.1. Charger les données</span>\n",
    "\n",
    "<font size=3 color=grey>\n",
    " 2.1.1. Definir le repertoire de travail<br>\n",
    " 2.1.2. Les types de fichiers lisibles en R<br>\n",
    " 2.1.3. Telecharger un fichier (download.file)<br>\n",
    " 2.1.4. Fichiers plats (csv/txt)<br>\n",
    " 2.1.5. Fichier excel<br>\n",
    " 2.1.6. Fichiers JSon (JavaScript Object Notation)<br>\n",
    "</font>\n",
    "\n",
    "## <span style=\"font-family:Calibri\">2.2. Les types de données en R </span>\n",
    "\n",
    "<font size=3 color=grey>\n",
    " - les vecteurs atomiques<br>\n",
    " - les dataframes<br>\n",
    " - les datatables<br>\n",
    " - les listes<br>\n",
    "</font>\n",
    "<br><br><br><br>"
   ]
  },
  {
   "cell_type": "markdown",
   "metadata": {},
   "source": [
    "# <span style=\"color: steelblue\">1. Introduction à R et RStudio</span>\n",
    "\n",
    "L'objectif de cette section est de permettre à chacun de partir sur une même base de connaissance du langage R\n",
    "\n",
    "# <span style=\"font-family:Calibri\">1.1 Généralités</span>\n",
    "\n",
    "### 1.1.1. Un peu d'histoire\n",
    "\n",
    " - R  : analyse statistiques (1993)\n",
    " - dérivé du S (1975) - John Chambers (laboratoires BELL).\n",
    " - Rstudio (2008) : environnement de developpement qui s'appuie sur le moteur R installé.\n",
    " - Tout 2 Open Source\n",
    "\n",
    "\n",
    "\n",
    "### 1.1.2. Installer R et RStudio (sans droits d'administrateur)\n",
    "\n",
    "Rappels installation sans droits d'admin.<br>\n",
    "Nota : RStudio doit être installé sur au moins 1 poste avec droits, puis le repertoire copiable\n",
    "\n",
    "\n",
    "### 1.1.3. R en local / R en serveur\n",
    "\n",
    " - version locale / version serveur (idem SAS, ...)\n",
    " - Disponible sur BigBox3 (necessite un keytab). Egalement Axalab pour Telematics ou CloudApp coté AGPC\n",
    " - Aujourd'hui difficile d'utilisation (serveurs lents, et pas d'accès direct au datalake)\n",
    " \n",
    "\n",
    "<br><br><br><br><br><br>"
   ]
  },
  {
   "cell_type": "markdown",
   "metadata": {},
   "source": [
    "<br>\n",
    "<br>\n",
    "\n",
    "# <span style=\"font-family:Calibri\">1.2 Les librairies et leur installation</span>\n",
    "\n",
    "- La grande majorité des packages s'installent tres simplement depuis le repository CRAN"
   ]
  },
  {
   "cell_type": "code",
   "execution_count": null,
   "metadata": {},
   "outputs": [],
   "source": [
    "install.packages(\"ggplot2\", repos = \"http://cran.us.r-project.org\")"
   ]
  },
  {
   "cell_type": "code",
   "execution_count": null,
   "metadata": {},
   "outputs": [],
   "source": [
    "install.packages(\"ggplot2\")                      # dans RStudio, le miroir CRAN est deja indiqué"
   ]
  },
  {
   "cell_type": "code",
   "execution_count": null,
   "metadata": {
    "collapsed": true
   },
   "outputs": [],
   "source": [
    "install.packages(\"ggplot2\", dependencies = TRUE) # Default : c(\"Depends\", \"Imports\", \"LinkingTo\").\n",
    "                                                 # TRUE    : c(\"Depends\", \"Imports\", \"LinkingTo\", \"Suggests\") "
   ]
  },
  {
   "cell_type": "markdown",
   "metadata": {},
   "source": [
    "<br><br>\n",
    "- Obtenir de l'<b>aide</b> sur une fonction : ?[fonction] ou vignette('[package]')"
   ]
  },
  {
   "cell_type": "code",
   "execution_count": null,
   "metadata": {},
   "outputs": [],
   "source": [
    "?install.packages"
   ]
  },
  {
   "cell_type": "code",
   "execution_count": null,
   "metadata": {},
   "outputs": [],
   "source": [
    "vignette('printr') #un peu long depuis Jupyter, mais vous pouvez le tester sous RStudio"
   ]
  },
  {
   "cell_type": "markdown",
   "metadata": {},
   "source": [
    "<br><br><br><br>\n",
    "- <b>Autres sources </b>: \n",
    " - Packages developpés par la communauté : Github (devtools::install_github() ), ou Gitlab en interne axa : <br>\n",
    "    exemple : http://agpc-ds.cloudapp.net/Mohamed-achref/EmailAddressTM/tree/master\n",
    " - Possibilité d'acceder aux paquets de dev sur Github (ex ci après)\n",
    " - <span style=\"font-family:Wingdings; font-size:30px; color:#CC2222;\">N</span>  Souvent : pb proxy Axa..."
   ]
  },
  {
   "cell_type": "code",
   "execution_count": null,
   "metadata": {},
   "outputs": [],
   "source": [
    "# exemple d'un paquet sympa de visualisation en Rmarkdown\n",
    "install.packages('printr', type = 'source', repos = c('http://yihui.name/xran', 'http://cran.rstudio.com'))"
   ]
  },
  {
   "cell_type": "code",
   "execution_count": null,
   "metadata": {},
   "outputs": [],
   "source": [
    "library(devtools)\n",
    "dev_mode(on=T)                      # on passe en mode developpement\n",
    "install_github(\"hadley/ggplot2\")    # on installe la version de developpement de ggplot2\n",
    "dev_mode(on=F)                      # on sort du mode developpement et on retourne donc a notre version stable de ggplot2"
   ]
  },
  {
   "cell_type": "markdown",
   "metadata": {},
   "source": [
    "Une fois la librairie telechargée, elle se loade très simplement : "
   ]
  },
  {
   "cell_type": "code",
   "execution_count": null,
   "metadata": {},
   "outputs": [],
   "source": [
    "library(ggplot2)\n",
    "library(printr)"
   ]
  },
  {
   "cell_type": "markdown",
   "metadata": {},
   "source": [
    "A noter options pour eviter trop de verbiage a l'installation (à combiner pour obtenir qque chose....)"
   ]
  },
  {
   "cell_type": "code",
   "execution_count": null,
   "metadata": {},
   "outputs": [],
   "source": [
    "suppressPackageStartupMessages(library(ggplot2))\n",
    "library(data.table, verbose = FALSE, quietly = TRUE, warn.conflicts = FALSE)"
   ]
  },
  {
   "cell_type": "markdown",
   "metadata": {},
   "source": [
    "<br><br><br>\n",
    "# <span style=\"font-family:Calibri\">1.3 Quelques bons papiers pour apprendre et comprendre R</span>\n",
    "\n",
    "H.Wickham - Advanced R : http://adv-r.had.co.nz/  \n",
    "G.Grolemund - H.Wickham : http://r4ds.had.co.nz/  \n",
    "E.Paradis - R pour les débutants : http://bit.ly/1OZrF9Z   \n",
    "A.Charpentier - Statistiques de l'assurance : http://bit.ly/1TUkS8z  \n",
    "J.Chiquet - Aide mémoire : http://julien.cremeriefamily.info/doc/teachings/commandes_r.pdf  \n",
    "Kauffmann - Aide mémoire : https://cran.r-project.org/doc/contrib/Kauffmann_aide_memoire_R.pdf  \n",
    "P.Burns - R Inferno : http://www.burns-stat.com/pages/Tutor/R_inferno.pdf\n",
    "<br>\n",
    "\n",
    "et bien sur stackoverflow, R-Bloggers, ... ET ds4a@SLACK !<br><br><br>\n",
    "\n",
    "<img src=\"http://upload.dinhosting.fr/J/O/V/Rworld.jpg\" height=\"50\" align=\"left\">\n",
    "\n",
    "\n"
   ]
  },
  {
   "cell_type": "markdown",
   "metadata": {},
   "source": [
    "<br><br><br><br>\n",
    "\n",
    "\n",
    "# <span style=\"color: steelblue\">2. Operations élémentaires sur les données (R)</span>\n",
    "\n",
    "\n",
    "# <span style=\"font-family:Calibri\">2.1. Charger les données</span>\n",
    "\n",
    " - !! R charge les données en RAM. \n",
    "\n",
    "\n",
    "### 2.1.1. Definir le repertoire de travail et gerer l'environnement R\n",
    "<table border = 1 align=left>\n",
    "<tr>\n",
    " <td colspan = 2 bgcolor=grey><b><font color=\"white\">repertoire de travail</td></b></font>\n",
    " <td colspan = 2 bgcolor=grey><b><font color=\"white\">environnement</font></td></b></font>\n",
    "</tr>\n",
    "<tr>\n",
    " <td>**setwd** </td>\n",
    " <td>definit le repertoire de travail</td>\n",
    " <td></td>\n",
    " <td></td>\n",
    "</tr>\n",
    "<tr>\n",
    " <td>**getwd** </td>\n",
    " <td>recupere le repertoire courant</td>\n",
    " <td></td>\n",
    " <td></td>\n",
    "</tr>\n",
    "<tr></tr>\n",
    "<tr>\n",
    " <td>**file.exist** </td>\n",
    " <td>verifie l'existence d'un fichier dans le repertoire courant</td>\n",
    " <td>**ls()**</td>\n",
    " <td>liste les elements de l'espace de travail R </td>\n",
    "</tr>\n",
    "<tr>\n",
    " <td>**dir.create** </td>\n",
    " <td>cree un répertoire</td>\n",
    " <td>**rm()**</td>\n",
    " <td>supprimer les elements de l'espace de travail R</td>\n",
    "</tr>\n",
    "<tr>\n",
    " <td>**list.files** </td>\n",
    " <td>liste l'ensemble des fichiers du repertoire mentionné</td>\n",
    " <td>**gc()**</td>\n",
    " <td>vide la \"corbeille\" de l'espace de travail R </td>\n",
    "</tr>\n",
    "</table>\n"
   ]
  },
  {
   "cell_type": "markdown",
   "metadata": {},
   "source": [
    "<u><b><font color = blue> - GERER LE REPERTOIRE DE TRAVAIL</b>"
   ]
  },
  {
   "cell_type": "code",
   "execution_count": 1,
   "metadata": {},
   "outputs": [
    {
     "data": {
      "text/html": [
       "\"C:/R/05_Training/Axa_Training\""
      ],
      "text/latex": [
       "\"C:/R/05_Training/Axa_Training\""
      ],
      "text/markdown": [
       "\"C:/R/05_Training/Axa_Training\""
      ],
      "text/plain": [
       "[1] \"C:/R/05_Training/Axa_Training\""
      ]
     },
     "execution_count": 1,
     "metadata": {},
     "output_type": "execute_result"
    }
   ],
   "source": [
    "dir <- \"C:/R/05_Training/Axa_Training\" ; dir"
   ]
  },
  {
   "cell_type": "code",
   "execution_count": 2,
   "metadata": {
    "collapsed": true
   },
   "outputs": [],
   "source": [
    "setwd(dir)                                           # definit mon repertoire de travail"
   ]
  },
  {
   "cell_type": "code",
   "execution_count": null,
   "metadata": {
    "collapsed": true
   },
   "outputs": [],
   "source": []
  },
  {
   "cell_type": "code",
   "execution_count": 3,
   "metadata": {},
   "outputs": [
    {
     "data": {
      "text/html": [
       "\"C:/R/05_Training/Axa_Training\""
      ],
      "text/latex": [
       "\"C:/R/05_Training/Axa_Training\""
      ],
      "text/markdown": [
       "\"C:/R/05_Training/Axa_Training\""
      ],
      "text/plain": [
       "[1] \"C:/R/05_Training/Axa_Training\""
      ]
     },
     "execution_count": 3,
     "metadata": {},
     "output_type": "execute_result"
    }
   ],
   "source": [
    "getwd()                                              # permet de connaitre le repertoire courant de travail"
   ]
  },
  {
   "cell_type": "code",
   "execution_count": 4,
   "metadata": {},
   "outputs": [
    {
     "data": {
      "text/html": [
       "<ol class=list-inline>\n",
       "\t<li>\".\"</li>\n",
       "\t<li>\"..\"</li>\n",
       "\t<li>\".ipynb_checkpoints\"</li>\n",
       "\t<li>\".RDataTmp\"</li>\n",
       "\t<li>\".Rhistory\"</li>\n",
       "\t<li>\"Agenda Trimestre 1.xlsx\"</li>\n",
       "\t<li>\"Challenge_Dublin\"</li>\n",
       "\t<li>\"contenu.txt\"</li>\n",
       "\t<li>\"Data\"</li>\n",
       "\t<li>\"dir.bat\"</li>\n",
       "\t<li>\"DOCS\"</li>\n",
       "\t<li>\"Exo Stephane en python.ipynb\"</li>\n",
       "\t<li>\"fiches de présence\"</li>\n",
       "\t<li>\"GA Formation de formateur occasionnel FP N°1131.ppt\"</li>\n",
       "\t<li>\"img\"</li>\n",
       "\t<li>\"Jour 00 - Introduction Modern Pricing\"</li>\n",
       "\t<li>\"Jour 01 - Absolute BeginnRs\"</li>\n",
       "\t<li>\"Jour 02 - DataViz et gestion mémoire\"</li>\n",
       "\t<li>\"Jour 03 - Analyse univariée et axaml\"</li>\n",
       "\t<li>\"Jour 04 - Supervised Unsupervised\"</li>\n",
       "\t<li>\"Jour 05 - Overview Bagging et boosting\"</li>\n",
       "\t<li>\"Jour 06 - Classification - ex de la fraude\"</li>\n",
       "\t<li>\"Jour 07 - Classification - ex du vehiculier\"</li>\n",
       "\t<li>\"Jour 08 - Overview - traitement de l'information géographique\"</li>\n",
       "\t<li>\"Jour 09 - Retour sur le hackathon de Dublin\"</li>\n",
       "\t<li>\"Jour 10 - By ourselves\"</li>\n",
       "\t<li>\"Modèle AXA FEUILLE DE PRESENCE.xls\"</li>\n",
       "\t<li>\"old\"</li>\n",
       "\t<li>\"ossature v1.txt\"</li>\n",
       "\t<li>\"Partages serveurs Users\"</li>\n",
       "\t<li>\"Section 3 - Overview on supervised and unsupervised models.R\"</li>\n",
       "\t<li>\"Untitled.ipynb\"</li>\n",
       "\t<li>\"Untitled1-Copy1.ipynb\"</li>\n",
       "</ol>\n"
      ],
      "text/latex": [
       "\\begin{enumerate*}\n",
       "\\item \".\"\n",
       "\\item \"..\"\n",
       "\\item \".ipynb_checkpoints\"\n",
       "\\item \".RDataTmp\"\n",
       "\\item \".Rhistory\"\n",
       "\\item \"Agenda Trimestre 1.xlsx\"\n",
       "\\item \"Challenge_Dublin\"\n",
       "\\item \"contenu.txt\"\n",
       "\\item \"Data\"\n",
       "\\item \"dir.bat\"\n",
       "\\item \"DOCS\"\n",
       "\\item \"Exo Stephane en python.ipynb\"\n",
       "\\item \"fiches de présence\"\n",
       "\\item \"GA Formation de formateur occasionnel FP N°1131.ppt\"\n",
       "\\item \"img\"\n",
       "\\item \"Jour 00 - Introduction Modern Pricing\"\n",
       "\\item \"Jour 01 - Absolute BeginnRs\"\n",
       "\\item \"Jour 02 - DataViz et gestion mémoire\"\n",
       "\\item \"Jour 03 - Analyse univariée et axaml\"\n",
       "\\item \"Jour 04 - Supervised Unsupervised\"\n",
       "\\item \"Jour 05 - Overview Bagging et boosting\"\n",
       "\\item \"Jour 06 - Classification - ex de la fraude\"\n",
       "\\item \"Jour 07 - Classification - ex du vehiculier\"\n",
       "\\item \"Jour 08 - Overview - traitement de l'information géographique\"\n",
       "\\item \"Jour 09 - Retour sur le hackathon de Dublin\"\n",
       "\\item \"Jour 10 - By ourselves\"\n",
       "\\item \"Modèle AXA FEUILLE DE PRESENCE.xls\"\n",
       "\\item \"old\"\n",
       "\\item \"ossature v1.txt\"\n",
       "\\item \"Partages serveurs Users\"\n",
       "\\item \"Section 3 - Overview on supervised and unsupervised models.R\"\n",
       "\\item \"Untitled.ipynb\"\n",
       "\\item \"Untitled1-Copy1.ipynb\"\n",
       "\\end{enumerate*}\n"
      ],
      "text/markdown": [
       "1. \".\"\n",
       "2. \"..\"\n",
       "3. \".ipynb_checkpoints\"\n",
       "4. \".RDataTmp\"\n",
       "5. \".Rhistory\"\n",
       "6. \"Agenda Trimestre 1.xlsx\"\n",
       "7. \"Challenge_Dublin\"\n",
       "8. \"contenu.txt\"\n",
       "9. \"Data\"\n",
       "10. \"dir.bat\"\n",
       "11. \"DOCS\"\n",
       "12. \"Exo Stephane en python.ipynb\"\n",
       "13. \"fiches de présence\"\n",
       "14. \"GA Formation de formateur occasionnel FP N°1131.ppt\"\n",
       "15. \"img\"\n",
       "16. \"Jour 00 - Introduction Modern Pricing\"\n",
       "17. \"Jour 01 - Absolute BeginnRs\"\n",
       "18. \"Jour 02 - DataViz et gestion mémoire\"\n",
       "19. \"Jour 03 - Analyse univariée et axaml\"\n",
       "20. \"Jour 04 - Supervised Unsupervised\"\n",
       "21. \"Jour 05 - Overview Bagging et boosting\"\n",
       "22. \"Jour 06 - Classification - ex de la fraude\"\n",
       "23. \"Jour 07 - Classification - ex du vehiculier\"\n",
       "24. \"Jour 08 - Overview - traitement de l'information géographique\"\n",
       "25. \"Jour 09 - Retour sur le hackathon de Dublin\"\n",
       "26. \"Jour 10 - By ourselves\"\n",
       "27. \"Modèle AXA FEUILLE DE PRESENCE.xls\"\n",
       "28. \"old\"\n",
       "29. \"ossature v1.txt\"\n",
       "30. \"Partages serveurs Users\"\n",
       "31. \"Section 3 - Overview on supervised and unsupervised models.R\"\n",
       "32. \"Untitled.ipynb\"\n",
       "33. \"Untitled1-Copy1.ipynb\"\n",
       "\n",
       "\n"
      ],
      "text/plain": [
       " [1] \".\"                                                            \n",
       " [2] \"..\"                                                           \n",
       " [3] \".ipynb_checkpoints\"                                           \n",
       " [4] \".RDataTmp\"                                                    \n",
       " [5] \".Rhistory\"                                                    \n",
       " [6] \"Agenda Trimestre 1.xlsx\"                                      \n",
       " [7] \"Challenge_Dublin\"                                             \n",
       " [8] \"contenu.txt\"                                                  \n",
       " [9] \"Data\"                                                         \n",
       "[10] \"dir.bat\"                                                      \n",
       "[11] \"DOCS\"                                                         \n",
       "[12] \"Exo Stephane en python.ipynb\"                                 \n",
       "[13] \"fiches de présence\"                                           \n",
       "[14] \"GA Formation de formateur occasionnel FP N°1131.ppt\"          \n",
       "[15] \"img\"                                                          \n",
       "[16] \"Jour 00 - Introduction Modern Pricing\"                        \n",
       "[17] \"Jour 01 - Absolute BeginnRs\"                                  \n",
       "[18] \"Jour 02 - DataViz et gestion mémoire\"                         \n",
       "[19] \"Jour 03 - Analyse univariée et axaml\"                         \n",
       "[20] \"Jour 04 - Supervised Unsupervised\"                            \n",
       "[21] \"Jour 05 - Overview Bagging et boosting\"                       \n",
       "[22] \"Jour 06 - Classification - ex de la fraude\"                   \n",
       "[23] \"Jour 07 - Classification - ex du vehiculier\"                  \n",
       "[24] \"Jour 08 - Overview - traitement de l'information géographique\"\n",
       "[25] \"Jour 09 - Retour sur le hackathon de Dublin\"                  \n",
       "[26] \"Jour 10 - By ourselves\"                                       \n",
       "[27] \"Modèle AXA FEUILLE DE PRESENCE.xls\"                           \n",
       "[28] \"old\"                                                          \n",
       "[29] \"ossature v1.txt\"                                              \n",
       "[30] \"Partages serveurs Users\"                                      \n",
       "[31] \"Section 3 - Overview on supervised and unsupervised models.R\" \n",
       "[32] \"Untitled.ipynb\"                                               \n",
       "[33] \"Untitled1-Copy1.ipynb\"                                        "
      ]
     },
     "execution_count": 4,
     "metadata": {},
     "output_type": "execute_result"
    }
   ],
   "source": [
    "list.files(dir,  all.files = TRUE)                   # liste tous les fichiers présents dans le repertoire dir"
   ]
  },
  {
   "cell_type": "code",
   "execution_count": null,
   "metadata": {},
   "outputs": [],
   "source": [
    "list.files(dir, pattern = \"Jour\")                    # liste tous les fichiers présents dans le repertoire dir \n",
    "                                                     #(on peut utiliser length() pour compter le nbe de fichiers)"
   ]
  },
  {
   "cell_type": "code",
   "execution_count": null,
   "metadata": {
    "collapsed": true
   },
   "outputs": [],
   "source": [
    "newdir <- \"Data\"    \n",
    "if (!file.exists(newdir)) {dir.create(newdir)}      # Si le repertoire nommé dir n'existe pas, R le crée"
   ]
  },
  {
   "cell_type": "markdown",
   "metadata": {},
   "source": [
    "<br><u><b><font color = blue> - GERER L'ENVIRONNEMENT R</b>"
   ]
  },
  {
   "cell_type": "code",
   "execution_count": null,
   "metadata": {},
   "outputs": [],
   "source": [
    "test <- \"a supprimer\"\n",
    "ls()  # indique les elements en mémoire du moteur R"
   ]
  },
  {
   "cell_type": "code",
   "execution_count": null,
   "metadata": {},
   "outputs": [],
   "source": [
    "rm(list = \"test\") ; ls()"
   ]
  },
  {
   "cell_type": "code",
   "execution_count": null,
   "metadata": {},
   "outputs": [],
   "source": [
    " rm(list = ls()) ; ls()"
   ]
  },
  {
   "cell_type": "markdown",
   "metadata": {},
   "source": [
    "<br><br>\n",
    "### 2.1.2. Les types de fichiers lisibles en R\n",
    "\n",
    "R est capable de lire (plus ou moins bien) de nombreux types de fichiers.\n",
    "\n",
    "<img src=\"http://upload.dinhosting.fr/e/a/n/2_R_manip_types_fichiers.png\" height=\"100\" align=\"left\">\n"
   ]
  },
  {
   "cell_type": "markdown",
   "metadata": {},
   "source": [
    "<br><br><br>\n",
    "### 2.1.3. Telecharger un fichier (download.file)"
   ]
  },
  {
   "cell_type": "code",
   "execution_count": null,
   "metadata": {
    "collapsed": true
   },
   "outputs": [],
   "source": [
    "fileUrl <- \"http://bano.openstreetmap.fr/data/bano-75.csv\"\n",
    "download.file(fileUrl, destfile = \"Data/bano_75.csv\")"
   ]
  },
  {
   "cell_type": "code",
   "execution_count": null,
   "metadata": {},
   "outputs": [],
   "source": [
    "(dir.data <- paste0(dir, \"/data\"))"
   ]
  },
  {
   "cell_type": "code",
   "execution_count": null,
   "metadata": {},
   "outputs": [],
   "source": [
    "# verifions la présence du fichier : \n",
    "dir.data <- \"C:/R/05_Training/Axa_Training/Data\"\n",
    "list.files(dir.data, pattern = \"75.csv\", all.files = TRUE)"
   ]
  },
  {
   "cell_type": "markdown",
   "metadata": {},
   "source": [
    "\n",
    "<br><br>\n",
    "\n",
    "### 2.1.4. Fichiers plats (csv/txt)\n",
    "\n",
    "Plusieurs fonctions permettent le chargement des fichiers csv.\n",
    "\n"
   ]
  },
  {
   "cell_type": "markdown",
   "metadata": {},
   "source": [
    "<div style=\"border: 0px solid #1b70b8; padding: 3px; background-color: #1b70b8;\">\n",
    "<font color = \"white\" size = 3> read.csv</font>"
   ]
  },
  {
   "cell_type": "markdown",
   "metadata": {},
   "source": [
    " - possibilité de limiter le nombre de lignes chargées (nrow=n)\n",
    " - format US : separateur **\",\"** et decimales **\".\"**\n",
    " - preciser l'**entête** avec **header**\n",
    " - interpretation par défaut des caracteres comme des facteurs (option **stringAsFactors**)"
   ]
  },
  {
   "cell_type": "code",
   "execution_count": null,
   "metadata": {},
   "outputs": [],
   "source": [
    "setwd(dir.data)\n",
    "read.csv(\"bano_75.csv\", nrow=3)     # affichage des premiers lignes du fichier (quand on n'a pas la description)"
   ]
  },
  {
   "cell_type": "code",
   "execution_count": null,
   "metadata": {},
   "outputs": [],
   "source": [
    "DF.bano <- read.csv(\"bano_75.csv\", header = FALSE, sep=\",\", dec = \".\", stringsAsFactors = FALSE)\n",
    "head(DF.bano, 3)\n",
    "\n",
    "# renommage des colonnes : \n",
    "names(DF.bano) <- c(\"clef\", \"adr.num\", \"adr.rue\", \"adr.cp\", \"adr.ville\", \"source\", \"lat\", \"lon\")\n",
    "head(DF.bano, 3)"
   ]
  },
  {
   "cell_type": "code",
   "execution_count": null,
   "metadata": {},
   "outputs": [],
   "source": [
    "(mon_vecteur <- c(\"clef\", \"adr.num\", \"adr.rue\", \"adr.cp\", \"adr.ville\", \"source\", \"lat\", \"lon\")  )"
   ]
  },
  {
   "cell_type": "code",
   "execution_count": null,
   "metadata": {},
   "outputs": [],
   "source": [
    "str(DF.bano)"
   ]
  },
  {
   "cell_type": "markdown",
   "metadata": {},
   "source": [
    "<div style=\"border: 0px solid #1b70b8; padding: 3px; background-color: #1b70b8;\">\n",
    "<font color = \"white\" size = 3> read.csv2</font>"
   ]
  },
  {
   "cell_type": "markdown",
   "metadata": {},
   "source": [
    "- Format EU : exemple csv formatté, créé en SAS. <b>separateur est un point-virgule</b> et <b>decimale virgule</b><br>\n",
    "- **read.csv2** equivalent a read.csv(sep=\";\", dec = \",\")"
   ]
  },
  {
   "cell_type": "code",
   "execution_count": null,
   "metadata": {},
   "outputs": [],
   "source": [
    "setwd(dir.data)\n",
    "DF.rabais <- read.csv(\"rabaisAUTO.csv\", nrow = 10)\n",
    "DF.rabais"
   ]
  },
  {
   "cell_type": "code",
   "execution_count": null,
   "metadata": {},
   "outputs": [],
   "source": [
    "setwd(dir.data)\n",
    "system.time(DF.rabais <- read.csv2(\"rabaisAUTO.csv\", stringsAsFactors = FALSE))\n",
    "head(DF.rabais)"
   ]
  },
  {
   "cell_type": "markdown",
   "metadata": {},
   "source": [
    "<div style=\"border: 0px solid #1b70b8; padding: 3px; background-color: #1b70b8;\">\n",
    "<font color = \"white\" size = 3> fread</font>"
   ]
  },
  {
   "cell_type": "markdown",
   "metadata": {},
   "source": [
    "read.csv() est une fonction classique de chargemenet de csv, car elle fait partie des packages de base.<br>\n",
    "Toutefois, <b>fread()</b>, du package <b>data.table</b>, propose un chargement beaucoup plus rapide, ce qui peut être salutaire pour de grosses BDD"
   ]
  },
  {
   "cell_type": "code",
   "execution_count": null,
   "metadata": {},
   "outputs": [],
   "source": [
    "library(data.table)\n",
    "setwd(\"C:/R/05_Training/Axa_Training/Data\")\n",
    "system.time(DF.rabais <- fread(\"rabaisAUTO.csv\", stringsAsFactors = FALSE))\n",
    "head(DF.rabais)"
   ]
  },
  {
   "cell_type": "code",
   "execution_count": null,
   "metadata": {},
   "outputs": [],
   "source": [
    "library(data.table)\n",
    "system.time(DF.rabais <- fread(\"rabaisAUTO.csv\", stringsAsFactors = TRUE, data.table=FALSE))"
   ]
  },
  {
   "cell_type": "markdown",
   "metadata": {},
   "source": [
    "<br><br>\n",
    "### 2.1.5. Fichier excel\n",
    "\n",
    "On peut facilement interagir avec un fichier excel.  \n",
    "Plusieurs packages existent, comme <b>XLConnect</b> ou <b>xlsx</b>. <br>\n",
    "=> demande <u>une version de Java a jour</u>.\n",
    "\n",
    "=> utiliser plutot <b>library(openxlsx)\n"
   ]
  },
  {
   "cell_type": "code",
   "execution_count": null,
   "metadata": {
    "collapsed": true
   },
   "outputs": [],
   "source": [
    "install.packages(\"openxlsx\")"
   ]
  },
  {
   "cell_type": "code",
   "execution_count": null,
   "metadata": {},
   "outputs": [],
   "source": [
    "library(openxlsx)\n",
    "\n",
    "dir.data <- \"C:/R/05_Training/Axa_Training/Data\"\n",
    "\n"
   ]
  },
  {
   "cell_type": "code",
   "execution_count": null,
   "metadata": {},
   "outputs": [],
   "source": [
    "\n",
    "read.xlsx(paste0(dir.data, \"/Emblem_model_glm.xlsx\"), namedRegion = \"EMBLEMFac10\", colNames = FALSE)\n",
    "\n"
   ]
  },
  {
   "cell_type": "code",
   "execution_count": null,
   "metadata": {},
   "outputs": [],
   "source": [
    "(XLS <- read.xlsx(paste0(dir.data, \"/Emblem_model_glm.xlsx\"), rows = (7:38), cols = (1:2))  )"
   ]
  },
  {
   "cell_type": "code",
   "execution_count": null,
   "metadata": {},
   "outputs": [],
   "source": [
    "names(XLS)[2] <- \"coef\""
   ]
  },
  {
   "cell_type": "code",
   "execution_count": null,
   "metadata": {},
   "outputs": [],
   "source": [
    "XLS"
   ]
  },
  {
   "cell_type": "markdown",
   "metadata": {},
   "source": [
    "Pour sauvegarder en .xlsx, on peut utiliser write.xlsx, a une petite operation un peu fastidieuse prêt :   \n",
    "1/ Installer RTools.exe (pas besoin des droits d'admin) dans c:/R/Tools/RTools/  \n",
    "2/ Qd OK, dans RStudio, executer la commande suivante : "
   ]
  },
  {
   "cell_type": "raw",
   "metadata": {},
   "source": [
    "Sys.setenv(\"R_ZIPCMD\" = \"C:/R/Tools/Rtools/bin/zip.exe\") ## path to zip.exe"
   ]
  },
  {
   "cell_type": "markdown",
   "metadata": {},
   "source": [
    "Vous pourrez ensuite lancer votre operation de sauvegarde sans encombre"
   ]
  },
  {
   "cell_type": "code",
   "execution_count": null,
   "metadata": {
    "collapsed": true
   },
   "outputs": [],
   "source": [
    "write.xlsx(head(DF.rabais), file = \"montest.xlsx\")"
   ]
  },
  {
   "cell_type": "markdown",
   "metadata": {},
   "source": [
    "Sans installation convenable de RTools et de parametrage de la variable d'environnement, vuos aurez cette erreur :"
   ]
  },
  {
   "cell_type": "raw",
   "metadata": {},
   "source": [
    "Error: zipping up workbook failed. Please make sure Rtools is installed or a zip application is available to R.\n",
    "         Try installr::install.rtools() on Windows."
   ]
  },
  {
   "cell_type": "markdown",
   "metadata": {},
   "source": [
    "<br><br><br>\n",
    "### 2.1.6. Fichiers JSon (JavaScript Object Notation)\n",
    "\n",
    "JSon est un format de données dérivé du langage JavaScript.<br>\n",
    "Il permet de représenter de l’information structurée (comme XML)\n"
   ]
  },
  {
   "cell_type": "code",
   "execution_count": null,
   "metadata": {},
   "outputs": [],
   "source": [
    "library(jsonlite, warn.conflicts = FALSE)\n",
    "setwd(dir.data)\n",
    "AxaDrive <- jsonlite::fromJSON(\"AxaDrive.json\")\n",
    "head(AxaDrive$events)"
   ]
  },
  {
   "cell_type": "markdown",
   "metadata": {},
   "source": [
    "### 2.1.7 Fichier .Rdata\n",
    "\n",
    "Les datasets R peuvent être sauvés (puis loadés) directement au format interne .Rdata : "
   ]
  },
  {
   "cell_type": "code",
   "execution_count": null,
   "metadata": {
    "collapsed": true
   },
   "outputs": [],
   "source": [
    "DF.head <- head(DF.rabais)\n",
    "save(DF.head, file = \"head_rabais.Rdata\")"
   ]
  },
  {
   "cell_type": "markdown",
   "metadata": {},
   "source": [
    "Note importante : le nom .Rdata est juste un container de donnée : a l'interieur de ce nom de fichier, le data.frame conserve le nom qu'il portait quand vous l'avez sauvé (dans noter cas, DF.head).  \n",
    "Pour connaitre le nom du dataset que vous loadez, ajouter l'option <b>verbose = TRUE</b> dans load"
   ]
  },
  {
   "cell_type": "code",
   "execution_count": null,
   "metadata": {
    "collapsed": true
   },
   "outputs": [],
   "source": [
    "load(\"head_rabais.Rdata\", verbose = TRUE)"
   ]
  },
  {
   "cell_type": "markdown",
   "metadata": {},
   "source": [
    "<br>\n",
    "### D'autres fichiers sont exploitables, comme le XML, les pdf, ... Une séance dédiée a la collecte de data abordera ulterieurement ces cas particuliers (mais oh combien utiles)\n",
    "<br>\n"
   ]
  },
  {
   "cell_type": "markdown",
   "metadata": {},
   "source": [
    "\n",
    "\n",
    "# <span style=\"font-family:Calibri\">2.2. Les types de données en R </span>\n",
    "\n",
    "<i>(Extrait de Advanced R - Hadley Wickham)</i>\n",
    "\n",
    "- Classement par dimension et homogeneité/heterogeneité : <br>\n",
    "- Homogène : tous les éléments sont du même type (string, logique, numerique..) <br>\n",
    "\n",
    "<table border=1 align = \"left\">\n",
    "<tr>\n",
    "  <td width=70 align=center style='color:#FFFFFF; background-color:#FFFFFF;'>\n",
    "  dim </td>\n",
    "  <td width=70 align=center style='color:#FFFFFF; background-color:#5A5A5A;'>\n",
    "  Homogene</td>\n",
    "  <td width=70 align=center style='color:#FFFFFF; background-color:#5A5A5A;'>\n",
    "  Heterogene</td>\n",
    "</tr>\n",
    "<tr>\n",
    " <td>1 dimension</td>\n",
    " <td>Atomic vector</td>\n",
    " <td>List</td>\n",
    "</tr>\n",
    "<tr>\n",
    " <td>2 dimensions</td>\n",
    " <td>matrix</td>\n",
    " <td>data.frame, data.table</td>\n",
    "</tr>\n",
    "<tr>\n",
    " <td>n dimensions</td>\n",
    " <td>array</td>\n",
    " <td> </td>\n",
    "</tr>\n",
    "</table>\n",
    "\n",
    "\n"
   ]
  },
  {
   "cell_type": "markdown",
   "metadata": {},
   "source": [
    "<br><br>\n",
    "### 2.2.1. Jouer avec les types de données principaux\n",
    "\n",
    "Les types que vous serez amenés le plus frequemment à utiliser sont \n",
    " - les vecteurs atomiques\n",
    " - les listes, dont les data.frame/data.table\n",
    "\n",
    "\n",
    " - <b><font size=3 color=#DD00DD><u>Les vecteurs atomiques </b></u></font>\n",
    "\n",
    "- tous les elements du meme type\n",
    "- par défaut : type general = type le moins contraignant\n",
    "\n",
    "\n"
   ]
  },
  {
   "cell_type": "code",
   "execution_count": null,
   "metadata": {},
   "outputs": [],
   "source": [
    "test <- c(34, \"12\", 34)\n",
    "str(test)"
   ]
  },
  {
   "cell_type": "code",
   "execution_count": null,
   "metadata": {},
   "outputs": [],
   "source": [
    "(vect.habitat <- c(\"appartement\", \"maison\"))\n",
    "\n",
    "(vect.qualite <- factor(c(\"locataire\", \"proprietaire\")))\n",
    "(vect.capital <- c(  seq(from = 10000, to=100000, by=10000))    )\n",
    "\n",
    "# on rajoute une option pour eviter la notation scientifique en e+2\n",
    "options(scipen=5, digits = 3)"
   ]
  },
  {
   "cell_type": "markdown",
   "metadata": {},
   "source": [
    "<br>\n",
    "\n",
    " - <b><font size=3 color=#DD00DD><u>Les dataframes</b></u>\n",
    " \n",
    "- <u>liste</u> à 2 dimensions\n",
    "- structurées comme une table de données classique.\n",
    "- partage les propriétés des listes et des matrices (accès par ligne et par colonne)\n",
    "- structure d'appel : <b>DF[i, j]</b> <font color='red'>ATTENTION la virgule est imperative !! </font>\n",
    "- si on ne manipule que des lignes, on aura un appel type <b>DF[i, ]</b>\n",
    "- si on ne manipule que des colonnes, on aura un appel type <b>DF[, j]</b>\n",
    " \n",
    " <table border = 1>\n",
    " <tr>\n",
    " <td> \n",
    " <font color=\"444444\"><b>Les lignes  </b></font><br>\n",
    " Pour filtrer suivant des lignes, on peut utiliser : <br>\n",
    " - <b>DF[i, ]</b>      : iem ligne <br>\n",
    " - DF[(i:k), ]  : selection des lignes entre la ieme et la kieme <br>\n",
    " - DF[DF$macolonne == \"val\", ] : selection des lignes telles que ma colonne vaut \"val\" <br>\n",
    "\n",
    " </td>\n",
    " <td> \n",
    " <font color=\"444444\"><b>Les colonnes </b></font><br>\n",
    " Pour appeler une colonne d'un dataframe, on peut utiliser indifferemment :  <br>\n",
    " - soit <b>DF[, j]</b> si la colonne voulue est la jeme,  <br>\n",
    " - soit DF[, \"macolonne\"] ou DF[, c(\"macolonne1\", \"macolonne2)\"] <br>\n",
    " - soit plus simplement l'operateur <b>$</b> : DF\\$macolonne <br>\n",
    " </td>\n",
    " </tr>\n",
    "\n",
    " </table>\n",
    " \n",
    "\n"
   ]
  },
  {
   "cell_type": "code",
   "execution_count": 1,
   "metadata": {},
   "outputs": [
    {
     "data": {
      "text/html": [
       "<ol class=list-inline>\n",
       "\t<li>10</li>\n",
       "\t<li>11</li>\n",
       "\t<li>12</li>\n",
       "\t<li>13</li>\n",
       "\t<li>14</li>\n",
       "\t<li>15</li>\n",
       "\t<li>16</li>\n",
       "\t<li>17</li>\n",
       "\t<li>18</li>\n",
       "\t<li>19</li>\n",
       "\t<li>20</li>\n",
       "\t<li>21</li>\n",
       "\t<li>22</li>\n",
       "\t<li>23</li>\n",
       "\t<li>24</li>\n",
       "\t<li>25</li>\n",
       "\t<li>26</li>\n",
       "\t<li>27</li>\n",
       "\t<li>28</li>\n",
       "\t<li>29</li>\n",
       "\t<li>30</li>\n",
       "</ol>\n"
      ],
      "text/latex": [
       "\\begin{enumerate*}\n",
       "\\item 10\n",
       "\\item 11\n",
       "\\item 12\n",
       "\\item 13\n",
       "\\item 14\n",
       "\\item 15\n",
       "\\item 16\n",
       "\\item 17\n",
       "\\item 18\n",
       "\\item 19\n",
       "\\item 20\n",
       "\\item 21\n",
       "\\item 22\n",
       "\\item 23\n",
       "\\item 24\n",
       "\\item 25\n",
       "\\item 26\n",
       "\\item 27\n",
       "\\item 28\n",
       "\\item 29\n",
       "\\item 30\n",
       "\\end{enumerate*}\n"
      ],
      "text/markdown": [
       "1. 10\n",
       "2. 11\n",
       "3. 12\n",
       "4. 13\n",
       "5. 14\n",
       "6. 15\n",
       "7. 16\n",
       "8. 17\n",
       "9. 18\n",
       "10. 19\n",
       "11. 20\n",
       "12. 21\n",
       "13. 22\n",
       "14. 23\n",
       "15. 24\n",
       "16. 25\n",
       "17. 26\n",
       "18. 27\n",
       "19. 28\n",
       "20. 29\n",
       "21. 30\n",
       "\n",
       "\n"
      ],
      "text/plain": [
       " [1] 10 11 12 13 14 15 16 17 18 19 20 21 22 23 24 25 26 27 28 29 30"
      ]
     },
     "execution_count": 1,
     "metadata": {},
     "output_type": "execute_result"
    }
   ],
   "source": [
    "(10:30)"
   ]
  },
  {
   "cell_type": "markdown",
   "metadata": {},
   "source": [
    "<br>\n",
    "Création de 2 data.frames : \n",
    " - le 1er tres simple grace à data.frame()\n",
    " - le second à l'aide d'expand.grid qui crée le produit cartesien des vecteurs proposé\n"
   ]
  },
  {
   "cell_type": "code",
   "execution_count": null,
   "metadata": {},
   "outputs": [],
   "source": [
    "DF.1 <- data.frame(habitat = vect.habitat,\n",
    "                   qualite = vect.qualite,\n",
    "                   nb = c(20, 30)) \n",
    "\n",
    "DF.2 <- expand.grid(vect.habitat, vect.qualite, vect.capital)\n",
    "\n"
   ]
  },
  {
   "cell_type": "markdown",
   "metadata": {},
   "source": [
    "<br>\n",
    "\n",
    "Pour en savoir plus sur ces dataframes, on peut utiliser les fonctions de base suivantes :\n",
    "\n",
    "<table border = 1>\n",
    "<tr>\n",
    " <td>**str** </td>\n",
    " <td>contenu du dataframe </td>\n",
    "</tr>\n",
    "<tr>\n",
    " <td>**class, typeof**</td>\n",
    " <td>indique la classe et le type de l'objet consideré (est ce une liste ? un numerique ? une data.table ?...)</td>\n",
    "</tr>\n",
    "<tr>\n",
    " <td>**dim, nrow, ncol**</td>\n",
    " <td>dimensions du dataframe</td>\n",
    "</tr>\n",
    "<tr>\n",
    " <td>**names, colnames, rownames**</td>\n",
    " <td>pour accéder au nom des variables et des lignes du dataframe</td>\n",
    "</tr>\n",
    "<tr>\n",
    " <td>**summary**</td>\n",
    " <td>contenu du dataframe incluant des indicateurs standards quantiles/moyenne pour les numeriques</td>\n",
    "</tr>\n",
    "<tr>\n",
    " <td>**table**</td>\n",
    " <td>frequence par modalité pour une variable</td>\n",
    "</tr> \n",
    "\n",
    "</table>\n",
    " "
   ]
  },
  {
   "cell_type": "code",
   "execution_count": null,
   "metadata": {},
   "outputs": [],
   "source": [
    "typeof(DF.1) ; str(DF.1)  ; head(DF.1)"
   ]
  },
  {
   "cell_type": "code",
   "execution_count": null,
   "metadata": {},
   "outputs": [],
   "source": [
    "# Affichage de la dimension data.frame, i,e, nbe de lignes, et nbe de colonnes\n",
    "dim(DF.2)  ;  paste(\"Nbe de lignes :\",nrow(DF.2))  ;  paste(\"Nbe de colonnes :\", ncol(DF.2))\n"
   ]
  },
  {
   "cell_type": "code",
   "execution_count": null,
   "metadata": {},
   "outputs": [],
   "source": [
    "# Résumé du contenu du data.frame, mixte entre un freq (pour les var catégorielles) et un univariate (pour les numeriques)\n",
    "summary(DF.2)"
   ]
  },
  {
   "cell_type": "code",
   "execution_count": null,
   "metadata": {},
   "outputs": [],
   "source": [
    "# frequence avec table :\n",
    "table(DF.2$Var1, DF.2$Var2)"
   ]
  },
  {
   "cell_type": "markdown",
   "metadata": {},
   "source": [
    "<br><br><br><u>Notion d'attributs"
   ]
  },
  {
   "cell_type": "code",
   "execution_count": null,
   "metadata": {},
   "outputs": [],
   "source": [
    "str(DF.2)  ;  head(DF.2, n=2)"
   ]
  },
  {
   "cell_type": "markdown",
   "metadata": {},
   "source": [
    "\n",
    "- attributs supplementaires dans le DF créé par expand.grid.\n",
    "- attributs = metadonnées qualifiant les elements du vecteur.\n",
    "- interet pour des structures de listes compliquées, comme les PolygonDataFrame utilisés pour créer des cartes.\n",
    "\n",
    "fonctions utiles : attributes(), attr(), structure()"
   ]
  },
  {
   "cell_type": "code",
   "execution_count": null,
   "metadata": {},
   "outputs": [],
   "source": [
    "attributes(DF.2)          # pour visualiser tous les attributs d'un coup"
   ]
  },
  {
   "cell_type": "code",
   "execution_count": null,
   "metadata": {},
   "outputs": [],
   "source": [
    "names(attributes(DF.2))   # nom des attributs"
   ]
  },
  {
   "cell_type": "code",
   "execution_count": null,
   "metadata": {},
   "outputs": [],
   "source": [
    "attr(DF.2, \"names\")       # contenu de l'attribut \"names\" contenant le nom des variables"
   ]
  },
  {
   "cell_type": "markdown",
   "metadata": {},
   "source": [
    "Regardons rapidement la taille du data.Frame avec et sans les attributs : "
   ]
  },
  {
   "cell_type": "code",
   "execution_count": null,
   "metadata": {},
   "outputs": [],
   "source": [
    "# Regardons la taille de cet objet\n",
    "object.size(DF.2)"
   ]
  },
  {
   "cell_type": "code",
   "execution_count": null,
   "metadata": {},
   "outputs": [],
   "source": [
    "# Maintenant, supprimons les arguments et retestons la taille\n",
    "attributes(DF.2) <- NULL\n",
    "object.size(DF.2)"
   ]
  },
  {
   "cell_type": "markdown",
   "metadata": {},
   "source": [
    "<br><br><br><u>Nommage des variables</u><br>\n",
    "- par défaut, R a nommé lui memes les variables de DF.2 en var[i].\n",
    "- Pour + de lisibilité, on peur renommer ces variables.\n",
    "\n",
    "Fonction utiles : names(), colnames(), rownames()"
   ]
  },
  {
   "cell_type": "code",
   "execution_count": null,
   "metadata": {},
   "outputs": [],
   "source": [
    "names(DF.2) <- c(\"habitat\", \"qualite\", \"nb\")\n",
    "str(DF.2)"
   ]
  },
  {
   "cell_type": "markdown",
   "metadata": {},
   "source": [
    "<br>\n",
    " - <b><font size=3 color=#DD00DD><u>Cas particulier des data.tables </b><br>\n",
    "- Le format data.table est similaire a celui des data.frames. <br>\n",
    "- Il s'agit d'un format specifique, utilisable apres installation de la librairie eponyme : "
   ]
  },
  {
   "cell_type": "code",
   "execution_count": null,
   "metadata": {
    "collapsed": true
   },
   "outputs": [],
   "source": [
    "library(data.table)"
   ]
  },
  {
   "cell_type": "markdown",
   "metadata": {},
   "source": [
    "- Herite du type data.frame\n",
    "- permet de traiter de + grosses données + vites"
   ]
  },
  {
   "cell_type": "code",
   "execution_count": null,
   "metadata": {
    "collapsed": true
   },
   "outputs": [],
   "source": [
    "set.seed(1)\n",
    "DT <- data.table(habitat = sample(vect.habitat, 10, replace=T),\n",
    "                 qualite = sample(vect.qualite, 10, replace=T),\n",
    "                 capital = sample(vect.capital, 10, replace=T),\n",
    "                 valeur  = rnorm(n=10, mean = 100, sd = 5))"
   ]
  },
  {
   "cell_type": "code",
   "execution_count": null,
   "metadata": {},
   "outputs": [],
   "source": [
    "typeof(DT)  ; class(DT)"
   ]
  },
  {
   "cell_type": "code",
   "execution_count": null,
   "metadata": {},
   "outputs": [],
   "source": [
    "str(DT)"
   ]
  },
  {
   "cell_type": "code",
   "execution_count": null,
   "metadata": {},
   "outputs": [],
   "source": [
    "summary(DT)"
   ]
  },
  {
   "cell_type": "code",
   "execution_count": null,
   "metadata": {
    "collapsed": true
   },
   "outputs": [],
   "source": []
  },
  {
   "cell_type": "markdown",
   "metadata": {},
   "source": [
    " <br>\n",
    " <br>\n",
    " - <b><font size=3 color=#DD00DD><u>Les listes</b>\n",
    "\n",
    "- la liste permet de stocker n'importe quel objet ( y compris des listes).<br>\n",
    "- container de stockage tres utile.<br>\n",
    "- les data.frames sont des listes particulieres\n"
   ]
  },
  {
   "cell_type": "code",
   "execution_count": null,
   "metadata": {},
   "outputs": [],
   "source": [
    "liste <- list(vect.habitat, vect.qualite, vect.capital, DF.1, DF.2, DT)"
   ]
  },
  {
   "cell_type": "code",
   "execution_count": null,
   "metadata": {},
   "outputs": [],
   "source": [
    "length(liste)"
   ]
  },
  {
   "cell_type": "code",
   "execution_count": null,
   "metadata": {},
   "outputs": [],
   "source": [
    "str(liste)"
   ]
  },
  {
   "cell_type": "markdown",
   "metadata": {},
   "source": [
    "<br>\n",
    "<br>\n",
    "### 2.2.2. Famille des is. et as.\n",
    "\n",
    " - famille des is.[type] : determiner le type d'un objet\n",
    " - famille des as.[type] : considerer un objet sous un autre type"
   ]
  },
  {
   "cell_type": "markdown",
   "metadata": {},
   "source": [
    "<br>\n",
    "Executez le code ci-dessous :"
   ]
  },
  {
   "cell_type": "code",
   "execution_count": null,
   "metadata": {
    "collapsed": true
   },
   "outputs": [],
   "source": [
    "f.typenum <- function(X) { temp.DF <- data.frame(numeric = sapply(X, is.numeric), \n",
    "                                                 double  = sapply(X, is.double),\n",
    "                                                 string  = sapply(X, is.character)\n",
    "                                                 )\n",
    "                           rownames(temp.DF) <- X \n",
    "                           return(temp.DF)\n",
    "}"
   ]
  },
  {
   "cell_type": "markdown",
   "metadata": {},
   "source": [
    "Et testons la fonction sur les exemples suivants : "
   ]
  },
  {
   "cell_type": "code",
   "execution_count": null,
   "metadata": {},
   "outputs": [],
   "source": [
    "Exemple.1 <- list(10, pi, \"14\")\n",
    "Exemple.2 <- c(10, pi, \"14\")\n"
   ]
  },
  {
   "cell_type": "code",
   "execution_count": null,
   "metadata": {},
   "outputs": [],
   "source": [
    "f.typenum(Exemple.1)  #on retrouve le typage envisagé"
   ]
  },
  {
   "cell_type": "code",
   "execution_count": null,
   "metadata": {},
   "outputs": [],
   "source": [
    "f.typenum(Exemple.2)  #le vecteur atomique herite du typeage le moins contraignant, ie string"
   ]
  },
  {
   "cell_type": "markdown",
   "metadata": {},
   "source": [
    "<br>\n",
    "<br>\n",
    "### 2.2.3. NULL, NA et NaN\n",
    "\n"
   ]
  },
  {
   "cell_type": "markdown",
   "metadata": {},
   "source": [
    " - <b>NULL</b> signifie qu'il n'y a pas de valeur\n",
    " - <b>NA</b> (Not Available) represente les valeurs manquantes\n",
    " - <b>NaN</b> (Not a Number) représente les valeurs impossible (par exemple une division par 0) \n",
    " \n",
    "\n",
    " les fonctions liées de la famille is. sont <b>is.na(), is.nan()</b>.\n",
    "Utiles pour specifier une condition comme !(is.na(x))\n",
    "\n",
    "La fonction <b>na.omit()</b> renvoie directement l'objet privé de ses valeurs NA.\n",
    "\n",
    " Dans la plupart des operations de comptage ou de modélisation, une option <b>na.rm</b> est disponible pour preciser comment traiter les valeurs en NA.  \n",
    " Ex : mean(x, na.rm=TRUE)\n",
    " \n",
    " \n",
    " Enfin, <b>addNA()</b> permet de forcer les NA comme un niveau de facteur.  \n",
    "=> utile pour gerer les operations de groupement ou autre sui gère mal les niveaux manquants..."
   ]
  },
  {
   "cell_type": "code",
   "execution_count": null,
   "metadata": {
    "collapsed": true
   },
   "outputs": [],
   "source": [
    "a = factor(c(1,2,3,4,4,2,NA,3))\n",
    "table(a)\n"
   ]
  },
  {
   "cell_type": "code",
   "execution_count": null,
   "metadata": {
    "collapsed": true
   },
   "outputs": [],
   "source": [
    "a = addNA(a)\n",
    "table(a)"
   ]
  },
  {
   "cell_type": "markdown",
   "metadata": {},
   "source": [
    "<br><br><br>\n",
    "<br>\n",
    "<font color = \"00FF44\" size=5><b>A VOUS DE JOUER !!</b></font>\n",
    "\n",
    "Nous allons utiliser le fichier chargé précédemment, contenant les rabais Auto consentis a l'affaire nouvelles.\n",
    "Le dataframe s'appelle DF.rabais"
   ]
  },
  {
   "cell_type": "code",
   "execution_count": 5,
   "metadata": {},
   "outputs": [
    {
     "data": {
      "text/plain": [
       "   user  system elapsed \n",
       "   1.39    0.08    1.61 "
      ]
     },
     "execution_count": 5,
     "metadata": {},
     "output_type": "execute_result"
    },
    {
     "data": {
      "text/html": [
       "\"data.frame\""
      ],
      "text/latex": [
       "\"data.frame\""
      ],
      "text/markdown": [
       "\"data.frame\""
      ],
      "text/plain": [
       "[1] \"data.frame\""
      ]
     },
     "execution_count": 5,
     "metadata": {},
     "output_type": "execute_result"
    }
   ],
   "source": [
    "library(data.table)\n",
    "setwd(\"C:/R/05_Training/Axa_Training/Data\")\n",
    "system.time(DF.rabais <- fread(\"rabaisAUTO.csv\", stringsAsFactors = TRUE, data.table=FALSE))\n",
    "class(DF.rabais)"
   ]
  },
  {
   "cell_type": "code",
   "execution_count": 6,
   "metadata": {
    "scrolled": true
   },
   "outputs": [
    {
     "data": {
      "text/html": [
       "<table>\n",
       "<thead><tr><th></th><th scope=col>GTA</th><th scope=col>version</th><th scope=col>numpol2</th><th scope=col>nreg</th><th scope=col>sex</th><th scope=col>statut</th><th scope=col>crm</th><th scope=col>antivol</th><th scope=col>nbgar</th><th scope=col>primeht</th><th scope=col>segm</th><th scope=col>rabais</th><th scope=col>rabais2</th><th scope=col>permis2</th><th scope=col>age_permis2</th><th scope=col>agecond2</th><th scope=col>sinistres</th></tr></thead>\n",
       "<tbody>\n",
       "\t<tr><th scope=row>1</th><td>ME37204</td><td>T</td><td>      5474370904</td><td>66</td><td>M</td><td>A</td><td>B50A3+</td><td>O</td><td>6</td><td>456.81</td><td>0</td><td>100</td><td>autorise</td><td><40</td><td>19-21</td><td>54-61</td><td>0</td></tr>\n",
       "\t<tr><th scope=row>2</th><td>PE37102</td><td>T</td><td>      5498785204</td><td>65</td><td>M</td><td>A</td><td>NONB50</td><td>O</td><td>6</td><td>892.18</td><td>B</td><td>95</td><td>autorise</td><td><11</td><td>18</td><td>23-26</td><td>1</td></tr>\n",
       "\t<tr><th scope=row>3</th><td>VW28046</td><td>T</td><td>      5499839704</td><td>64</td><td>M</td><td>A</td><td>NONB50</td><td>O</td><td>4</td><td>361.71</td><td>M1</td><td>67</td><td>limite</td><td><17</td><td>18</td><td>27-32</td><td>1</td></tr>\n",
       "\t<tr><th scope=row>4</th><td>RE66213</td><td>T</td><td>      5512094804</td><td>68</td><td>M</td><td>A</td><td>NONB50</td><td>O</td><td>6</td><td>390.53</td><td>M1</td><td>100</td><td>autorise</td><td><11</td><td>19-21</td><td>27-32</td><td>0</td></tr>\n",
       "\t<tr><th scope=row>5</th><td>PE07123</td><td>S</td><td>      5571005104</td><td>67</td><td>M</td><td>A</td><td>B50A3+</td><td>N</td><td>2</td><td>143.23</td><td>B</td><td>100</td><td>autorise</td><td><40</td><td>26++</td><td>62++</td><td>0</td></tr>\n",
       "</tbody>\n",
       "</table>\n"
      ],
      "text/latex": [
       "\\begin{tabular}{r|lllllllllllllllll}\n",
       "  & GTA & version & numpol2 & nreg & sex & statut & crm & antivol & nbgar & primeht & segm & rabais & rabais2 & permis2 & age_permis2 & agecond2 & sinistres\\\\\n",
       "\\hline\n",
       "\t1 & ME37204 & T &       5474370904 & 66 & M & A & B50A3+ & O & 6 & 456.81 & 0 & 100 & autorise & <40 & 19-21 & 54-61 & 0\\\\\n",
       "\t2 & PE37102 & T &       5498785204 & 65 & M & A & NONB50 & O & 6 & 892.18 & B & 95 & autorise & <11 & 18 & 23-26 & 1\\\\\n",
       "\t3 & VW28046 & T &       5499839704 & 64 & M & A & NONB50 & O & 4 & 361.71 & M1 & 67 & limite & <17 & 18 & 27-32 & 1\\\\\n",
       "\t4 & RE66213 & T &       5512094804 & 68 & M & A & NONB50 & O & 6 & 390.53 & M1 & 100 & autorise & <11 & 19-21 & 27-32 & 0\\\\\n",
       "\t5 & PE07123 & S &       5571005104 & 67 & M & A & B50A3+ & N & 2 & 143.23 & B & 100 & autorise & <40 & 26++ & 62++ & 0\\\\\n",
       "\\end{tabular}\n"
      ],
      "text/plain": [
       "      GTA version          numpol2 nreg sex statut    crm antivol nbgar primeht\n",
       "1 ME37204       T       5474370904   66   M      A B50A3+       O     6  456.81\n",
       "2 PE37102       T       5498785204   65   M      A NONB50       O     6  892.18\n",
       "3 VW28046       T       5499839704   64   M      A NONB50       O     4  361.71\n",
       "4 RE66213       T       5512094804   68   M      A NONB50       O     6  390.53\n",
       "5 PE07123       S       5571005104   67   M      A B50A3+       N     2  143.23\n",
       "  segm rabais  rabais2 permis2 age_permis2 agecond2 sinistres\n",
       "1    0    100 autorise     <40       19-21    54-61         0\n",
       "2    B     95 autorise     <11          18    23-26         1\n",
       "3   M1     67   limite     <17          18    27-32         1\n",
       "4   M1    100 autorise     <11       19-21    27-32         0\n",
       "5    B    100 autorise     <40        26++     62++         0"
      ]
     },
     "execution_count": 6,
     "metadata": {},
     "output_type": "execute_result"
    }
   ],
   "source": [
    "# EX: Afficher les 5 premières lignes de ce dataframe\n",
    "\n",
    "## VOTRE REPONSE : \n",
    "head(DF.rabais, n=5)"
   ]
  },
  {
   "cell_type": "code",
   "execution_count": null,
   "metadata": {},
   "outputs": [],
   "source": [
    "# EX: Afficher le contenu du dataframe (nom de champs, taille, classe)\n",
    "\n",
    "## VOTRE REPONSE : \n",
    "str(DF.rabais)"
   ]
  },
  {
   "cell_type": "code",
   "execution_count": 2,
   "metadata": {
    "collapsed": true
   },
   "outputs": [],
   "source": [
    "# Transformer GTA, numpol2 en character : ces grandeurs n'ont rien a faire au format facteur :)\n",
    "\n",
    "## VOTRE REPONSE : \n",
    "DF.rabais$GTA <- as.character(DF.rabais$GTA)\n",
    "DF.rabais$numpol2 <- as.character(DF.rabais$numpol2)"
   ]
  },
  {
   "cell_type": "code",
   "execution_count": null,
   "metadata": {},
   "outputs": [],
   "source": [
    "# EX: Afficher des stats elementaires sur le contenu du dataframe\n",
    "\n",
    "## VOTRE REPONSE : \n",
    "summary(DF.rabais)"
   ]
  },
  {
   "cell_type": "markdown",
   "metadata": {},
   "source": [
    "Les macro stats fournies ci dessus laissent apparaitre plusieurs problemes : <br>\n",
    " - 1/ les versions de tarifs peuvent être regroupées : S et T sont des versions 2015, on peut donc regrouper les autres<br>\n",
    " - 2/ la region est conisderée comme un numerique<br>\n",
    " - 3/ On sait par experience que le segment H est plus cher que les segments M1 et M2. Néanmoins, l'ordre alphabetique ne retranscrit pas cet ordre.<br>\n",
    " - 4/ la variable rabais est considerée comme un facteur\n",
    " - 5/ Enfin, la variable rabais2 n'est pas non plus classée dans un ordre cohérent. On veut donc renommer : \n",
    "      - \"autorisé\" en \"1.autorise\"\n",
    "      - \"limite\" en \"2.limite\"\n",
    "      - \"depasse\" en \"3.depasse\"\n",
    "\n",
    "Vous allez devoir traiter ces cas : "
   ]
  },
  {
   "cell_type": "code",
   "execution_count": null,
   "metadata": {},
   "outputs": [],
   "source": [
    "# 1/ Regrouper les version anterieures a S ensemble, en une section \"R et -\" par exemple\n",
    "# Pour cela, on doit deja connaitre l'ensemble des 8 modalités disponibles : on utilise la fonction table()\n",
    "\n",
    "table(DF.rabais$version)"
   ]
  },
  {
   "cell_type": "markdown",
   "metadata": {},
   "source": [
    "Pour eviter de perdre le dataframe original suite a une mauvaise manip, on crée un dataframe sauvegarde DF.rabais.svg\n"
   ]
  },
  {
   "cell_type": "code",
   "execution_count": 3,
   "metadata": {
    "collapsed": true
   },
   "outputs": [],
   "source": [
    "DF.rabais.svg <- DF.rabais"
   ]
  },
  {
   "cell_type": "markdown",
   "metadata": {},
   "source": [
    "Pour mémoire, vous avez vu dans le descriptif du dataframe que version etait un facteur.\n",
    "Cela signifie que la liste des modalités est figée. \n",
    "Pour la changer, il faut modifier le type, et repasser au format caracteres : "
   ]
  },
  {
   "cell_type": "code",
   "execution_count": 4,
   "metadata": {
    "collapsed": true
   },
   "outputs": [],
   "source": [
    "# changement du type de la variable version\n",
    "DF.rabais$version <- as.character(DF.rabais$version)"
   ]
  },
  {
   "cell_type": "code",
   "execution_count": 5,
   "metadata": {},
   "outputs": [],
   "source": [
    "# on peut desormais créer la nouvelle modalité composite : \n",
    "DF.rabais[DF.rabais$version %in% c(\"M\", \"N\", \"O\", \"P\", \"Q\", \"R\"),]$version <- \"R et -\"\n",
    "DF.rabais$version <- as.factor(DF.rabais$version)"
   ]
  },
  {
   "cell_type": "code",
   "execution_count": null,
   "metadata": {},
   "outputs": [],
   "source": [
    "# EX: Verifier que l'operation a été correctement réalisée grace a table()\n",
    "\n",
    "## VOTRE REPONSE : \n",
    "table(DF.rabais$version)"
   ]
  },
  {
   "cell_type": "markdown",
   "metadata": {},
   "source": [
    "A noter une manière plus élégante de procéder : \n",
    " - recuperer les niveaux du facteur grace a l'option levels() (nota : pour connaitre le nombre de niveau, il existe egalement une fonction nlevels()\n",
    " - creer un vecteur contenant les niveaux a modifier en retranchant ceux a conserver grace a la fonction setdiff()"
   ]
  },
  {
   "cell_type": "code",
   "execution_count": 6,
   "metadata": {},
   "outputs": [
    {
     "data": {
      "text/html": [
       "<ol class=list-inline>\n",
       "\t<li>\"M\"</li>\n",
       "\t<li>\"N\"</li>\n",
       "\t<li>\"O\"</li>\n",
       "\t<li>\"P\"</li>\n",
       "\t<li>\"Q\"</li>\n",
       "\t<li>\"R\"</li>\n",
       "\t<li>\"S\"</li>\n",
       "\t<li>\"T\"</li>\n",
       "</ol>\n"
      ],
      "text/latex": [
       "\\begin{enumerate*}\n",
       "\\item \"M\"\n",
       "\\item \"N\"\n",
       "\\item \"O\"\n",
       "\\item \"P\"\n",
       "\\item \"Q\"\n",
       "\\item \"R\"\n",
       "\\item \"S\"\n",
       "\\item \"T\"\n",
       "\\end{enumerate*}\n"
      ],
      "text/markdown": [
       "1. \"M\"\n",
       "2. \"N\"\n",
       "3. \"O\"\n",
       "4. \"P\"\n",
       "5. \"Q\"\n",
       "6. \"R\"\n",
       "7. \"S\"\n",
       "8. \"T\"\n",
       "\n",
       "\n"
      ],
      "text/plain": [
       "[1] \"M\" \"N\" \"O\" \"P\" \"Q\" \"R\" \"S\" \"T\""
      ]
     },
     "execution_count": 6,
     "metadata": {},
     "output_type": "execute_result"
    },
    {
     "data": {
      "text/html": [
       "<ol class=list-inline>\n",
       "\t<li>\"M\"</li>\n",
       "\t<li>\"N\"</li>\n",
       "\t<li>\"O\"</li>\n",
       "\t<li>\"P\"</li>\n",
       "\t<li>\"Q\"</li>\n",
       "</ol>\n"
      ],
      "text/latex": [
       "\\begin{enumerate*}\n",
       "\\item \"M\"\n",
       "\\item \"N\"\n",
       "\\item \"O\"\n",
       "\\item \"P\"\n",
       "\\item \"Q\"\n",
       "\\end{enumerate*}\n"
      ],
      "text/markdown": [
       "1. \"M\"\n",
       "2. \"N\"\n",
       "3. \"O\"\n",
       "4. \"P\"\n",
       "5. \"Q\"\n",
       "\n",
       "\n"
      ],
      "text/plain": [
       "[1] \"M\" \"N\" \"O\" \"P\" \"Q\""
      ]
     },
     "execution_count": 6,
     "metadata": {},
     "output_type": "execute_result"
    }
   ],
   "source": [
    "(v.version.level <- levels(DF.rabais.svg$version) )\n",
    "\n",
    "# je ne souhaite recuperer que les niveaux avant R : \n",
    "# j'utilise setdiff(X, Y), qui me permet de faire la difference X privé de Y\n",
    "(v.version.level <- setdiff(v.version.level, c(\"R\", \"S\", \"T\")) )\n"
   ]
  },
  {
   "cell_type": "code",
   "execution_count": 7,
   "metadata": {
    "collapsed": true
   },
   "outputs": [],
   "source": [
    "# sauvegarde des operations réalisées dans le dataframe de sauvegarde\n",
    "DF.rabais.svg <- DF.rabais"
   ]
  },
  {
   "cell_type": "code",
   "execution_count": 8,
   "metadata": {
    "collapsed": true
   },
   "outputs": [],
   "source": [
    "# 2/ EX: modifier le type de region pour le transformer en facteur dans DF2.rabais\n",
    "\n",
    "## VOTRE REPONSE : \n",
    "DF.rabais$nreg <- as.factor(DF.rabais$nreg)"
   ]
  },
  {
   "cell_type": "code",
   "execution_count": null,
   "metadata": {},
   "outputs": [],
   "source": [
    "# Assurez vous de la bonne realisation de l'operation (avec cummary par exemple, pour voir l'impact du changement de classe)\n",
    "\n",
    "## VOTRE REPONSE : \n",
    "summary(DF.rabais)\n"
   ]
  },
  {
   "cell_type": "code",
   "execution_count": 9,
   "metadata": {
    "collapsed": true
   },
   "outputs": [],
   "source": [
    "# sauvegarde des operations réalisées dans le dataframe de sauvegarde\n",
    "DF.rabais.svg <- DF.rabais"
   ]
  },
  {
   "cell_type": "code",
   "execution_count": 10,
   "metadata": {},
   "outputs": [],
   "source": [
    "# 3/ EX: Renommer la modalité \"H\" de la variable segm en \"ZH\" pour obtenir un ordre alphabetique coherent avec la classe du vehicule\n",
    "# vous pouvez vous appuyer sur le code réalisé en 1/\n",
    "\n",
    "## VOTRE REPONSE : \n",
    "DF.rabais$segm <- as.character(DF.rabais$segm)\n",
    "DF.rabais[DF.rabais$segm == \"H\", \"segm\"] <- \"ZH\""
   ]
  },
  {
   "cell_type": "code",
   "execution_count": 11,
   "metadata": {},
   "outputs": [
    {
     "data": {
      "text/plain": [
       "\n",
       "    0     A     B    M1    M2    ZH \n",
       "27554 17507 98290 90532 33686 22036 "
      ]
     },
     "execution_count": 11,
     "metadata": {},
     "output_type": "execute_result"
    }
   ],
   "source": [
    "# Verifier la bonne réalisation avec table() par exemple\n",
    "\n",
    "## VOTRE REPONSE : \n",
    "table(DF.rabais$segm)"
   ]
  },
  {
   "cell_type": "code",
   "execution_count": 12,
   "metadata": {
    "collapsed": true
   },
   "outputs": [],
   "source": [
    "# sauvegarde des operations réalisées dans le dataframe de sauvegarde\n",
    "DF.rabais.svg <- DF.rabais"
   ]
  },
  {
   "cell_type": "code",
   "execution_count": 13,
   "metadata": {},
   "outputs": [],
   "source": [
    "# 4/ Transformer rabais en double avec la fonction as.double\n",
    "\n",
    "## VOTRE REPONSE :\n",
    "DF.rabais$rabais <- as.double(DF.rabais$rabais)"
   ]
  },
  {
   "cell_type": "code",
   "execution_count": 14,
   "metadata": {},
   "outputs": [
    {
     "data": {
      "text/plain": [
       "\n",
       "autorise  depasse   limite \n",
       "  263129    16420    10056 "
      ]
     },
     "execution_count": 14,
     "metadata": {},
     "output_type": "execute_result"
    }
   ],
   "source": [
    "# 5/ modifier la cible categorielle rabais2 telle que : ;\n",
    "#      - \"autorisé\" en \"1.autorise\"\n",
    "#      - \"limite\" en \"2.limite\"\n",
    "#      - \"depasse\" en \"3.depasse\"\n",
    "\n",
    "\n",
    "## VOTRE REPONSE :\n",
    "\n",
    "table(DF.rabais$rabais2)\n",
    "DF.rabais$rabais2 <- as.character(DF.rabais$rabais2)\n",
    " DF.rabais[DF.rabais$rabais2 == \"autorise\",]$rabais2 <-  \"1.autorise\"\n",
    " DF.rabais[DF.rabais$rabais2 == \"limite\",]$rabais2   <-  \"2.limite\"\n",
    " DF.rabais[DF.rabais$rabais2 == \"depasse\",]$rabais2  <-  \"3.depasse\""
   ]
  },
  {
   "cell_type": "code",
   "execution_count": 15,
   "metadata": {},
   "outputs": [
    {
     "data": {
      "text/plain": [
       "\n",
       "1.autorise   2.limite  3.depasse \n",
       "    263129      10056      16420 "
      ]
     },
     "execution_count": 15,
     "metadata": {},
     "output_type": "execute_result"
    }
   ],
   "source": [
    "# Verifiez que votre réponse a fonctionné\n",
    "\n",
    "## VOTRE REPONSE :\n",
    "table(DF.rabais$rabais2)\n"
   ]
  },
  {
   "cell_type": "markdown",
   "metadata": {},
   "source": [
    "Pour sauvegarder votre dataframe dans un fichier csv afin de le reutiliser a la prochaine session : "
   ]
  },
  {
   "cell_type": "code",
   "execution_count": 16,
   "metadata": {
    "collapsed": true
   },
   "outputs": [],
   "source": [
    "write.csv(DF.rabais, \"rabaisAUTO2.csv\", row.names = FALSE)"
   ]
  },
  {
   "cell_type": "markdown",
   "metadata": {},
   "source": [
    "Vous pouvez egalement le sauver au format Rdata : "
   ]
  },
  {
   "cell_type": "code",
   "execution_count": 17,
   "metadata": {
    "collapsed": true
   },
   "outputs": [],
   "source": [
    "save(DF.rabais, file = \"rabaisAUTO_corr.Rdata\")"
   ]
  }
 ],
 "metadata": {
  "kernelspec": {
   "display_name": "R",
   "language": "R",
   "name": "ir"
  },
  "language_info": {
   "codemirror_mode": "r",
   "file_extension": ".r",
   "mimetype": "text/x-r-source",
   "name": "R",
   "pygments_lexer": "r",
   "version": "3.2.3"
  }
 },
 "nbformat": 4,
 "nbformat_minor": 1
}
