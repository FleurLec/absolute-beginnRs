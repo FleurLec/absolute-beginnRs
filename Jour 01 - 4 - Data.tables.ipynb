{
 "cells": [
  {
   "cell_type": "markdown",
   "metadata": {},
   "source": [
    "# Section 3 - Quelques pas plus loin en R \n",
    "\n",
    "## <span style=\"color: steelblue\">4. Le package data.table</span> \n",
    "\n",
    "## <span style=\"font-family:Calibri\">4.1. Construction d'une data.table</span>\n",
    "## <span style=\"font-family:Calibri\">4.2. Opérations élémentaires sur data.table</span>\n",
    "<font size=3 color=grey>\n",
    " 4.2.1 Selection des lignes et des colonnes<br>\n",
    " 4.2.2. Renommer et modifier l'ordre des colonnes ou des lignes<br>\n",
    " 4.2.3. Appliquer des Filtres<br>\n",
    " 4.2.4. Ajouts de variable et agregations : utiliser le 3em argument \"by\"<br>\n",
    "</font>\n",
    "\n",
    "## <span style=\"font-family:Calibri\">4.3. Opérations avancées</span>  \n",
    "<font size=3 color=grey>\n",
    " 4.3.1. Notion de recherche binaire (binary search) avec setkey <br>\n",
    " 4.3.2. Fonctions spéciales et lapply</span> <br>\n",
    " 4.3.3. Manipuler des colonnes par référence avec :=  <br>\n",
    "</font>"
   ]
  },
  {
   "cell_type": "markdown",
   "metadata": {},
   "source": [
    "\n",
    "<br>\n",
    "\n",
    "\n",
    "## <span style=\"color: steelblue\">4. Le package data.table</span> \n",
    "\n",
    "Le package data.table est né en 2008 sous la plume de Matt Dowle, avec la double ambition de :\n",
    " - reduire le temps de programmation grâce a une syntaxe simplifiée\n",
    " - reduire le temps machine avec notamment une gestion par clef\n",
    " \n",
    "Le fonctionnement standard d'une requete via data.table est la suivante : \n",
    "<b>DT[<font color='steelblue'>i</font>, <font color='green4'>j</font>, <font color='tomato'>by</font>]</b>\n",
    "que l'on peut lire comme : <br>\n",
    "\n",
    "<i>\"Prends le dataset <b>DT</b>, selectionne les lignes avec <b><font color='steelblue'>i (WHERE)</font></b>, puis calcule <font color='green4'><b>j (SELECT)</b></font> groupé par <font color='tomato'><b>by (GROUP BY)</b></font>\"</i>\n",
    "\n",
    "Notons néanmoins qu'une data.table s'appuie sur la structure de data.frame. On peut donc tout a fait utiliser le langage standard de data.frame pour cet objet."
   ]
  },
  {
   "cell_type": "markdown",
   "metadata": {},
   "source": [
    "# <span style=\"font-family:Calibri\">4.1. Construction d'une data.table</span>\n",
    "\n",
    "Reconstruisons pour l'exemple un dataset factice :\n"
   ]
  },
  {
   "cell_type": "code",
   "execution_count": null,
   "metadata": {
    "collapsed": false
   },
   "outputs": [],
   "source": [
    "set.seed(1)\n",
    "library(data.table)\n",
    "N <- 100\n",
    "\n",
    "DT <- data.table(habitat = sample(c(\"appartement\", \"maison\") , N, replace = T),\n",
    "                 qualite = sample(LETTERS[(1:5)], N, replace = T),\n",
    "                 capital = rpois(N, 100))\n",
    "\n",
    "DT$ligne <- as.integer(rownames(DT) )   # nota : par defaut, le nom de la ligne est son numero. \n",
    "                                        #        si deja nommée, utiliser as.integer(rownames())\n",
    "\n",
    "head(DT)\n",
    "paste(nrow(DT), \"lignes dans l'objet\")\n",
    "\n",
    "class(DT)"
   ]
  },
  {
   "cell_type": "markdown",
   "metadata": {},
   "source": [
    "<i>Nota : l'affichage de table >60 lignes leve une erreur html sous Jupyter : \n",
    "Error in rbindlist(l, use.names, fill, idcol): Item 2 of list input is not a data.frame, data.table or list</i>"
   ]
  },
  {
   "cell_type": "markdown",
   "metadata": {},
   "source": [
    "# <span style=\"font-family:Calibri\">4.2. Opérations élémentaires sur data.table</span>\n"
   ]
  },
  {
   "cell_type": "markdown",
   "metadata": {},
   "source": [
    "### 4.2.1 Selection des lignes et des colonnes"
   ]
  },
  {
   "cell_type": "code",
   "execution_count": null,
   "metadata": {
    "collapsed": true
   },
   "outputs": [],
   "source": []
  },
  {
   "cell_type": "markdown",
   "metadata": {},
   "source": [
    "Si la facon generale de selectionner les lignes et colonnes dans une data.table reste tres similaire a celle utilisée pour un data.frame, quelques différences sont a garder en tete.\n",
    "Dans les exemples ci dessous, on compare les 2 méthodes.\n",
    "<br>\n"
   ]
  },
  {
   "cell_type": "code",
   "execution_count": null,
   "metadata": {
    "collapsed": false
   },
   "outputs": [],
   "source": [
    "DT[(3:5)]                            ## selection des lignes de 3 a 5\n"
   ]
  },
  {
   "cell_type": "code",
   "execution_count": null,
   "metadata": {
    "collapsed": false
   },
   "outputs": [],
   "source": [
    "DT[.N]                               ## selection de la derniere ligne"
   ]
  },
  {
   "cell_type": "code",
   "execution_count": null,
   "metadata": {
    "collapsed": false
   },
   "outputs": [],
   "source": [
    "DT[sample(.N,20)]                    ## on peut du coup utiliser .N pour echantilloner la table"
   ]
  },
  {
   "cell_type": "markdown",
   "metadata": {},
   "source": [
    "Selection des colonnes : .() est un raccourci pour list()"
   ]
  },
  {
   "cell_type": "code",
   "execution_count": null,
   "metadata": {
    "collapsed": false
   },
   "outputs": [],
   "source": [
    "head( DT[, .(capital, ligne)]  )      ## selection des colonnes capital et ligne"
   ]
  },
  {
   "cell_type": "code",
   "execution_count": null,
   "metadata": {
    "collapsed": false
   },
   "outputs": [],
   "source": [
    "DT[c(1, 3, 12), .(capital, ligne)]   ## selection des lignes 1, 3 et 12, et des colonnes capital et ligne"
   ]
  },
  {
   "cell_type": "markdown",
   "metadata": {},
   "source": [
    "<br><font color=red><b>ATTENTION</b></font> : bien que les data.tables heritent de la classe des data.frame, certaines operations qui marchent naturellement sur un data.frame simple doivent etre ajusté sur une data.table"
   ]
  },
  {
   "cell_type": "code",
   "execution_count": null,
   "metadata": {
    "collapsed": false
   },
   "outputs": [],
   "source": [
    "## Transformation du data.table en un simple data.frame\n",
    "DF <- as.data.frame(DT)\n",
    "class(DF)"
   ]
  },
  {
   "cell_type": "code",
   "execution_count": null,
   "metadata": {
    "collapsed": false
   },
   "outputs": [],
   "source": [
    "\n",
    "## Selection des colonnes qualité et capital (pour les 3 premieres lignes)\n",
    "DF[(1:3), c(\"qualite\", \"capital\")]"
   ]
  },
  {
   "cell_type": "code",
   "execution_count": null,
   "metadata": {
    "collapsed": false
   },
   "outputs": [],
   "source": [
    "\n",
    "## Idem sur la data.table : ca ne fonctionne pas !\n",
    "DT[(1:3), c(\"qualite\", \"capital\")]"
   ]
  },
  {
   "cell_type": "code",
   "execution_count": null,
   "metadata": {
    "collapsed": false
   },
   "outputs": [],
   "source": [
    "\n",
    "## pour conserver une syntaxe equivalente (avec les noms de colonnes dans un vecteur, entre \"\"), il faut rajouter with=FALSE\n",
    "DT[(1:3), c(\"qualite\", \"capital\"), with = FALSE]"
   ]
  },
  {
   "cell_type": "code",
   "execution_count": null,
   "metadata": {
    "collapsed": false
   },
   "outputs": [],
   "source": [
    "\n",
    "## L'autre option est d'utiliser la syntaxe data.table (mais qui peut etre moins pratique quand on a stocké \n",
    "## les noms de variables dans un vecteur keep par exemple)\n",
    "DT[(1:3), .(qualite, capital)]"
   ]
  },
  {
   "cell_type": "markdown",
   "metadata": {},
   "source": [
    "<br>\n",
    "### 4.2.2. Renommer et modifier l'ordre des colonnes ou des lignes\n",
    "\n",
    "Comme nous le verrons dans la suite, data.table permet d'effectuer un certain nombre d'operation très rapidement en efectuant les modifications par reference, c'est à dire par l'usage des pointeurs.<br>\n",
    "Les operateurs suivants fonctionnent pas référence : ils sont donc extremement rapide, y compris sur des datasets volumineux : <br>\n",
    "- <b>setnames</b>(DT, old, new) permet de remplacer le nom d'une colonne par reference\n",
    "- <b>setcolorder</b>(DT, ordre) permet de choisir l'ordre des colonnes\n"
   ]
  },
  {
   "cell_type": "code",
   "execution_count": null,
   "metadata": {
    "collapsed": false
   },
   "outputs": [],
   "source": [
    "# voici les colonnes disponibles dans notre dataset : \n",
    "# (ATTENTION, très important de remettre names(DT) dans un vecteur, sinon \"nom\" garde un lien avec names(DT) \n",
    "#            et on se retrouve a suffixer n fois le nom de colonnes !!)\n",
    "(nom <- c(names(DT)))"
   ]
  },
  {
   "cell_type": "code",
   "execution_count": null,
   "metadata": {
    "collapsed": false
   },
   "outputs": [],
   "source": [
    "# Considerons que je souhaite les suffixer par \"_MRH\" a la façon classique\n",
    "names(DT) <- paste0(nom, \"_MRH\")\n",
    "names(DT)"
   ]
  },
  {
   "cell_type": "code",
   "execution_count": null,
   "metadata": {
    "collapsed": false
   },
   "outputs": [],
   "source": [
    "# idem mais avec setnames\n",
    "setnames(DT,  paste0(nom, \"_MRH\"))\n",
    "names(DT)"
   ]
  },
  {
   "cell_type": "code",
   "execution_count": null,
   "metadata": {
    "collapsed": false
   },
   "outputs": [],
   "source": [
    "# Et maintenant on change l'ordre\n",
    "head(DT, 1)"
   ]
  },
  {
   "cell_type": "code",
   "execution_count": null,
   "metadata": {
    "collapsed": true
   },
   "outputs": [],
   "source": [
    "setcolorder(DT, order(names(DT)))"
   ]
  },
  {
   "cell_type": "code",
   "execution_count": null,
   "metadata": {
    "collapsed": false
   },
   "outputs": [],
   "source": [
    "head(DT, 1)"
   ]
  },
  {
   "cell_type": "markdown",
   "metadata": {},
   "source": [
    "<br>\n",
    "<br>\n",
    "La suite de cette section mentionne comment manipuler les data.table avec les fonctionnalités standard du package.\n",
    "Neanmoins, ces tables pouvant etre manipulées egalement avec la librairie dplyr vue précédemment, la section est mise à disposition pour les cas ou la taille des tables necessite un traitement specifique par clef (binary search) ou par reference (operateur :=)"
   ]
  },
  {
   "cell_type": "markdown",
   "metadata": {},
   "source": [
    "\n",
    "<br>\n",
    "### 4.2.3. Appliquer des Filtres\n",
    "<b><font color=steelblue>Ex.1</b></font> : Selection des appartements"
   ]
  },
  {
   "cell_type": "code",
   "execution_count": null,
   "metadata": {
    "collapsed": false
   },
   "outputs": [],
   "source": [
    "head( DT[habitat == \"appartement\"] , n=3)\n"
   ]
  },
  {
   "cell_type": "code",
   "execution_count": null,
   "metadata": {
    "collapsed": false
   },
   "outputs": [],
   "source": [
    "# en comparaison, avec un dataframe : \n",
    "DF <- as.data.frame(DT)\n",
    "head (DF[DF$habitat == \"appartement\", ], n=3)\n"
   ]
  },
  {
   "cell_type": "markdown",
   "metadata": {},
   "source": [
    "<br>\n",
    "<b><font color=steelblue>Ex.2</b></font> : Selection des capitaux entre 100 et 110"
   ]
  },
  {
   "cell_type": "code",
   "execution_count": null,
   "metadata": {
    "collapsed": false
   },
   "outputs": [],
   "source": [
    "head( DT[capital >=100  & capital <=105] , n=3)\n"
   ]
  },
  {
   "cell_type": "code",
   "execution_count": null,
   "metadata": {
    "collapsed": false
   },
   "outputs": [],
   "source": [
    "DT[, .N, by=habitat]"
   ]
  },
  {
   "cell_type": "markdown",
   "metadata": {},
   "source": [
    "\n",
    "<br>\n",
    "Pour mieux visualiser les prochaines operations, on reconstruit une data.table de petite dimension : "
   ]
  },
  {
   "cell_type": "markdown",
   "metadata": {},
   "source": [
    "<br>\n",
    "### 4.2.4. Ajouts de variable et agregations : utiliser le 3em argument \"by\"\n",
    "\n",
    "data.table permet de facilement integrer des comptages :  "
   ]
  },
  {
   "cell_type": "code",
   "execution_count": null,
   "metadata": {
    "collapsed": false
   },
   "outputs": [],
   "source": [
    "# Capital total et moyen, sans grouping by\n",
    "DT[, .(capital.tot = sum(capital), capital.moy = mean(capital))]"
   ]
  },
  {
   "cell_type": "markdown",
   "metadata": {},
   "source": [
    "Mais grace au 3em argument by, on peut integrer une conditionnalité : "
   ]
  },
  {
   "cell_type": "code",
   "execution_count": null,
   "metadata": {
    "collapsed": false
   },
   "outputs": [],
   "source": [
    "# capital moyen par habitat\n",
    "DT[, .(capital.moy = mean(capital)), by = habitat] "
   ]
  },
  {
   "cell_type": "code",
   "execution_count": null,
   "metadata": {
    "collapsed": false
   },
   "outputs": [],
   "source": [
    "set.seed(1)\n",
    "DT2 <- DT[sample(.N,6)] \n",
    "DT2"
   ]
  },
  {
   "cell_type": "code",
   "execution_count": null,
   "metadata": {
    "collapsed": false
   },
   "outputs": [],
   "source": [
    "\n",
    "# On calcule desormais le capital cumulé par habitat\n",
    "# A noter que la variable est affichée, mais n'est pas sauvegardée dans la data.table \n",
    "DT2[, .(qualite, capital, capital.cum.per_habitat = cumsum(capital)), by = habitat]"
   ]
  },
  {
   "cell_type": "code",
   "execution_count": null,
   "metadata": {
    "collapsed": false
   },
   "outputs": [],
   "source": [
    "\n",
    "# On peut même pousser le vice jusqu'à utiliser dans l'operande \"by\" le resultat d'une operation : \n",
    "DT2[, .(Count = .N, capital.tot.per.combi = sum(capital)) , by = .(combinaison = paste0(habitat, qualite))]"
   ]
  },
  {
   "cell_type": "markdown",
   "metadata": {},
   "source": [
    "<br>\n",
    "# <span style=\"font-family:Calibri\">4.3. Opérations avancées</span>\n",
    "### 4.3.1. Notion de recherche binaire (binary search) avec setkey\n",
    "La puissance des data.table est d'offrir la possibilité de construction d'index via l'option <b>setkey</b><br>\n",
    "Pour autant, nous pourrons en tester la puissance réelle sous RStudio, le container Jupyter ne permettant pas simplement de traiter des grosses données (en tous cas, je n'y arrive pas)\n"
   ]
  },
  {
   "cell_type": "code",
   "execution_count": null,
   "metadata": {
    "collapsed": false
   },
   "outputs": [],
   "source": [
    "# sans setkey, voici le moyen de selectionner les liges suivant le filtre mentionné : \n",
    "DT[habitat == \"appartement\" & qualite == \"E\" ]\n"
   ]
  },
  {
   "cell_type": "code",
   "execution_count": null,
   "metadata": {
    "collapsed": true
   },
   "outputs": [],
   "source": [
    "setkey(DT, habitat, qualite)"
   ]
  },
  {
   "cell_type": "code",
   "execution_count": null,
   "metadata": {
    "collapsed": false
   },
   "outputs": [],
   "source": [
    "# avec setkey : \n",
    "DT[.(\"appartement\", \"E\")]\n"
   ]
  },
  {
   "cell_type": "markdown",
   "metadata": {},
   "source": [
    "Exemple de selection de colonne en exploitant la recherche binaire"
   ]
  },
  {
   "cell_type": "code",
   "execution_count": null,
   "metadata": {
    "collapsed": false
   },
   "outputs": [],
   "source": [
    "head( DT[.(\"appartement\", \"E\"), .(capital) ] )   \n",
    "# dans ce cas, on recherche le couple(\"appartement\", \"E\") de notre clef, et on affiche uniquement capital\n"
   ]
  },
  {
   "cell_type": "markdown",
   "metadata": {},
   "source": [
    "<br>\n",
    "### 4.3.2.  Fonctions spéciales et lapply</span>\n",
    "\n",
    "Quelques operateurs précalculés peuvent faciliter la lisibilité du code, et permettre d'appliquer en serie des operations : <br>\n",
    "- <b>.N</b> que nous avons deja vu, et qui donne le nombre de ligne de l'ensemble ou sous ensemble consideré<br>\n",
    "- <b>.I</b> contient le numéro de la (ou des) lignes consideré<br>\n",
    "- <b>.SD</b> (pour Subset of Data), contient les valeurs de toutes les colonnes sauf celles specifiées dans le by.\n",
    "- <b>.SDcols</b> specifie les colonnes de DT incluses dans <b>.SD</b>\n"
   ]
  },
  {
   "cell_type": "markdown",
   "metadata": {},
   "source": [
    "\n",
    "\n",
    "\n",
    "Considerons un nouveau dataset, contenant plusieurs colonnes numeriques."
   ]
  },
  {
   "cell_type": "code",
   "execution_count": null,
   "metadata": {
    "collapsed": false
   },
   "outputs": [],
   "source": [
    "set.seed(1)\n",
    "DT <- data.table(x1 = rpois(10, 10), x2 = rpois(10, 5), y = rnorm(10, 20), z = rnorm(10, 5, 1))\n",
    "DT"
   ]
  },
  {
   "cell_type": "markdown",
   "metadata": {},
   "source": [
    "Mettons que l'objectif est de rajouter pour chacune de nos colonnes numeriques une nouvelle colonne reproduisant leur moyenne. <br>\n",
    "Dans une version basique, cela donnerait :"
   ]
  },
  {
   "cell_type": "code",
   "execution_count": null,
   "metadata": {
    "collapsed": false
   },
   "outputs": [],
   "source": [
    "DT[, .(x1moy = mean(x1), x2moy = mean(x2), ymoy = mean(y), zmoy = mean(z) )]"
   ]
  },
  {
   "cell_type": "markdown",
   "metadata": {},
   "source": [
    "On peut integrer dans le 2nd operande \"y\" de data.table une fonction de la famille des apply : lapply, afin d'appliquer a l'ensemble des colonnes contenu dans .SD  (nous verrons plus longuement les fonctions de la famille des apply dans la suite)"
   ]
  },
  {
   "cell_type": "code",
   "execution_count": null,
   "metadata": {
    "collapsed": false
   },
   "outputs": [],
   "source": [
    "DT[, lapply(.SD, mean)]\n"
   ]
  },
  {
   "cell_type": "markdown",
   "metadata": {},
   "source": [
    "Si l'operation ne doit etre pratiquée sur sur un sous ensemble des colonnes, on peut exploiter .SDcols, qui contient les noms des colonnes de .SD"
   ]
  },
  {
   "cell_type": "code",
   "execution_count": null,
   "metadata": {
    "collapsed": false
   },
   "outputs": [],
   "source": [
    "DT[, lapply(.SD, mean), .SDcols=c(\"x1\", \"x2\")]"
   ]
  },
  {
   "cell_type": "code",
   "execution_count": null,
   "metadata": {
    "collapsed": false
   },
   "outputs": [],
   "source": [
    "#.SDcols supportant toute operation lui produisant le vecteur identifiant des colonnes...\n",
    "DT[, lapply(.SD, mean), .SDcols=(1:2)]"
   ]
  },
  {
   "cell_type": "code",
   "execution_count": null,
   "metadata": {
    "collapsed": false
   },
   "outputs": [],
   "source": [
    "#.SDcols supportant toute operation lui produisant le vecteur identifiant des colonnes...\n",
    "DT[, lapply(.SD, mean), .SDcols=paste0(\"x\",1:2)]"
   ]
  },
  {
   "cell_type": "code",
   "execution_count": null,
   "metadata": {
    "collapsed": false
   },
   "outputs": [],
   "source": [
    "DT[, lapply(.SD, function(x) { c(mean(x), sum(x))} ) ]"
   ]
  },
  {
   "cell_type": "markdown",
   "metadata": {},
   "source": [
    "<br>\n",
    "### 4.3.3. Manipuler des colonnes par référence avec := </span>\n",
    "\n",
    "Utlisation de l'operateur <b>:=</b> \n",
    "Possibilité de chaîner les opérations"
   ]
  },
  {
   "cell_type": "code",
   "execution_count": null,
   "metadata": {
    "collapsed": false
   },
   "outputs": [],
   "source": [
    "\n",
    "# On peut egalement ajouter directement l'element agregé à la data.table : \n",
    "head( DT2[, capital.tot := sum(capital)] )"
   ]
  },
  {
   "cell_type": "code",
   "execution_count": null,
   "metadata": {
    "collapsed": false
   },
   "outputs": [],
   "source": [
    "\n",
    "# Pour ajouter plusieurs nouvelles variables calculées à la data.table entiere, on peut chaîner les operations : \n",
    "head( DT2[, capital.med := median(capital)]\n",
    "         [, capital.TTC := capital*1.206] \n",
    "    )"
   ]
  },
  {
   "cell_type": "code",
   "execution_count": null,
   "metadata": {
    "collapsed": false
   },
   "outputs": [],
   "source": [
    "\n",
    "# La même chose, mais ou les indicateurs sont calculés par habitat pour l'un et par qualité pour l'autre\n",
    "head( DT2[, capital.sum.per.hab := sum(capital), by = habitat]\n",
    "         [, capital.sum.per.qual := sum(capital), by = qualite]\n",
    "    )"
   ]
  },
  {
   "cell_type": "code",
   "execution_count": null,
   "metadata": {
    "collapsed": false
   },
   "outputs": [],
   "source": [
    "\n",
    "# On peut même pousser le vice jusqu'à utiliser dans l'operande \"by\" le resultat d'une operation : \n",
    "DT2[, capital.sum.per.combi :=sum(capital) , by = .(combinaison = paste0(habitat, qualite))]"
   ]
  },
  {
   "cell_type": "markdown",
   "metadata": {},
   "source": [
    "Le risque lié a cette operateur := est de se retrouver avec des colonnes dont on souhaite finalement se debarasser.\n",
    "Une facon de vider une colonne de data.table est de la forcer a NULL (cela marche aussi avec les autres objets en R): "
   ]
  },
  {
   "cell_type": "code",
   "execution_count": null,
   "metadata": {
    "collapsed": false
   },
   "outputs": [],
   "source": [
    "DT2[, capital.med:=NULL, ][, capital.tot:=NULL]\n"
   ]
  },
  {
   "cell_type": "markdown",
   "metadata": {},
   "source": [
    "<br>\n",
    "Pour en savoir plus : \n",
    "- l'aide mémoire https://s3.amazonaws.com/assets.datacamp.com/img/blog/data+table+cheat+sheet.pdf\n",
    "- Wiki sur Github : https://github.com/Rdatatable/data.table/wiki\n",
    "- Vignette sur CRAN : https://cran.r-project.org/web/packages/data.table/vignettes/datatable-intro.pdf\n",
    "- Un site reprenant l'ensemble du tres complet cours de DataCamp : https://rpubs.com/davoodastaraky/dataTable"
   ]
  }
 ],
 "metadata": {
  "kernelspec": {
   "display_name": "R",
   "language": "R",
   "name": "ir"
  },
  "language_info": {
   "codemirror_mode": "r",
   "file_extension": ".r",
   "mimetype": "text/x-r-source",
   "name": "R",
   "pygments_lexer": "r",
   "version": "3.2.3"
  }
 },
 "nbformat": 4,
 "nbformat_minor": 0
}
