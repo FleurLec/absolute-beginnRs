{
 "cells": [
  {
   "cell_type": "markdown",
   "metadata": {},
   "source": [
    "# Section 4 - R comme RAM"
   ]
  },
  {
   "cell_type": "markdown",
   "metadata": {},
   "source": [
    "Cette section s'appuie largement sur le très bon article d'Advanced R : http://adv-r.had.co.nz/memory.html\n",
    "<br>\n",
    "# <span style=\"color: steelblue\">3. Comprendre le fonctionnement de la mémoire en R</span>\n",
    "\n",
    "R est construit pour charger les données calculées en mémoire vive (RAM). \n",
    "Si cela a permis une reactivité superieure au chargement en mémoire morte (ROM), cela limite egalement intraitablement la quantité de données à la mémoire physiquement installée dans l'ordinateur.  \n",
    "A moins d'utiliser des solutions \"out-of-memory\" (type RevoScaleR dans Revolution R Enterprise), R alloue systematiquement la mémoire pour chaque objet de la session de travail.  \n",
    "Il est donc necessaire de faire attention à la gestion de la mémoire pour éviter le fatidique \"cannot allocate memory\"\n",
    "\n",
    "\n"
   ]
  },
  {
   "cell_type": "markdown",
   "metadata": {},
   "source": [
    "\n",
    "# <span style=\"font-family:Calibri\">3.1 En savoir plus sur le systeme</span>"
   ]
  },
  {
   "cell_type": "markdown",
   "metadata": {},
   "source": [
    "Avant toute discussion sur la mémoire, il est necessaire de connaitre quelques elements sur le systeme (ie notre PC !)  \n",
    "(pour info, quelques elements sur les variables d'environnement ici : https://stat.ethz.ch/R-manual/R-devel/library/base/html/EnvVar.html)"
   ]
  },
  {
   "cell_type": "code",
   "execution_count": 1,
   "metadata": {
    "collapsed": false
   },
   "outputs": [
    {
     "data": {
      "text/plain": [
       "               _                           \n",
       "platform       x86_64-w64-mingw32          \n",
       "arch           x86_64                      \n",
       "os             mingw32                     \n",
       "system         x86_64, mingw32             \n",
       "status                                     \n",
       "major          3                           \n",
       "minor          2.3                         \n",
       "year           2015                        \n",
       "month          12                          \n",
       "day            10                          \n",
       "svn rev        69752                       \n",
       "language       R                           \n",
       "version.string R version 3.2.3 (2015-12-10)\n",
       "nickname       Wooden Christmas-Tree       "
      ]
     },
     "execution_count": 1,
     "metadata": {},
     "output_type": "execute_result"
    },
    {
     "data": {
      "text/html": [
       "\"/x64\""
      ],
      "text/latex": [
       "\"/x64\""
      ],
      "text/markdown": [
       "\"/x64\""
      ],
      "text/plain": [
       "[1] \"/x64\""
      ]
     },
     "execution_count": 1,
     "metadata": {},
     "output_type": "execute_result"
    },
    {
     "data": {
      "text/html": [
       "8"
      ],
      "text/latex": [
       "8"
      ],
      "text/markdown": [
       "8"
      ],
      "text/plain": [
       "[1] 8"
      ]
     },
     "execution_count": 1,
     "metadata": {},
     "output_type": "execute_result"
    }
   ],
   "source": [
    "version\n",
    "Sys.getenv(\"R_ARCH\")      #.i386     : 32bits / x64      : 64bits\n",
    ".Machine$sizeof.pointer   # 4bytes   : 32bits / 8bytes   : 64bits"
   ]
  },
  {
   "cell_type": "markdown",
   "metadata": {},
   "source": [
    "En 32 bits, on a un bus de 32 \"cellules\" qui peuvent prendre la valeur 0 ou 1, soit 2^32 codes differents que le système peut adresser.  \n",
    "Or 2 puissance 32 = 4 294 967 296 adresses différentes, ce qui correspond à 4 Go de RAM.  \n",
    "Donc un processeur 32 bits ne peut pas depasser les 4GO\n",
    "Mais comme il a besoin d'adresser autre chose que la RAM (ressources carte-mère, cartes graphiques, ...), il ne reste qu'environ 3 Go de RAM adressable suivant la configuration du PC\n",
    "\n",
    "\n",
    "En 64 bits , le processeur peut adresser 4Go², soit prêt de 2*10^20 adresses differentes (ce qui ne signifie pas que le systeme d'exploitation les supportent).  \n",
    "Windows 7 par exemple supporte jusqu'a 192 GB de RAM.  \n",
    "\n",
    "Dans les faits, chez AXA, les ordinateurs standards disposent de 4Go de RAM, 16Go pour les postes developpeurs. Les serveurs, quant à eux,sont souvent par défaut limités a 2Go par user."
   ]
  },
  {
   "cell_type": "markdown",
   "metadata": {},
   "source": [
    "# <span style=\"font-family:Calibri\">3.2. Memory.limit et object_size</span>\n"
   ]
  },
  {
   "cell_type": "code",
   "execution_count": 2,
   "metadata": {
    "collapsed": false
   },
   "outputs": [
    {
     "data": {
      "text/html": [
       "3583"
      ],
      "text/latex": [
       "3583"
      ],
      "text/markdown": [
       "3583"
      ],
      "text/plain": [
       "[1] 3583"
      ]
     },
     "execution_count": 2,
     "metadata": {},
     "output_type": "execute_result"
    }
   ],
   "source": [
    "memory.limit()"
   ]
  },
  {
   "cell_type": "code",
   "execution_count": 3,
   "metadata": {
    "collapsed": false
   },
   "outputs": [
    {
     "ename": "ERROR",
     "evalue": "Error in memory.limit(size = 5000): ne soyez pas stupide ! Votre machine a une limite de mémoire adressable de 4 Go\n",
     "output_type": "error",
     "traceback": [
      "Error in memory.limit(size = 5000): ne soyez pas stupide ! Votre machine a une limite de mémoire adressable de 4 Go\n"
     ]
    }
   ],
   "source": [
    "## on peut essayer de jouer au malin...\n",
    "memory.limit(size=5000)"
   ]
  },
  {
   "cell_type": "markdown",
   "metadata": {},
   "source": [
    "Pour comprendre la gestion de la mémoire dans R, et la place que prennent les objets, on peut utiliser pryr::object_size(). <br>\n",
    "<b>object_size()</b> : poids des objets en mémoire (en bytes)"
   ]
  },
  {
   "cell_type": "code",
   "execution_count": null,
   "metadata": {
    "collapsed": false
   },
   "outputs": [],
   "source": [
    "library(pryr)\n",
    "object_size(1:10)\n",
    "object_size(mean)\n",
    "object_size(mtcars)"
   ]
  },
  {
   "cell_type": "markdown",
   "metadata": {},
   "source": [
    "Point important : un objet ne rend la mémoire qu'il occupe qu'une fois que <u>plus aucun autre objet n'y fait reference</u>.  \n",
    "Prenons l'exemple ci dessous en utilisant <b>mem_change()</b>, qui indique le differentiel d'espace occupé suite a l'action réalisée"
   ]
  },
  {
   "cell_type": "code",
   "execution_count": null,
   "metadata": {
    "collapsed": false
   },
   "outputs": [],
   "source": [
    "# Creation d'un objet x, et copie dans y\n",
    "mem_change(x <- 1:1e8)\n",
    "mem_change(y <- x)\n",
    "\n"
   ]
  },
  {
   "cell_type": "code",
   "execution_count": null,
   "metadata": {
    "collapsed": false
   },
   "outputs": [],
   "source": [
    "# Pas d'impact de la suppression de x car y pointe toujours dessus\n",
    "mem_change(rm(x))\n"
   ]
  },
  {
   "cell_type": "code",
   "execution_count": null,
   "metadata": {
    "collapsed": false
   },
   "outputs": [],
   "source": [
    "# Maintenant que l'on supprime y, la mémoire est rendue\n",
    "mem_change(rm(y))\n"
   ]
  },
  {
   "cell_type": "markdown",
   "metadata": {},
   "source": [
    "# <span style=\"font-family:Calibri\">3.3. Garbage Collection, ncells et vcells</span> "
   ]
  },
  {
   "cell_type": "markdown",
   "metadata": {},
   "source": [
    "En R, la mémoire peut etre caracterisée suivant 2 dimensions : \n",
    "- la mémoire allouée pour les vecteurs et les tableaux (Vcells)\n",
    "- celle allouée aux objets comme les listes (Ncells)\n",
    "\n",
    "en invoquant la fonction gc() (Garbage Collection), on peut voir ces résultats : "
   ]
  },
  {
   "cell_type": "code",
   "execution_count": 4,
   "metadata": {
    "collapsed": false
   },
   "outputs": [
    {
     "data": {
      "text/html": [
       "<table>\n",
       "<thead><tr><th></th><th scope=col>used</th><th scope=col>(Mb)</th><th scope=col>gc trigger</th><th scope=col>(Mb)</th><th scope=col>max used</th><th scope=col>(Mb)</th></tr></thead>\n",
       "<tbody>\n",
       "\t<tr><th scope=row>Ncells</th><td>323540.0</td><td>     8.7</td><td>592000.0</td><td>    15.9</td><td>460000.0</td><td>    12.3</td></tr>\n",
       "\t<tr><th scope=row>Vcells</th><td>354750.0</td><td>     2.8</td><td>786432.0</td><td>     6.0</td><td>678032.0</td><td>     5.2</td></tr>\n",
       "</tbody>\n",
       "</table>\n"
      ],
      "text/latex": [
       "\\begin{tabular}{r|llllll}\n",
       "  & used & (Mb) & gc trigger & (Mb) & max used & (Mb)\\\\\n",
       "\\hline\n",
       "\tNcells & 323540.0 &      8.7 & 592000.0 &     15.9 & 460000.0 &     12.3\\\\\n",
       "\tVcells & 354750.0 &      2.8 & 786432.0 &      6.0 & 678032.0 &      5.2\\\\\n",
       "\\end{tabular}\n"
      ],
      "text/markdown": [
       "1. 323540\n",
       "2. 354750\n",
       "3. 8.7\n",
       "4. 2.8\n",
       "5. 592000\n",
       "6. 786432\n",
       "7. 15.9\n",
       "8. 6\n",
       "9. 460000\n",
       "10. 678032\n",
       "11. 12.3\n",
       "12. 5.2\n",
       "\n",
       "\n"
      ],
      "text/plain": [
       "         used (Mb) gc trigger (Mb) max used (Mb)\n",
       "Ncells 323540  8.7     592000 15.9   460000 12.3\n",
       "Vcells 354750  2.8     786432  6.0   678032  5.2"
      ]
     },
     "execution_count": 4,
     "metadata": {},
     "output_type": "execute_result"
    }
   ],
   "source": [
    "(g <- gc(verbose = TRUE))"
   ]
  },
  {
   "cell_type": "markdown",
   "metadata": {},
   "source": [
    " - Les <b>Ncells</b> prennent 28 bytes/cellule sur les systemes 32-bit (le double sur les systemes 64 bits)  \n",
    " - les <b>VCells</b> prennent 8 bytes/cellule quel que soit le systeme\n",
    " \n",
    " - la colonne <b>\"used\"</b> indique le nombre de cellules allouées (et le nbe correspondant de Mb, arrondi a 0.1Mb superieur)\n",
    " - la colonne <b>\"gc trigger\"</b> mentionne a quel moment la collecte sera lancée par R.\n",
    " - la colonne <b>“max used”</b> rappelle l'espace maximum utilisé depuis la dernière collecte /le dernier lancement du moteur R"
   ]
  },
  {
   "cell_type": "code",
   "execution_count": null,
   "metadata": {
    "collapsed": false
   },
   "outputs": [],
   "source": [
    "## Recalcul du nombre de cellules utilisées : \n",
    "round((g[1,1]*28)/1024^2, 2)"
   ]
  },
  {
   "cell_type": "markdown",
   "metadata": {},
   "source": [
    "La collecte est automatiquement faite par R lorsque un objet n'est plus utilisé, i.e. plus aucun element ne pointe vers cet objet.  \n",
    "\n",
    "Néanmoins, si on souhaite rendre de l'espace à un instant t: <b>gc(reset = TRUE, verbose = TRUE)</b>"
   ]
  },
  {
   "cell_type": "markdown",
   "metadata": {},
   "source": [
    "# <span style=\"font-family:Calibri\">3.4. multilevelPSA::lsos()</span> \n",
    "\n",
    "Cette fonction retourne egalement la taille des objets en mémoire de façon synthetique et user friendly.  \n",
    "J'aurais plutot tendance à la conseiller."
   ]
  },
  {
   "cell_type": "code",
   "execution_count": null,
   "metadata": {
    "collapsed": false
   },
   "outputs": [],
   "source": [
    "#install.packages(\"multilevelPSA\", repos = \"http://cran.us.r-project.org\")\n",
    "library(multilevelPSA, warn.conflicts = FALSE, verbose = FALSE)\n",
    "lsos()"
   ]
  },
  {
   "cell_type": "raw",
   "metadata": {},
   "source": [
    "## Voici un exemple réalisé sur un poste developpeur :\n",
    "\n",
    "> a = matrix(NA, 45000000, 60)\n",
    "> lsos()\n",
    "                    Type        Size PrettySize     Rows Columns\n",
    "a                 matrix 10800000200    10.1 Gb 45000000      60\n",
    "DF.rabais     data.frame    49554776    47.3 Mb   289605      17\n",
    "y                   list    12000192    11.4 Mb        3      NA\n",
    "SRA           data.table     9918688     9.5 Mb    95260       8\n",
    "x                integer     4000040     3.8 Mb  1000000      NA\n",
    "freq.perc.tot      table        1400     1.4 Kb        2       5\n",
    "freq.perc.col     matrix        1344     1.3 Kb        5       2\n",
    "freq               table        1320     1.3 Kb        2       5\n",
    "freq.perc.row data.frame        1288     1.3 Kb        2       5\n",
    "freq.tot.col     integer         512  512 bytes        5      NA"
   ]
  },
  {
   "cell_type": "markdown",
   "metadata": {},
   "source": [
    "## 2.5.2. cannot allocate vector of ..."
   ]
  },
  {
   "cell_type": "markdown",
   "metadata": {},
   "source": [
    "Grand classique sous R, qu'on ne sait pas forcément (ni toujours..) résoudre.  \n",
    "Cette erreur souligne l'incapacité de R a allouer un vecteur/objet de la taille indiquée.  \n",
    "A noter que dans un environnement a 32-bit, il se peut qu'il y ait suffisamment de mémoire libre, mais pas forcement de suffisamment grand blocs contigus d'adresse mémoire pour le mapper."
   ]
  },
  {
   "cell_type": "markdown",
   "metadata": {
    "collapsed": true
   },
   "source": [
    "# <span style=\"font-family:Calibri\">3.5. Autres pistes</span>\n",
    "### Package filehash"
   ]
  },
  {
   "cell_type": "markdown",
   "metadata": {},
   "source": [
    "Pour ceux qui connaissent les cours du John Hopkins Institute sur Coursera, notons l'existence du package filehash() developpé par Roger Peng.  \n",
    "Celui permet de sauver des objets sur le disque et de rappeler automatiquement si necessaire.  \n",
    "\n"
   ]
  },
  {
   "cell_type": "markdown",
   "metadata": {},
   "source": [
    "###  Pré-allouer la mémoire.\n",
    "\n",
    "There are a whole family of functions in R called functionals, or apply functions, which take vectors (or matrices, or lists) of values and apply arbitrary functions to each. Because these can use arbitrary functions, they are NOT compiled. Functionals mostly are written in pure R, and they speed up code only in certain cases.\n",
    "\n",
    "One operation that is slow in R, and somewhat slow in all languages, is memory allocation. So one of the slower ways to write a for loop is to resize a vector repeatedly, so that R has to re-allocate memory repeatedly, like this:\n",
    "\n",
    "j <- 1\n",
    "for (i in 1:10) {\n",
    "    j[i] = 10\n",
    "}\n",
    "Here, in each repetition of the for loop, R has to re-size the vector and re-allocate memory. It has to find the vector in memory, create a new vector that will fit more data, copy the old data over, insert the new data, and erase the old vector. This can get very slow as vectors get big.\n",
    "\n",
    "If one pre-allocates a vector that fits all the values, R doesn’t have to re-allocate memory each iteration, and the results can be much faster. Here’s how you’d do that for the above case:\n",
    "\n",
    "j <- rep(NA, 10)\n",
    "for (i in 1:10) {\n",
    "    j[i] = 10\n",
    "}"
   ]
  }
 ],
 "metadata": {
  "kernelspec": {
   "display_name": "R64bit",
   "language": "R",
   "name": "ir64bit"
  },
  "language_info": {
   "codemirror_mode": "r",
   "file_extension": ".r",
   "mimetype": "text/x-r-source",
   "name": "R",
   "pygments_lexer": "r",
   "version": "3.2.3"
  }
 },
 "nbformat": 4,
 "nbformat_minor": 0
}
