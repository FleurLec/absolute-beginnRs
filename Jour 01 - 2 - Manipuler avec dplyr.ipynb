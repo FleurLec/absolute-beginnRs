{
 "cells": [
  {
   "cell_type": "markdown",
   "metadata": {},
   "source": [
    "# Section 2 - Quelques pas plus loin en R\n"
   ]
  },
  {
   "cell_type": "markdown",
   "metadata": {},
   "source": [
    "## <span style=\"font-family:Calibri\">2.3. Manipuler les données (avec dplyr)</span>\n",
    "\n",
    "<font size=3 color=grey>\n",
    " 2.3.1. Renommer des variables (rappel) <br>\n",
    " 2.3.2. Selectionner des variables <b><font color=#3355BB size=3>SELECT </font></b><br>\n",
    " 2.3.3. Créer de nouvelles variables <b><font color=#3355BB size=3>MUTATE </font></b><br>\n",
    " 2.3.4. Filtrer <b><font color=#3355BB size=3>FILTER </font></b> <br>\n",
    " 2.3.5. Trier <b><font color=#3355BB size=3>ARRANGE </font></b><br>\n",
    " 2.3.6. Grouper <b><font color=#3355BB size=3>GROUP_BY </font></b> et <b><font color=#3355BB size=3>SUMMARISE </font></b> <br>\n",
    " 2.3.7. Les jointures<br>\n",
    " 2.3.8. l'opérateur \"then\" %>%<br>\n",
    "</font>\n",
    "<br><br><br>"
   ]
  },
  {
   "cell_type": "markdown",
   "metadata": {},
   "source": [
    "<div style=\"border: 2px solid #1b70b8; padding: 3px; background-color: #c5ddf6; -moz-border-radius-topleft: 5px; -moz-border-radius-topright: 5px; -moz-border-radius-bottomright: 5px; -moz-border-radius-bottomleft: 5px;\">\n",
    "<b><font size = 3>Rappel des operateurs logiques et de selection </font></b><br>\n",
    " - ordre            : x >= 1 <br>\n",
    " - égalité          : x == 1 <br>\n",
    " - inégalité        : x != 1 <br>\n",
    " - appartenance     : x %in% (\"a\", \"b\") <br>\n",
    " - non appartenance : !(x %in% (\"a\", \"b\"))\n",
    " <br>\n",
    "<b>et</b> est représenté par <b>&</b> <br>\n",
    "<b>ou</b> est représenté par <b>|</b> <br>\n",
    "<br>\n",
    "</div>"
   ]
  },
  {
   "cell_type": "markdown",
   "metadata": {},
   "source": [
    "<br>\n",
    "# <span style=\"font-family:Calibri\">2.3. Manipuler les données (avec dplyr) </span>\n",
    "\n",
    "- package élaboré par Hadley Wickham \n",
    "- commpatible avec data.frame, data.table, MariaDB, SQLLite, MySQL...\n",
    "\n",
    "https://github.com/hadley/dplyr\n",
    "https://cran.rstudio.com/web/packages/dplyr/vignettes/introduction.html"
   ]
  },
  {
   "cell_type": "markdown",
   "metadata": {},
   "source": [
    "<i>Nota : Dplyr utilise une technique nommée <u><b>Evaluation Non Standard (NSE)</u></b>.  \n",
    "NSE est utile pour limiter la longueur de code, mais permet egalement de traduire en sous marin le code R en SQL.  \n",
    "\n",
    "Néanomins, si NSE est très pratique pour l'usage interactif, il peut rendre dans certains la programmation plus complexe (si les \"raccourcis\" n'ont pas été pré-créés).  \n",
    "\n",
    "Toutes les fonctions de dplyr, qui utilisent NSE, on egalement une version SE.  \n",
    "Le nom de la fonction SE est identique à celui de NSE mais suffixé _.  \n",
    "Par exemple, la version SE de summarise() est summarise_(), select()\n",
    "<br>\n",
    "vignette(\"nse\") pour + d'infos </i>"
   ]
  },
  {
   "cell_type": "code",
   "execution_count": null,
   "metadata": {},
   "outputs": [],
   "source": [
    "library(dplyr, verbose = FALSE, warn.conflicts = FALSE)"
   ]
  },
  {
   "cell_type": "code",
   "execution_count": null,
   "metadata": {},
   "outputs": [],
   "source": [
    "set.seed(1)\n",
    "N <- 50\n",
    "\n",
    "DF <- data.frame(tmp.habitat = sample(c(\"appartement\", \"maison\") , N, replace = T),\n",
    "                 tmp.qualite = sample(LETTERS[(1:5)], N, replace = T),\n",
    "                 tmp.capital = rpois(N, 100))\n",
    "\n",
    "DF$tmp.ligne <- as.integer(rownames(DF) )   # nota : par defaut, le nom de la ligne est son numero. \n",
    "                                            #        si deja nommée, utiliser as.integer(rownames())\n",
    "\n",
    "head(DF)\n",
    "paste(nrow(DF), \"lignes dans l'objet\")\n",
    "\n",
    "class(DF)"
   ]
  },
  {
   "cell_type": "code",
   "execution_count": null,
   "metadata": {},
   "outputs": [],
   "source": [
    "set.seed(1)\n",
    "(DF2 <- head(DF))\n",
    "\n"
   ]
  },
  {
   "cell_type": "markdown",
   "metadata": {},
   "source": [
    "### 2.3.1. Renommer des variables (rappel)\n",
    "\n",
    "- names(),\n",
    "- colnames() \n",
    "- rownames() "
   ]
  },
  {
   "cell_type": "code",
   "execution_count": null,
   "metadata": {},
   "outputs": [],
   "source": [
    "names(DF)"
   ]
  },
  {
   "cell_type": "code",
   "execution_count": null,
   "metadata": {},
   "outputs": [],
   "source": [
    "names(DF) <- c(\"habitat\", \"qualite\", \"capital\", \"ligne\")\n",
    "names(DF)"
   ]
  },
  {
   "cell_type": "code",
   "execution_count": null,
   "metadata": {},
   "outputs": [],
   "source": [
    "names(DF2)\n",
    "names(DF2) <- names(DF)\n",
    "names(DF2)"
   ]
  },
  {
   "cell_type": "markdown",
   "metadata": {},
   "source": [
    "<br>\n",
    "### 2.3.2. Selectionner des variables <b><font color=#3355BB size=3>SELECT </font></b>\n",
    "On peut facilement reproduire l'equivalent d'un <b>KEEP</b> ou d'un <b>DROP</b>, avec en outre la possibilité de test sur le nom de variables : <br>\n",
    "<b>starts_with(\"\")</b> permet de detecter les modalités suivant leur prefixe (equivalent de VAR: en SAS)<br>\n",
    "<b>ends_with(\"\")</b>   permet de detecter les modalités suivant leur suffixe<br>\n",
    "<b>contains(\"\")</b>    permet de detecter les modalités contenant le pattern indiqué\n"
   ]
  },
  {
   "cell_type": "code",
   "execution_count": null,
   "metadata": {},
   "outputs": [],
   "source": [
    "select(DF2, c(ligne, habitat))"
   ]
  },
  {
   "cell_type": "code",
   "execution_count": null,
   "metadata": {},
   "outputs": [],
   "source": [
    "names(DF2)"
   ]
  },
  {
   "cell_type": "code",
   "execution_count": null,
   "metadata": {},
   "outputs": [],
   "source": [
    "select(DF2, -c(ligne, habitat))"
   ]
  },
  {
   "cell_type": "code",
   "execution_count": null,
   "metadata": {},
   "outputs": [],
   "source": [
    "select(DF2, contains(\"a\"))  ## Cette terminologie est tres pratique en relation avec les conventions de nommage Blueprint"
   ]
  },
  {
   "cell_type": "markdown",
   "metadata": {},
   "source": [
    "Exemple de select_ en <b>Evaluation Standard (SE)</b> :  \n",
    "Cette méthode est utile si l'on recupere les noms des variables par code par exemple,\n",
    "et qu'elles sont de fait encadrés par \"\""
   ]
  },
  {
   "cell_type": "code",
   "execution_count": null,
   "metadata": {},
   "outputs": [],
   "source": [
    "select(DF2, keep)"
   ]
  },
  {
   "cell_type": "code",
   "execution_count": null,
   "metadata": {},
   "outputs": [],
   "source": [
    "keep <- c(\"ligne\", \"habitat\")\n",
    "select_(DF2, .dots = keep)"
   ]
  },
  {
   "cell_type": "code",
   "execution_count": null,
   "metadata": {},
   "outputs": [],
   "source": [
    "drop <- paste0(\"-\", c(\"ligne\", \"habitat\"))\n",
    "select_(DF2, .dots = drop)"
   ]
  },
  {
   "cell_type": "markdown",
   "metadata": {},
   "source": [
    "### 2.3.3. Créer de nouvelles variables <b><font color=#3355BB size=3>MUTATE </font></b>\n",
    "Construction de nouvelles variables a la volée. Juxtaposition possible pour creer plusieurs variables en 1 coup.<br>\n",
    "Pour mettre a jour le dataframe, il faut bien rediriger le resultat du mutate vers DT2 !"
   ]
  },
  {
   "cell_type": "code",
   "execution_count": null,
   "metadata": {},
   "outputs": [],
   "source": [
    "(DF2 <- mutate(DF2, capital_moins_ligne = capital-ligne))"
   ]
  },
  {
   "cell_type": "code",
   "execution_count": null,
   "metadata": {},
   "outputs": [],
   "source": [
    " a <- names(DF2)[5]"
   ]
  },
  {
   "cell_type": "code",
   "execution_count": null,
   "metadata": {},
   "outputs": [],
   "source": [
    "b <- names(DF2)[(1:4)]"
   ]
  },
  {
   "cell_type": "code",
   "execution_count": null,
   "metadata": {},
   "outputs": [],
   "source": [
    "DF2[, c(a, b)]"
   ]
  },
  {
   "cell_type": "code",
   "execution_count": null,
   "metadata": {},
   "outputs": [],
   "source": [
    "mutate(DF2, qualite2 = paste0(qualite, ligne), \n",
    "            rand = runif(nrow(DF2)),\n",
    "            capital_cr = (capital - mean(capital))/sd(capital)\n",
    "      )"
   ]
  },
  {
   "cell_type": "markdown",
   "metadata": {},
   "source": [
    "### 2.3.4. Filtrer <b><font color=#3355BB size=3>FILTER </font></b> "
   ]
  },
  {
   "cell_type": "code",
   "execution_count": null,
   "metadata": {},
   "outputs": [],
   "source": [
    "filter(DF, qualite %in% c(\"B\", \"D\") & capital >=100)\n"
   ]
  },
  {
   "cell_type": "markdown",
   "metadata": {},
   "source": [
    "### 2.3.5. Trier <b><font color=#3355BB size=3>ARRANGE </font></b>"
   ]
  },
  {
   "cell_type": "code",
   "execution_count": null,
   "metadata": {},
   "outputs": [],
   "source": [
    "arrange(DF2, qualite)"
   ]
  },
  {
   "cell_type": "code",
   "execution_count": null,
   "metadata": {},
   "outputs": [],
   "source": [
    "arrange(DF2, qualite, desc(capital - ligne))"
   ]
  },
  {
   "cell_type": "markdown",
   "metadata": {},
   "source": [
    "### 2.3.6. Grouper <b><font color=#3355BB size=3>GROUP_BY </font></b> et <b><font color=#3355BB size=3>SUMMARISE </font></b> \n",
    "\n",
    " Le principe est de construire le vecteur de variables d'agregation grace a <b>group_by</b> puis l'utiliser dans <b>summarise</b><br>\n",
    " <br><u>Rappel de fonctions de calculs</u> : <br>\n",
    " * min(x), median(x), max(x), quantile(x, p)\n",
    " * n(), n_distinct(), sum(x), mean(x)\n",
    " * sum(x > 10), mean(x > 10)\n",
    " * sd(x), var(x), iqr(x), mad(x)"
   ]
  },
  {
   "cell_type": "code",
   "execution_count": null,
   "metadata": {},
   "outputs": [],
   "source": [
    "summarise(DF, total = sum(capital))"
   ]
  },
  {
   "cell_type": "code",
   "execution_count": null,
   "metadata": {},
   "outputs": [],
   "source": [
    "by_habitat <- group_by(DF, habitat)"
   ]
  },
  {
   "cell_type": "code",
   "execution_count": null,
   "metadata": {},
   "outputs": [],
   "source": [
    "summarise(by_habitat, total = sum(capital))"
   ]
  },
  {
   "cell_type": "code",
   "execution_count": null,
   "metadata": {},
   "outputs": [],
   "source": [
    "summarise(group_by(DF, habitat), total = sum(capital))"
   ]
  },
  {
   "cell_type": "code",
   "execution_count": null,
   "metadata": {},
   "outputs": [],
   "source": [
    "by_habitat_qualite <- group_by(DF, habitat, qualite)\n",
    "\n",
    "summarise(by_habitat_qualite,\n",
    "    capital.moy     = round(mean(capital), 1),\n",
    "    capital.med     = median(capital),\n",
    "    capital.q5      = quantile(capital, 0.05),\n",
    "    capital.over100 = sum(capital > 100)\n",
    ")"
   ]
  },
  {
   "cell_type": "markdown",
   "metadata": {},
   "source": [
    "### 2.3.7. Les jointures\n",
    "\n",
    "<table border = 1 align = left>\n",
    "<tr>\n",
    " <td>inner_join(x, y, by = c(\"clef1\", \"clef2\"))\n",
    " </td>\n",
    " <td>n'inclut que les lignes présentes dans x et y\n",
    " </td>\n",
    "</tr>\n",
    "<tr>\n",
    " <td>left_join(x, y, ..)\n",
    " </td>\n",
    " <td>inclut toutes les lignes de x, et matchent celles de y quand dispo, sinon NA\n",
    " </td>\n",
    "</tr>\n",
    "<tr>\n",
    " <td>semi_join(x, y, ..)\n",
    " </td>\n",
    " <td>inclut les lignes de x qui sont egalement dans y\n",
    " </td>\n",
    "</tr>\n",
    "<tr>\n",
    " <td>anti_join(x, y, ..)\n",
    " </td>\n",
    " <td>inclut les lignes de x qui ne sont pas dans y\n",
    " </td>\n",
    "</tr>\n",
    "</table>\n"
   ]
  },
  {
   "cell_type": "markdown",
   "metadata": {},
   "source": [
    "Nota : si les variables ont des noms differents, la syntaxe est la suivante :  "
   ]
  },
  {
   "cell_type": "raw",
   "metadata": {},
   "source": [
    "DF <- left_join(DF1, DF2, by = c(\"clef1\" = \"key1\",  \"clef2\" = \"key2\"))"
   ]
  },
  {
   "cell_type": "markdown",
   "metadata": {},
   "source": [
    "<div style=\"border: 0px solid #1b70b8; padding: 3px; background-color: #1b70b8;\">\n",
    "<font color = \"white\" size = 3> inner_join</font>"
   ]
  },
  {
   "cell_type": "markdown",
   "metadata": {},
   "source": [
    "<img src=\"http://upload.dinhosting.fr/V/D/W/join_inner_join.jpg\" height=\"30\" align=\"left\">"
   ]
  },
  {
   "cell_type": "markdown",
   "metadata": {},
   "source": [
    "<div style=\"border: 0px solid #1b70b8; padding: 3px; background-color: #1b70b8;\">\n",
    "<font color = \"white\" size = 3> left_join</font>"
   ]
  },
  {
   "cell_type": "markdown",
   "metadata": {},
   "source": [
    "\n",
    "<img src=\"http://upload.dinhosting.fr/Q/V/O/join_left_join.jpg\" height=\"50\" align=\"left\">"
   ]
  },
  {
   "cell_type": "markdown",
   "metadata": {},
   "source": [
    "<div style=\"border: 0px solid #1b70b8; padding: 3px; background-color: #1b70b8;\">\n",
    "<font color = \"white\" size = 3> anti_join</font>"
   ]
  },
  {
   "cell_type": "markdown",
   "metadata": {},
   "source": [
    "<img src=\"http://upload.dinhosting.fr/k/v/w/join_anti_join.jpg\" height=\"50\" align=\"left\">"
   ]
  },
  {
   "cell_type": "markdown",
   "metadata": {},
   "source": [
    "<div style=\"border: 0px solid #1b70b8; padding: 3px; background-color: #1b70b8;\">\n",
    "<font color = \"white\" size = 3> semi_join</font>"
   ]
  },
  {
   "cell_type": "markdown",
   "metadata": {},
   "source": [
    "\n",
    "<img src=\"http://upload.dinhosting.fr/i/z/o/join_semi_join.jpg\" height=\"50\" align=\"left\">"
   ]
  },
  {
   "cell_type": "markdown",
   "metadata": {},
   "source": [
    "<br><br><br>\n",
    "### 2.3.7. l'opérateur \"then\" %>%\n",
    "\n",
    "- issu de library(magrittr)\n",
    "- idem <b>|</b> sur unix.\n",
    "- enchaine au lieu d'imbriquer les opérations N-1 => N\n",
    "<br>\n",
    "<br>\n",
    "Imaginons que l'on souhaite \n",
    " - prendre les observations dont le capital est >100\n",
    " - calculer la moyenne et l'ecart type du capital par habitat x qualité, ainsi que le nombre d'obs agregées\n",
    " - et ne conserver que les lignes telles que ce nombre d'obs agregé est >=5"
   ]
  },
  {
   "cell_type": "code",
   "execution_count": null,
   "metadata": {},
   "outputs": [],
   "source": [
    "   filter(\n",
    "       summarise(\n",
    "            group_by(filter(DF, capital > 100), habitat, qualite), \n",
    "            capital.moy = mean(capital),\n",
    "            capital.sd  = sd(capital),\n",
    "            nobs        = n()\n",
    "                ),\n",
    "          nobs>5)\n",
    "\n"
   ]
  },
  {
   "cell_type": "code",
   "execution_count": null,
   "metadata": {},
   "outputs": [],
   "source": [
    "DF                                    %>%\n",
    "filter(capital > 100)                 %>%\n",
    "group_by(habitat, qualite)            %>%\n",
    "summarise(capital.moy = mean(capital),\n",
    "          capital.sd  = sd(capital),\n",
    "          nobs = n())                 %>%\n",
    "filter(nobs >5)\n"
   ]
  },
  {
   "cell_type": "markdown",
   "metadata": {},
   "source": [
    "<br><br><br>\n",
    "<br>\n",
    "<font color = \"00FF44\" size=5><b>A VOUS DE JOUER !!</b></font>\n",
    "\n"
   ]
  },
  {
   "cell_type": "markdown",
   "metadata": {},
   "source": [
    "1/ Charger le fichier des rabais Auto et verifier son contenu  <br><br>\n",
    "2/ Construire une variable primeht_tech = 100*primeht/rabais - \n",
    "   N'afficher que les 5 premieres lignes et les 3 colonnes considerées primeht, rabais et primeht_tech <br><br>\n",
    "3/ Calculer le rabais moyen, les primes ht et ht_tech moyenne et les effectifs par age du conducteur, trié par rabais croissant <br><br>\n",
    "4/ charger le fichier SRA201512.csv et effectuer la jointure par COD_auto.<br>\n",
    "   Nommez la table resultants DF.rabais.SRA <br><br>\n",
    "5/ Effectuez la même opération qu'au point 3/ restreint aux vehicules de classe de prix >=R en région Sud-Est (67)<br>\n",
    "6/ Sauver la table DF.rabais.SRA au format .Rdata"
   ]
  },
  {
   "cell_type": "code",
   "execution_count": null,
   "metadata": {},
   "outputs": [],
   "source": [
    "## 1/ Charger le fichier .Rdata\n",
    "load(\"C:/R/05_Training/Axa_Training/Data/rabaisAUTO_corr.Rdata\", verbose = TRUE)\n",
    "library(dplyr, warn.conflict = FALSE)"
   ]
  },
  {
   "cell_type": "code",
   "execution_count": null,
   "metadata": {},
   "outputs": [],
   "source": [
    "## Rappel du contenu du dataset\n",
    "str(DF.rabais)\n",
    "class(DF.rabais)"
   ]
  },
  {
   "cell_type": "code",
   "execution_count": null,
   "metadata": {},
   "outputs": [],
   "source": [
    "## 2/ Construire une variable prime technique = 100*primeht/rabais \n",
    "DF.rabais <- DF.rabais %>%\n",
    "mutate(primeht_tech = 100*primeht/rabais) \n"
   ]
  },
  {
   "cell_type": "code",
   "execution_count": null,
   "metadata": {},
   "outputs": [],
   "source": [
    "# affichage\n",
    "head(select(DF.rabais, primeht, rabais, primeht_tech), 5)"
   ]
  },
  {
   "cell_type": "code",
   "execution_count": null,
   "metadata": {},
   "outputs": [],
   "source": [
    "## 3/ Calculer le rabais moyen, les primes ht et ht_tech moyenne et les effectifs par age du conducteur , \n",
    "##    trié par rabais croissant\n",
    "\n",
    "DF.rabais %>%\n",
    "group_by(agecond2) %>%\n",
    "summarise(moy_rabais = mean(rabais), \n",
    "          moy_prime = mean(primeht), \n",
    "          moy_prime_tech = mean(primeht_tech), \n",
    "          effectif = n())  %>%\n",
    "arrange(moy_rabais)"
   ]
  },
  {
   "cell_type": "code",
   "execution_count": null,
   "metadata": {},
   "outputs": [],
   "source": [
    "## 4/ charger le fichier SRA201512.csv et effectuer la jointure par COD_auto \n",
    "library(data.table, warn.conflict = FALSE)\n",
    "SRA <- fread(\"C:/R/05_Training/Axa_Training/Data/SRA201512.csv\")\n",
    "str(SRA)"
   ]
  },
  {
   "cell_type": "code",
   "execution_count": null,
   "metadata": {},
   "outputs": [],
   "source": [
    "str(DF.rabais)"
   ]
  },
  {
   "cell_type": "code",
   "execution_count": null,
   "metadata": {},
   "outputs": [],
   "source": [
    "DF.rabais.SRA <- left_join(DF.rabais, SRA, by = c(\"GTA\" = \"COD_auto\"))\n",
    "dim(DF.rabais)\n",
    "dim(DF.rabais.SRA)"
   ]
  },
  {
   "cell_type": "code",
   "execution_count": null,
   "metadata": {},
   "outputs": [],
   "source": [
    "LETTERS[(1:18)]\n",
    "letters[(1:4)]"
   ]
  },
  {
   "cell_type": "code",
   "execution_count": null,
   "metadata": {},
   "outputs": [],
   "source": [
    "## 5/ Effectuez la même opération qu'au point 3/ \n",
    "## restreint aux vehicules de classe de prix >=R en région Sud-Est (67)\n",
    "\n",
    "DF.rabais.SRA %>%\n",
    "filter(nreg == \"67\", ! (CLASS_PRIX %in% LETTERS[(1:18)] ))  %>%\n",
    "group_by(agecond2) %>%\n",
    "summarise(moy_rabais = mean(rabais), \n",
    "          moy_prime = mean(primeht), \n",
    "          moy_prime_tech = mean(primeht_tech), \n",
    "          effectif = n())  %>%\n",
    "arrange(moy_rabais)"
   ]
  },
  {
   "cell_type": "code",
   "execution_count": null,
   "metadata": {
    "collapsed": true
   },
   "outputs": [],
   "source": [
    "save(DF.rabais.SRA, file = \"C:/R/05_Training/Axa_Training/Data/DF.rabais.SRA.Rdata\")"
   ]
  }
 ],
 "metadata": {
  "kernelspec": {
   "display_name": "R",
   "language": "R",
   "name": "ir"
  },
  "language_info": {
   "codemirror_mode": "r",
   "file_extension": ".r",
   "mimetype": "text/x-r-source",
   "name": "R",
   "pygments_lexer": "r",
   "version": "3.2.3"
  }
 },
 "nbformat": 4,
 "nbformat_minor": 1
}
