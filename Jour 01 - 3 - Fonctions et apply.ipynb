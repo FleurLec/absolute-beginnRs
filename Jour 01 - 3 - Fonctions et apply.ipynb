{
 "cells": [
  {
   "cell_type": "markdown",
   "metadata": {},
   "source": [
    "# Section 3 - Quelques pas plus loin en R\n",
    "\n",
    "## <span style=\"color: steelblue\">3. Boucles, fonctions et famille \"apply\"</span> \n",
    "## <span style=\"font-family:Calibri\">3.1. Syntaxe des boucles et conditions (if, for, while)</span>\n",
    "## <span style=\"font-family:Calibri\">3.2. Ecrire une fonction en R</span>\n",
    "## <span style=\"font-family:Calibri\">3.3. La famille des apply</span>\n",
    "\n",
    "\n",
    "<br>\n",
    "<br>\n"
   ]
  },
  {
   "cell_type": "markdown",
   "metadata": {},
   "source": [
    "<br>\n",
    "<br>\n",
    "## <span style=\"color: steelblue\">3. Boucles, fonctions et famille \"apply\"</span> \n"
   ]
  },
  {
   "cell_type": "markdown",
   "metadata": {},
   "source": [
    "Extrait de <i><u>Hadley Wickham, Advanced R</u> : <br>\n",
    "\n",
    "\"R, at its heart, is a functional programming (FP) language. This means that it provides many tools for the creation and manipulation of functions\".<br></i>\n"
   ]
  },
  {
   "cell_type": "markdown",
   "metadata": {},
   "source": [
    "Avant de rentrer dans le dur de l'ecriture de fonction, voyons rapidement la syntaxe des boucles conditionnelles en R."
   ]
  },
  {
   "cell_type": "markdown",
   "metadata": {},
   "source": [
    "## <span style=\"font-family:Calibri\">3.1. Syntaxe des boucles et conditions (if, for, while)</span>\n",
    "\n",
    "Elements standard d'algorithmique, voici ci-dessous un rappel du formalisme utilisé en R.<br>\n",
    "On verra dans la suite que l'utilisation de fonctions permet de s'affranchir autant que possible de ces boucles conditionnelles ou imbriquées, souvent couteuses en CPU.\n"
   ]
  },
  {
   "cell_type": "code",
   "execution_count": null,
   "metadata": {
    "collapsed": false
   },
   "outputs": [],
   "source": [
    "(1:10)"
   ]
  },
  {
   "cell_type": "code",
   "execution_count": 2,
   "metadata": {
    "collapsed": false
   },
   "outputs": [
    {
     "data": {
      "text/html": [
       "0.822467028424606"
      ],
      "text/latex": [
       "0.822467028424606"
      ],
      "text/markdown": [
       "0.822467028424606"
      ],
      "text/plain": [
       "[1] 0.822467"
      ]
     },
     "execution_count": 2,
     "metadata": {},
     "output_type": "execute_result"
    },
    {
     "data": {
      "text/html": [
       "0.822467033424113"
      ],
      "text/latex": [
       "0.822467033424113"
      ],
      "text/markdown": [
       "0.822467033424113"
      ],
      "text/plain": [
       "[1] 0.822467"
      ]
     },
     "execution_count": 2,
     "metadata": {},
     "output_type": "execute_result"
    }
   ],
   "source": [
    "# Boucle for : \"for (i in (1:n)) {}\"\n",
    "\n",
    "serie <- 0 ; n <- 10000\n",
    "\n",
    "for (i in (1:n)) {\n",
    "serie <- serie + (-1)^(i-1) / i^2\n",
    "}\n",
    "\n",
    "serie\n",
    "pi^2/12"
   ]
  },
  {
   "cell_type": "code",
   "execution_count": null,
   "metadata": {
    "collapsed": false
   },
   "outputs": [],
   "source": [
    "# Boucle while : \"while ( i <= n) {}\"\n",
    "\n",
    "serie <- 0 ; i <- 1 ; n <- 10000\n",
    "\n",
    "while ( i <= n) {\n",
    "    serie <- serie + (-1)^(i-1) / i^2\n",
    "    i <- i + 1\n",
    "}\n",
    "\n",
    "serie\n",
    "pi^2/12"
   ]
  },
  {
   "cell_type": "code",
   "execution_count": null,
   "metadata": {
    "collapsed": false
   },
   "outputs": [],
   "source": [
    "# Condition if : \"if ( i%%2 == 0 ) {}\"\n",
    "\n",
    "serie.paire <- 0 ; n <- 100000\n",
    "\n",
    "for (i in (1:n)) {\n",
    "    \n",
    "    if ( i%%2 == 0 ) {  # si i est pair\n",
    "        serie.paire <- serie.paire + (-1)^(i-1) / i^2\n",
    "    }\n",
    "}\n",
    "\n",
    "serie.paire\n",
    "-pi^2/24"
   ]
  },
  {
   "cell_type": "code",
   "execution_count": null,
   "metadata": {
    "collapsed": false
   },
   "outputs": [],
   "source": [
    "# Condition if : \"if ( i%%2 == 0 ) {}\"\n",
    "\n",
    "serie.paire <- 0 ; n <- 100000\n",
    "\n",
    "for (i in (1:n)) {\n",
    "    \n",
    "    if ( i%%2 == 0 ) serie.paire <- serie.paire + (-1)^(i-1) / i^2\n",
    "}\n",
    "\n",
    "serie.paire\n",
    "-pi^2/24"
   ]
  },
  {
   "cell_type": "markdown",
   "metadata": {},
   "source": [
    "### Très important : notion de vectorisation\n",
    "\n",
    "La vectorisation est la capacité du langage a repliquer a des vecteurs ou des matrices des opérations ordinairement dédiées au scalaires.  \n",
    "\n",
    "dans l'exemple si dessus de condition if, la condition compare des elements de type et taille identique (en l'occurence un scalaire)\n",
    "\n",
    "Si je compare 2 elements de taille différente, R va lever une erreur.\n",
    "\n",
    "Comme on le verra dans l'utilisation des apply, il peut etre utile (voire indispensable) de travailler au niveau d'un vecteur et non d'un scalaire.\n",
    "\n",
    "A noter qu'il existe en R une version \"vectorisée\" de la condition if-then-else : <b>la fonction ifelse() </b>\n",
    "\n"
   ]
  },
  {
   "cell_type": "code",
   "execution_count": null,
   "metadata": {
    "collapsed": false
   },
   "outputs": [],
   "source": [
    "a <- 23 \n",
    "b <- 123 \n",
    "\n",
    "if(a>100) 100 else a   \n",
    "if(b>100) 100 else b\n"
   ]
  },
  {
   "cell_type": "code",
   "execution_count": null,
   "metadata": {
    "collapsed": false
   },
   "outputs": [],
   "source": [
    "a <- 23 \n",
    "b <- 123 \n",
    "\n",
    "ifelse(a>100, 100, a)   \n",
    "ifelse(b>100, 100, b)   \n",
    " "
   ]
  },
  {
   "cell_type": "code",
   "execution_count": null,
   "metadata": {
    "collapsed": false
   },
   "outputs": [],
   "source": [
    "c <- c(a, b)\n",
    "ifelse(c>100, 100, c)  "
   ]
  },
  {
   "cell_type": "code",
   "execution_count": null,
   "metadata": {
    "collapsed": false
   },
   "outputs": [],
   "source": [
    "c <- c(23, 123)\n",
    "if(c>100) 100 else c"
   ]
  },
  {
   "cell_type": "markdown",
   "metadata": {},
   "source": [
    "## <span style=\"font-family:Calibri\">3.2. Ecrire une fonction en R</span>\n",
    "\n",
    "On peut faire avec les fonctions ce qu'on peut faire avec un vecteur : les assigner a des variables, les sauvegarder dans une liste, les passer en argument d'autres fonctions, voire les retourner comme resultat d'une fonction.\n",
    "\n",
    "En pratique, une fonction adopte generiquement le formalisme ci-dessous. \n"
   ]
  },
  {
   "cell_type": "raw",
   "metadata": {},
   "source": [
    "Ma.Fonction <- function(parametres) {etape 1\n",
    "                                     etape n\n",
    "                                     return()\n",
    "                                    }"
   ]
  },
  {
   "cell_type": "markdown",
   "metadata": {},
   "source": [
    "Il est important de noter que <u>la fonction ne retourne qu'un seul objet</u>. <br>\n",
    "Cela peut sembler déroutant si l'on oublie qu'elle peut de fait, retourner une liste, qui peut donc elle meme contenir de nombreux objets.\n",
    "\n",
    "Prenons un exemple simple : la creation d'une fonction determinant si un entier est pair ou impair"
   ]
  },
  {
   "cell_type": "code",
   "execution_count": null,
   "metadata": {
    "collapsed": false
   },
   "outputs": [],
   "source": [
    "est.pair <- function(x) { if ((x %% 2) == 0) {TRUE} else {FALSE}}\n",
    "\n",
    "est.pair(2) ; est.pair(3) ; est.pair(pi)\n"
   ]
  },
  {
   "cell_type": "markdown",
   "metadata": {},
   "source": [
    "On peut affiner la fonction : "
   ]
  },
  {
   "cell_type": "code",
   "execution_count": null,
   "metadata": {
    "collapsed": false
   },
   "outputs": [],
   "source": [
    "est.pair <- function(x) { if (is.numeric(x)) {\n",
    "                                    if ((x %% 2) == 0) {TRUE} else {FALSE}\n",
    "                                            }\n",
    "                          else {cat(\"NON NUMERIQUE\")}\n",
    "                        }\n",
    "\n",
    "est.pair(2) ; est.pair(3) ; est.pair(pi) ; est.pair(\"pi\")\n"
   ]
  },
  {
   "cell_type": "markdown",
   "metadata": {},
   "source": [
    "## <span style=\"font-family:Calibri\">3.3. La famille des apply</span>\n",
    "\n",
    "Cette famille est très utile en R, puisqu'elle permet de rendre generique, lisible et rapide toute operation par ailleurs repetitive.  \n",
    "La raison pour laquelle elle est <u> plus rapide</u> que la boucle classique est qu'elle est nativement codé en langage compilé (C) et non en langage interpreté comme R.\n",
    "\n",
    "?apply ?lapply ..; pour + d'infos\n",
    "\n",
    "Les principales fonctions : \n",
    "\n",
    " - <b>apply(D, [dim], function)</b> est la fonction de base : elle permet d'appliquer une fonction  aux lignes(1) ou colonnes(2) d'un tableau a 2 dimensions  \n",
    " - <b>lapply(D, function)</b> : s'applique à et retourne une liste : permet d'appliquer une fonction à chaque élément de la liste d'entrée, et retourne les resultats sous forme d'une liste de même dimension\n",
    " - <b>sapply(D, function)</b> est une version user-friendly de lapply qui retourne un vecteur ou un tableau a 2 dimensions  \n",
    "<br>"
   ]
  },
  {
   "cell_type": "markdown",
   "metadata": {},
   "source": [
    "A noter l'existence de <b>tapply(D, facteur, function)</b> qui permet d'appliquer une fonction à un vecteur selon les modalités d'un facteur.  L'utilisation de dplyr::summarize() se substitue aisément à cette fonction, y compris en temps de calcul :  \n",
    "<br>\n"
   ]
  },
  {
   "cell_type": "raw",
   "metadata": {},
   "source": [
    "## Comparaison sur un dataframe de 10 millions de lignes de la somme par modalité.\n",
    "> system.time(tapply(f$x1, f$x2, sum))\n",
    "utilisateur     système      écoulé \n",
    "       0.54        0.16        0.70 \n",
    "> system.time(group_by(f, x2) %>% summarise(sum(x1)))\n",
    "utilisateur     système      écoulé \n",
    "       0.45        0.02        0.47 \n",
    "> system.time(aggregate(f$x1, by=list(f$x2), sum))\n",
    "utilisateur     système      écoulé \n",
    "       8.34        0.61        9.16 "
   ]
  },
  {
   "cell_type": "markdown",
   "metadata": {},
   "source": [
    "Prenons un cas élémentaire : \n",
    "Je dispose d'un dataset contenant 5 colonnes dont je veux recuperer la moyenne"
   ]
  },
  {
   "cell_type": "code",
   "execution_count": 1,
   "metadata": {
    "collapsed": false
   },
   "outputs": [
    {
     "data": {
      "text/html": [
       "<table>\n",
       "<thead><tr><th></th><th scope=col>x1</th><th scope=col>x2</th><th scope=col>x3</th><th scope=col>x4</th><th scope=col>x5</th></tr></thead>\n",
       "<tbody>\n",
       "\t<tr><th scope=row>1</th><td>93</td><td>14</td><td>32</td><td>47</td><td>14</td></tr>\n",
       "\t<tr><th scope=row>2</th><td>113</td><td>12</td><td>26</td><td>49</td><td>15</td></tr>\n",
       "\t<tr><th scope=row>3</th><td>112</td><td>11</td><td>21</td><td>56</td><td>14</td></tr>\n",
       "\t<tr><th scope=row>4</th><td>104</td><td>9</td><td>23</td><td>55</td><td>12</td></tr>\n",
       "</tbody>\n",
       "</table>\n"
      ],
      "text/latex": [
       "\\begin{tabular}{r|lllll}\n",
       "  & x1 & x2 & x3 & x4 & x5\\\\\n",
       "\\hline\n",
       "\t1 & 93 & 14 & 32 & 47 & 14\\\\\n",
       "\t2 & 113 & 12 & 26 & 49 & 15\\\\\n",
       "\t3 & 112 & 11 & 21 & 56 & 14\\\\\n",
       "\t4 & 104 & 9 & 23 & 55 & 12\\\\\n",
       "\\end{tabular}\n"
      ],
      "text/plain": [
       "   x1 x2 x3 x4 x5\n",
       "1  93 14 32 47 14\n",
       "2 113 12 26 49 15\n",
       "3 112 11 21 56 14\n",
       "4 104  9 23 55 12"
      ]
     },
     "execution_count": 1,
     "metadata": {},
     "output_type": "execute_result"
    }
   ],
   "source": [
    "set.seed(1)\n",
    "(DF <- data.frame(x1 = rpois(4, 100),\n",
    "                 x2 = rpois(4, 10),\n",
    "                 x3 = rpois(4, 25),\n",
    "                 x4 = rpois(4, 50),\n",
    "                 x5 = rpois(4, 12)\n",
    "                ))\n"
   ]
  },
  {
   "cell_type": "markdown",
   "metadata": {},
   "source": [
    "En appliquant l'operation a chaque variable, on doit taper : "
   ]
  },
  {
   "cell_type": "code",
   "execution_count": null,
   "metadata": {
    "collapsed": false
   },
   "outputs": [],
   "source": [
    "c(mean(DF$x1), mean(DF$x2), mean(DF$x3), mean(DF$x4), mean(DF$x5))"
   ]
  },
  {
   "cell_type": "markdown",
   "metadata": {},
   "source": [
    "### Comparer les apply sur un exemple simple\n",
    "apply() permet de \"factoriser\" le code en indiquant generiquement d'appliquer la meme fonction a l'ensemble des variables de DF\n",
    "\n",
    "Essayez les resultats des différentes fonctions pour comprendre la difference :   \n",
    "<u><font color=\"0044FF\" size = 3> - apply</font></u>"
   ]
  },
  {
   "cell_type": "code",
   "execution_count": null,
   "metadata": {
    "collapsed": false
   },
   "outputs": [],
   "source": [
    "apply(DF, 2, mean)  ## ici on reproduit une moyenne par colonne"
   ]
  },
  {
   "cell_type": "code",
   "execution_count": null,
   "metadata": {
    "collapsed": false
   },
   "outputs": [],
   "source": [
    "## on peut reprendre le format comme on le souhaite avec t() ou as.data.frame()\n",
    "t(apply(DF, 2, mean))"
   ]
  },
  {
   "cell_type": "code",
   "execution_count": null,
   "metadata": {
    "collapsed": false
   },
   "outputs": [],
   "source": [
    "## avec une moyenne par ligne : \n",
    "apply(DF, 1, mean)"
   ]
  },
  {
   "cell_type": "markdown",
   "metadata": {},
   "source": [
    "<u><font color=\"0044FF\" size = 3> - lapply</font></u>"
   ]
  },
  {
   "cell_type": "code",
   "execution_count": null,
   "metadata": {
    "collapsed": false
   },
   "outputs": [],
   "source": [
    "class(lapply(DF, mean))  ## mon DF a 5 colonnes =>  liste a 5 dimensions. \n",
    "                  ## lapply renvoie une moyenne par liste"
   ]
  },
  {
   "cell_type": "code",
   "execution_count": null,
   "metadata": {
    "collapsed": false
   },
   "outputs": [],
   "source": [
    "lapply(as.data.frame(t(DF)), mean)  ## si on voulait dans l'autre sens"
   ]
  },
  {
   "cell_type": "markdown",
   "metadata": {},
   "source": [
    "<u><font color=\"0044FF\" size = 3> - sapply</font></u>"
   ]
  },
  {
   "cell_type": "code",
   "execution_count": null,
   "metadata": {
    "collapsed": false
   },
   "outputs": [],
   "source": [
    "(test <- sapply(DF, mean))  ## renvoie un vecteur\n",
    "class(test)"
   ]
  },
  {
   "cell_type": "markdown",
   "metadata": {},
   "source": [
    "<u><font color=\"0044FF\" size = 3> - tapply</font></u>\n",
    "Ici le cas est particulier, puisque la fonction tapply permet d'introduire une segmentation d'application de la fonction.  \n"
   ]
  },
  {
   "cell_type": "code",
   "execution_count": null,
   "metadata": {
    "collapsed": false
   },
   "outputs": [],
   "source": [
    "DF$val <- c(\"A\", \"A\", \"A\", \"B\") ; DF"
   ]
  },
  {
   "cell_type": "markdown",
   "metadata": {},
   "source": [
    "### Definir sa propre fonction\n",
    "Dans ce cas, la fonction que l'on applique a l'ensemble des elements du dataset existe deja. Mais on peut egalement faire appliquer n'importe quelle fonction, y compris directement ecrite dans la zone FUN du [s]apply <br>\n",
    "Quelques exemples : "
   ]
  },
  {
   "cell_type": "code",
   "execution_count": null,
   "metadata": {
    "collapsed": false
   },
   "outputs": [],
   "source": [
    " ( DF2 <- sapply(DF, function(x) { ( x - mean(x) ) / var(x)})  )\n"
   ]
  },
  {
   "cell_type": "code",
   "execution_count": null,
   "metadata": {
    "collapsed": false
   },
   "outputs": [],
   "source": [
    " ( DF2 <- tapply(DF, 2, function(x) { if (x > 50) return(100)} )  )\n"
   ]
  },
  {
   "cell_type": "markdown",
   "metadata": {},
   "source": [
    " On peut egalement appliquer plusieurs fonctions à une même variable en 1 temps : "
   ]
  },
  {
   "cell_type": "code",
   "execution_count": null,
   "metadata": {
    "collapsed": false
   },
   "outputs": [],
   "source": [
    "summary <- function(x) {\n",
    "funs <- c(mean, median, sd, mad, IQR)\n",
    "lapply(funs, function(f) f(x, na.rm = TRUE))\n",
    "}\n",
    "       \n",
    "summary(DF$x1)"
   ]
  },
  {
   "cell_type": "markdown",
   "metadata": {},
   "source": [
    "<br>\n",
    "<b>Fonctions de plusieurs arguments</b><br>\n",
    "Si l'on considère une fonction de plusieurs arguments, les arguments supplementaires peuvent être passés dans le corps du [x]apply. <br>\n",
    "Ex : prenons une fonction qui va transformer en facteurs une sous partie des colonnes de notre dataframe"
   ]
  },
  {
   "cell_type": "code",
   "execution_count": null,
   "metadata": {
    "collapsed": false
   },
   "outputs": [],
   "source": [
    "a_changer <- c(\"x1\", \"x2\")\n",
    "\n",
    "fac <- function(BDD, x) { i <- which(colnames(DF) == x)\n",
    "                          if (x %in% a_changer)  { tmp <- data.frame(as.factor(BDD[, i])) }\n",
    "                          else                   { tmp <- data.frame(BDD[, i])}\n",
    "                          names(tmp) <- x\n",
    "                          return(tmp)\n",
    "                        }\n",
    "\n",
    "DF <- as.data.frame(lapply(names(DF), fac, BDD=DF ))\n",
    "str(DF)"
   ]
  },
  {
   "cell_type": "markdown",
   "metadata": {},
   "source": [
    "### Apply et vectorisation\n",
    "Un des premiers écueils de l'utilisation des fonctions apply est qu'elles adressent des <u>vecteurs</u> et que naturellement, on s'attend a pouvoir avoir accès au scalaire élémentaire.  \n",
    "Sans utiliser des fonctions qui utilisent la vectorisation (donc s'appliquent correctement à des vecteurs), il ne vous sera pas possible d'attaquer individuellement chaque cellule du tableau.  \n",
    "Reprenons l'exemple de la condition if vs ifelse : "
   ]
  },
  {
   "cell_type": "code",
   "execution_count": null,
   "metadata": {
    "collapsed": false
   },
   "outputs": [],
   "source": [
    "DF  ## rappel"
   ]
  },
  {
   "cell_type": "code",
   "execution_count": null,
   "metadata": {
    "collapsed": false
   },
   "outputs": [],
   "source": [
    "\n",
    "sapply(DF, function(x) {if(x>100) 100 else x})"
   ]
  },
  {
   "cell_type": "code",
   "execution_count": null,
   "metadata": {
    "collapsed": false
   },
   "outputs": [],
   "source": [
    "sapply(DF, function(x) {ifelse(x>100, 100, x)})"
   ]
  },
  {
   "cell_type": "code",
   "execution_count": null,
   "metadata": {
    "collapsed": false
   },
   "outputs": [],
   "source": [
    "## La syntaxe pour débuter est plutot celle-ci : \n",
    "\n",
    "for(v in names(DF)){\n",
    "   DF[[v]] = sapply(DF[[v]], function(x) {if(x>100) 100 else x})\n",
    "}\n",
    " \n",
    "DF"
   ]
  },
  {
   "cell_type": "markdown",
   "metadata": {},
   "source": [
    "\n",
    "<br>\n",
    "<font color = \"00FF44\" size=5><b>A VOUS DE JOUER !!</b></font>"
   ]
  },
  {
   "cell_type": "markdown",
   "metadata": {},
   "source": [
    "Reproduire <u>DANS UN DATAFRAME</u> l'equivalent de <b>PROC CONTENTS, PROC MEANS, PROC UNIVARIATE, PROC FREQ</b>"
   ]
  },
  {
   "cell_type": "code",
   "execution_count": 2,
   "metadata": {
    "collapsed": false
   },
   "outputs": [],
   "source": [
    "## Chargement du fichier et construction d'une base test\n",
    "\n",
    "load(\"C:/R/05_Training/Axa_Training/Data/DF.rabais.SRA.Rdata\")\n",
    "DF.rabais.SRA <- head(DF.rabais.SRA,100)\n",
    "\n",
    "## Rajout de 2 NA pour verifier leur prise en compte\n",
    "DF.rabais.SRA[1,]$rabais=NA\n",
    "DF.rabais.SRA[2,]$sex=NA"
   ]
  },
  {
   "cell_type": "markdown",
   "metadata": {},
   "source": [
    "\n",
    "\n",
    "1/ <b>PROC CONTENTS</b><br>\n",
    "<span style=\"font-family:Courier New;\">proc contents data=DF.rabais.SRA out=contenu;run; <br>\n",
    "   proc print data=contenu;run;<br>\n",
    "   </span>\n",
    "   \n",
    "=> on attend a minima : index variable ; nom variable ; type variable ; taille de la variable \n",
    "=> je propose de rajouter : le nombre d'elements distincts, le nombre d'elements vide (NA)\n"
   ]
  },
  {
   "cell_type": "code",
   "execution_count": 3,
   "metadata": {
    "collapsed": false
   },
   "outputs": [
    {
     "data": {
      "text/html": [
       "<table>\n",
       "<thead><tr><th></th><th scope=col>index</th><th scope=col>var</th><th scope=col>type</th><th scope=col>taille</th><th scope=col>distinct</th><th scope=col>nb.na</th></tr></thead>\n",
       "<tbody>\n",
       "\t<tr><th scope=row>GTA</th><td>1</td><td>GTA</td><td>character</td><td>7</td><td>98</td><td>0</td></tr>\n",
       "\t<tr><th scope=row>version</th><td>2</td><td>version</td><td>factor</td><td>6</td><td>3</td><td>0</td></tr>\n",
       "\t<tr><th scope=row>numpol2</th><td>3</td><td>numpol2</td><td>character</td><td>16</td><td>100</td><td>0</td></tr>\n",
       "\t<tr><th scope=row>nreg</th><td>4</td><td>nreg</td><td>factor</td><td>2</td><td>5</td><td>0</td></tr>\n",
       "\t<tr><th scope=row>sex</th><td>5</td><td>sex</td><td>factor</td><td>2</td><td>3</td><td>1</td></tr>\n",
       "\t<tr><th scope=row>statut</th><td>6</td><td>statut</td><td>factor</td><td>1</td><td>2</td><td>0</td></tr>\n",
       "\t<tr><th scope=row>crm</th><td>7</td><td>crm</td><td>factor</td><td>6</td><td>3</td><td>0</td></tr>\n",
       "\t<tr><th scope=row>antivol</th><td>8</td><td>antivol</td><td>factor</td><td>1</td><td>2</td><td>0</td></tr>\n",
       "\t<tr><th scope=row>nbgar</th><td>9</td><td>nbgar</td><td>integer</td><td>1</td><td>6</td><td>0</td></tr>\n",
       "\t<tr><th scope=row>primeht</th><td>10</td><td>primeht</td><td>numeric</td><td>7</td><td>100</td><td>0</td></tr>\n",
       "\t<tr><th scope=row>segm</th><td>11</td><td>segm</td><td>character</td><td>2</td><td>6</td><td>0</td></tr>\n",
       "\t<tr><th scope=row>rabais</th><td>12</td><td>rabais</td><td>numeric</td><td>9</td><td>41</td><td>1</td></tr>\n",
       "\t<tr><th scope=row>rabais2</th><td>13</td><td>rabais2</td><td>character</td><td>10</td><td>3</td><td>0</td></tr>\n",
       "\t<tr><th scope=row>permis2</th><td>14</td><td>permis2</td><td>factor</td><td>4</td><td>10</td><td>0</td></tr>\n",
       "\t<tr><th scope=row>age_permis2</th><td>15</td><td>age_permis2</td><td>factor</td><td>5</td><td>4</td><td>0</td></tr>\n",
       "\t<tr><th scope=row>agecond2</th><td>16</td><td>agecond2</td><td>factor</td><td>5</td><td>10</td><td>0</td></tr>\n",
       "\t<tr><th scope=row>sinistres</th><td>17</td><td>sinistres</td><td>integer</td><td>1</td><td>2</td><td>0</td></tr>\n",
       "\t<tr><th scope=row>primeht_tech</th><td>18</td><td>primeht_tech</td><td>numeric</td><td>9</td><td>100</td><td>0</td></tr>\n",
       "\t<tr><th scope=row>CLASS_PRIX</th><td>19</td><td>CLASS_PRIX</td><td>character</td><td>1</td><td>15</td><td>0</td></tr>\n",
       "\t<tr><th scope=row>CLASS_REPAR</th><td>20</td><td>CLASS_REPAR</td><td>character</td><td>2</td><td>18</td><td>0</td></tr>\n",
       "\t<tr><th scope=row>PUISS_CEE</th><td>21</td><td>PUISS_CEE</td><td>integer</td><td>3</td><td>36</td><td>0</td></tr>\n",
       "\t<tr><th scope=row>GROUP_SRA</th><td>22</td><td>GROUP_SRA</td><td>integer</td><td>2</td><td>11</td><td>0</td></tr>\n",
       "\t<tr><th scope=row>ENERGIE</th><td>23</td><td>ENERGIE</td><td>character</td><td>2</td><td>2</td><td>0</td></tr>\n",
       "\t<tr><th scope=row>CARROSS</th><td>24</td><td>CARROSS</td><td>character</td><td>3</td><td>13</td><td>0</td></tr>\n",
       "\t<tr><th scope=row>MARQUE</th><td>25</td><td>MARQUE</td><td>character</td><td>10</td><td>21</td><td>0</td></tr>\n",
       "</tbody>\n",
       "</table>\n"
      ],
      "text/latex": [
       "\\begin{tabular}{r|llllll}\n",
       "  & index & var & type & taille & distinct & nb.na\\\\\n",
       "\\hline\n",
       "\tGTA & 1 & GTA & character & 7 & 98 & 0\\\\\n",
       "\tversion & 2 & version & factor & 6 & 3 & 0\\\\\n",
       "\tnumpol2 & 3 & numpol2 & character & 16 & 100 & 0\\\\\n",
       "\tnreg & 4 & nreg & factor & 2 & 5 & 0\\\\\n",
       "\tsex & 5 & sex & factor & 2 & 3 & 1\\\\\n",
       "\tstatut & 6 & statut & factor & 1 & 2 & 0\\\\\n",
       "\tcrm & 7 & crm & factor & 6 & 3 & 0\\\\\n",
       "\tantivol & 8 & antivol & factor & 1 & 2 & 0\\\\\n",
       "\tnbgar & 9 & nbgar & integer & 1 & 6 & 0\\\\\n",
       "\tprimeht & 10 & primeht & numeric & 7 & 100 & 0\\\\\n",
       "\tsegm & 11 & segm & character & 2 & 6 & 0\\\\\n",
       "\trabais & 12 & rabais & numeric & 9 & 41 & 1\\\\\n",
       "\trabais2 & 13 & rabais2 & character & 10 & 3 & 0\\\\\n",
       "\tpermis2 & 14 & permis2 & factor & 4 & 10 & 0\\\\\n",
       "\tage_permis2 & 15 & age_permis2 & factor & 5 & 4 & 0\\\\\n",
       "\tagecond2 & 16 & agecond2 & factor & 5 & 10 & 0\\\\\n",
       "\tsinistres & 17 & sinistres & integer & 1 & 2 & 0\\\\\n",
       "\tprimeht_tech & 18 & primeht_tech & numeric & 9 & 100 & 0\\\\\n",
       "\tCLASS_PRIX & 19 & CLASS_PRIX & character & 1 & 15 & 0\\\\\n",
       "\tCLASS_REPAR & 20 & CLASS_REPAR & character & 2 & 18 & 0\\\\\n",
       "\tPUISS_CEE & 21 & PUISS_CEE & integer & 3 & 36 & 0\\\\\n",
       "\tGROUP_SRA & 22 & GROUP_SRA & integer & 2 & 11 & 0\\\\\n",
       "\tENERGIE & 23 & ENERGIE & character & 2 & 2 & 0\\\\\n",
       "\tCARROSS & 24 & CARROSS & character & 3 & 13 & 0\\\\\n",
       "\tMARQUE & 25 & MARQUE & character & 10 & 21 & 0\\\\\n",
       "\\end{tabular}\n"
      ],
      "text/plain": [
       "             index          var      type taille distinct nb.na\n",
       "GTA              1          GTA character      7       98     0\n",
       "version          2      version    factor      6        3     0\n",
       "numpol2          3      numpol2 character     16      100     0\n",
       "nreg             4         nreg    factor      2        5     0\n",
       "sex              5          sex    factor      2        3     1\n",
       "statut           6       statut    factor      1        2     0\n",
       "crm              7          crm    factor      6        3     0\n",
       "antivol          8      antivol    factor      1        2     0\n",
       "nbgar            9        nbgar   integer      1        6     0\n",
       "primeht         10      primeht   numeric      7      100     0\n",
       "segm            11         segm character      2        6     0\n",
       "rabais          12       rabais   numeric      9       41     1\n",
       "rabais2         13      rabais2 character     10        3     0\n",
       "permis2         14      permis2    factor      4       10     0\n",
       "age_permis2     15  age_permis2    factor      5        4     0\n",
       "agecond2        16     agecond2    factor      5       10     0\n",
       "sinistres       17    sinistres   integer      1        2     0\n",
       "primeht_tech    18 primeht_tech   numeric      9      100     0\n",
       "CLASS_PRIX      19   CLASS_PRIX character      1       15     0\n",
       "CLASS_REPAR     20  CLASS_REPAR character      2       18     0\n",
       "PUISS_CEE       21    PUISS_CEE   integer      3       36     0\n",
       "GROUP_SRA       22    GROUP_SRA   integer      2       11     0\n",
       "ENERGIE         23      ENERGIE character      2        2     0\n",
       "CARROSS         24      CARROSS character      3       13     0\n",
       "MARQUE          25       MARQUE character     10       21     0"
      ]
     },
     "execution_count": 3,
     "metadata": {},
     "output_type": "execute_result"
    }
   ],
   "source": [
    "## VOTRE REPONSE : \n",
    "\n",
    "contenu <- data.frame(\n",
    "index    = which(names(DF.rabais.SRA) == names(DF.rabais.SRA)) , \n",
    "var      = names(DF.rabais.SRA) , \n",
    "type     = sapply(DF.rabais.SRA, class) , \n",
    "taille   = apply(DF.rabais.SRA, 2, function(x) max(nchar(x))) , \n",
    "distinct = apply(DF.rabais.SRA, 2, function(x) length(unique(x))) , \n",
    "nb.na    = apply(DF.rabais.SRA, 2, function(x) sum(is.na(x)))\n",
    "    )\n",
    "contenu"
   ]
  },
  {
   "cell_type": "code",
   "execution_count": null,
   "metadata": {
    "collapsed": false
   },
   "outputs": [],
   "source": [
    "## regardez la difference entre apply, sapply et lapply\n",
    "apply(DF.rabais.SRA, 2, class)\n",
    "sapply(DF.rabais.SRA, class)\n",
    "lapply(DF.rabais.SRA, class) "
   ]
  },
  {
   "cell_type": "markdown",
   "metadata": {},
   "source": [
    "  \n",
    "2/ <b>PROC MEANS</b><br>\n",
    "<span style=\"font-family:Courier New;\">proc means data=DF.rabais.SRA noprint;<br>\n",
    "   var rabais primeht_tech;<br>\n",
    "   by CLASS_PRIX;<br>\n",
    "   output out=agregat (drop=_type_) mean=;<br>\n",
    "   run;<br>\n",
    "   <br>\n",
    "   proc print data=agregat;run;<br>\n",
    " </span>\n",
    "   \n",
    "=>  on attend : CLASS_PRIX ; sum(rabais) ;  sum(primeht_tech) ; freq  (qui correspond a l'effectif)\n"
   ]
  },
  {
   "cell_type": "code",
   "execution_count": 4,
   "metadata": {
    "collapsed": false
   },
   "outputs": [
    {
     "data": {
      "text/html": [
       "<table>\n",
       "<thead><tr><th></th><th scope=col>CLASS_PRIX</th><th scope=col>rabais_tot</th><th scope=col>primeht_tech.tot</th><th scope=col>freq</th></tr></thead>\n",
       "<tbody>\n",
       "\t<tr><th scope=row>1</th><td>D</td><td>84</td><td>663.8929</td><td>1</td></tr>\n",
       "\t<tr><th scope=row>2</th><td>E</td><td>87.625</td><td>405.1102</td><td>2</td></tr>\n",
       "\t<tr><th scope=row>3</th><td>F</td><td>78.5</td><td>346.7212</td><td>8</td></tr>\n",
       "\t<tr><th scope=row>4</th><td>G</td><td>80.8125</td><td>386.1785</td><td>4</td></tr>\n",
       "\t<tr><th scope=row>5</th><td>H</td><td>89.46429</td><td>565.8251</td><td>7</td></tr>\n",
       "\t<tr><th scope=row>6</th><td>I</td><td>83.34091</td><td>619.5765</td><td>11</td></tr>\n",
       "\t<tr><th scope=row>7</th><td>J</td><td>81.21281</td><td>596.6128</td><td>14</td></tr>\n",
       "\t<tr><th scope=row>8</th><td>K</td><td>81.69827</td><td>609.1186</td><td>14</td></tr>\n",
       "\t<tr><th scope=row>9</th><td>L</td><td>87.625</td><td>494.7393</td><td>8</td></tr>\n",
       "\t<tr><th scope=row>10</th><td>M</td><td>81.96201</td><td>719.6765</td><td>9</td></tr>\n",
       "\t<tr><th scope=row>11</th><td>N</td><td>79.43309</td><td>665.9986</td><td>13</td></tr>\n",
       "\t<tr><th scope=row>12</th><td>O</td><td>83.75</td><td>654.1021</td><td>2</td></tr>\n",
       "\t<tr><th scope=row>13</th><td>P</td><td>89.41176</td><td>579.3904</td><td>2</td></tr>\n",
       "\t<tr><th scope=row>14</th><td>Q</td><td>76</td><td>1101.247</td><td>3</td></tr>\n",
       "\t<tr><th scope=row>15</th><td>R</td><td>71.375</td><td>826.0975</td><td>2</td></tr>\n",
       "</tbody>\n",
       "</table>\n"
      ],
      "text/latex": [
       "\\begin{tabular}{r|llll}\n",
       "  & CLASS_PRIX & rabais_tot & primeht_tech.tot & freq\\\\\n",
       "\\hline\n",
       "\t1 & D & 84 & 663.8929 & 1\\\\\n",
       "\t2 & E & 87.625 & 405.1102 & 2\\\\\n",
       "\t3 & F & 78.5 & 346.7212 & 8\\\\\n",
       "\t4 & G & 80.8125 & 386.1785 & 4\\\\\n",
       "\t5 & H & 89.46429 & 565.8251 & 7\\\\\n",
       "\t6 & I & 83.34091 & 619.5765 & 11\\\\\n",
       "\t7 & J & 81.21281 & 596.6128 & 14\\\\\n",
       "\t8 & K & 81.69827 & 609.1186 & 14\\\\\n",
       "\t9 & L & 87.625 & 494.7393 & 8\\\\\n",
       "\t10 & M & 81.96201 & 719.6765 & 9\\\\\n",
       "\t11 & N & 79.43309 & 665.9986 & 13\\\\\n",
       "\t12 & O & 83.75 & 654.1021 & 2\\\\\n",
       "\t13 & P & 89.41176 & 579.3904 & 2\\\\\n",
       "\t14 & Q & 76 & 1101.247 & 3\\\\\n",
       "\t15 & R & 71.375 & 826.0975 & 2\\\\\n",
       "\\end{tabular}\n"
      ],
      "text/plain": [
       "Source: local data frame [15 x 4]\n",
       "\n",
       "   CLASS_PRIX rabais_tot primeht_tech.tot  freq\n",
       "        (chr)      (dbl)            (dbl) (int)\n",
       "1           D   84.00000         663.8929     1\n",
       "2           E   87.62500         405.1102     2\n",
       "3           F   78.50000         346.7212     8\n",
       "4           G   80.81250         386.1785     4\n",
       "5           H   89.46429         565.8251     7\n",
       "6           I   83.34091         619.5765    11\n",
       "7           J   81.21281         596.6128    14\n",
       "8           K   81.69827         609.1186    14\n",
       "9           L   87.62500         494.7393     8\n",
       "10          M   81.96201         719.6765     9\n",
       "11          N   79.43309         665.9986    13\n",
       "12          O   83.75000         654.1021     2\n",
       "13          P   89.41176         579.3904     2\n",
       "14          Q   76.00000        1101.2470     3\n",
       "15          R   71.37500         826.0975     2"
      ]
     },
     "execution_count": 4,
     "metadata": {},
     "output_type": "execute_result"
    }
   ],
   "source": [
    "\n",
    "## VOTRE REPONSE : \n",
    "library(dplyr, warn.conflicts = FALSE)\n",
    "\n",
    "agregat <- DF.rabais.SRA %>%\n",
    "group_by(CLASS_PRIX) %>%\n",
    "summarise(rabais_tot = mean(rabais, na.rm = TRUE), \n",
    "          primeht_tech.tot = mean(primeht_tech), \n",
    "          freq = n())\n",
    "\n",
    "agregat"
   ]
  },
  {
   "cell_type": "code",
   "execution_count": null,
   "metadata": {
    "collapsed": false
   },
   "outputs": [],
   "source": [
    "## A noter que vous pouvez rajouter la ligne totale de cette façon : \n",
    "\n",
    "agregat.tot <- DF.rabais.SRA %>%\n",
    "summarise(rabais_tot = mean(rabais, na.rm = TRUE), \n",
    "          primeht_tech.tot = mean(primeht_tech), \n",
    "          freq = n()) %>%\n",
    "mutate(CLASS_PRIX = \"TOT\") \n",
    "\n",
    "rbind(agregat, agregat.tot)"
   ]
  },
  {
   "cell_type": "markdown",
   "metadata": {},
   "source": [
    " \n",
    "3/ <b>PROC UNIVARIATE</b><br>\n",
    "<span style=\"font-family:Courier New;\">\n",
    "   proc univariate data=DF.rabais.SRA <br>\n",
    "   var rabais;<br>\n",
    "   output out=univ pctlpts=1 to 100 by 10 pctlpre=Q_;<br>\n",
    "   run;<br>\n",
    "  <br>\n",
    "   proc print data=univ;run;<br>\n",
    "   </span>\n",
    "   \n",
    "=> on attend une table contenant les deciles de rabais\n"
   ]
  },
  {
   "cell_type": "code",
   "execution_count": null,
   "metadata": {
    "collapsed": false
   },
   "outputs": [],
   "source": [
    "## VOTRE REPONSE : \n",
    "options(digits=1)  # ne semble pas marcher sous Jupyter, mais ca fonctionne dans RStudio :)\n",
    "decile <- quantile(DF.rabais.SRA$rabais, seq(0,1, by = .1), na.rm = TRUE)\n",
    "decile"
   ]
  },
  {
   "cell_type": "markdown",
   "metadata": {},
   "source": [
    "   \n",
    "4/ <b>PROC FREQ</b><br>\n",
    "<span style=\"font-family:Courier New;\">\n",
    "proc freq data=DF.rabais.SRA;<br>\n",
    "   tables region*sex/missing; <br>\n",
    "   run;<br>\n",
    " <br>\n",
    " </span>\n",
    " => Essayez de créer 4 tableaux ( ATTENTION de ne pas oublier les NA !! :)  ) : <br> \n",
    " - les effectifs globaux\n",
    " - les fréquences en colonne\n",
    " - les fréquences en ligne\n",
    " - les fréquences totales\n",
    "\n"
   ]
  },
  {
   "cell_type": "code",
   "execution_count": 5,
   "metadata": {
    "collapsed": false
   },
   "outputs": [
    {
     "data": {
      "text/plain": [
       "      \n",
       "       64 65 66 67 68\n",
       "  F     3  4  8  6  2\n",
       "  M    12 12 23 16 13\n",
       "  <NA>  0  1  0  0  0"
      ]
     },
     "execution_count": 5,
     "metadata": {},
     "output_type": "execute_result"
    },
    {
     "data": {
      "text/html": [
       "\"table\""
      ],
      "text/latex": [
       "\"table\""
      ],
      "text/markdown": [
       "\"table\""
      ],
      "text/plain": [
       "[1] \"table\""
      ]
     },
     "execution_count": 5,
     "metadata": {},
     "output_type": "execute_result"
    }
   ],
   "source": [
    "## Table de contingence - effectifs globaux : \n",
    "## VOTRE REPONSE : \n",
    "(freq <- table(DF.rabais.SRA$sex, DF.rabais.SRA$nreg, useNA = \"ifany\"))  \n",
    "  # option useNA = \"always\" integre systematiquement une ligne NA\n",
    "class(freq)\n",
    "\n",
    "# Pour le traitement ulterieur, R supporte mal d'avoir NA comme libellé de ligne : on le remplace : \n",
    "freq <- addNA(freq)"
   ]
  },
  {
   "cell_type": "code",
   "execution_count": 8,
   "metadata": {
    "collapsed": false
   },
   "outputs": [
    {
     "ename": "ERROR",
     "evalue": "Error in apply(freq, 2, sum): dim(X) must have a positive length\n",
     "output_type": "error",
     "traceback": [
      "Error in apply(freq, 2, sum): dim(X) must have a positive length\n"
     ]
    },
    {
     "ename": "ERROR",
     "evalue": "Error in apply(freq, 1, function(x) x/freq.tot.col): dim(X) must have a positive length\n",
     "output_type": "error",
     "traceback": [
      "Error in apply(freq, 1, function(x) x/freq.tot.col): dim(X) must have a positive length\n"
     ]
    }
   ],
   "source": [
    "## Fréquences en colonne\n",
    "## VOTRE REPONSE : \n",
    "\n",
    "freq.tot.col <- apply(freq, 2, sum)\n",
    "(freq.perc.col <- (t(apply(freq, 1, function(x) x/freq.tot.col))))\n"
   ]
  },
  {
   "cell_type": "code",
   "execution_count": 7,
   "metadata": {
    "collapsed": false
   },
   "outputs": [
    {
     "name": "stderr",
     "output_type": "stream",
     "text": [
      "Warning message:\n",
      ": package 'scales' was built under R version 3.2.4"
     ]
    },
    {
     "ename": "ERROR",
     "evalue": "Error in apply(freq.perc.col, 2, percent): objet 'freq.perc.col' introuvable\n",
     "output_type": "error",
     "traceback": [
      "Error in apply(freq.perc.col, 2, percent): objet 'freq.perc.col' introuvable\n"
     ]
    },
    {
     "ename": "ERROR",
     "evalue": "Error in rownames(freq.perc.col) <- rownames(freq): objet 'freq.perc.col' introuvable\n",
     "output_type": "error",
     "traceback": [
      "Error in rownames(freq.perc.col) <- rownames(freq): objet 'freq.perc.col' introuvable\n"
     ]
    },
    {
     "ename": "ERROR",
     "evalue": "Error in eval(expr, envir, enclos): objet 'freq.perc.col' introuvable\n",
     "output_type": "error",
     "traceback": [
      "Error in eval(expr, envir, enclos): objet 'freq.perc.col' introuvable\n"
     ]
    }
   ],
   "source": [
    "library(scales)  # pour utiliser la fonction percent()\n",
    "\n",
    "freq.perc.col <- apply(freq.perc.col, 2, percent)\n",
    "\n",
    "rownames(freq.perc.col) <- rownames(freq) ; freq.perc.col"
   ]
  },
  {
   "cell_type": "code",
   "execution_count": null,
   "metadata": {
    "collapsed": false
   },
   "outputs": [],
   "source": [
    "## Fréquences en ligne\n",
    "## VOTRE REPONSE : \n",
    "\n",
    "freq.tot.row <- apply(freq, 1, sum)\n",
    "freq.perc.row <- as.data.frame(apply(freq, 2, function(x) percent(x/freq.tot.row)))\n",
    "    \n",
    "rownames(freq.perc.row) <-  rownames(freq) ; freq.perc.row"
   ]
  },
  {
   "cell_type": "code",
   "execution_count": 6,
   "metadata": {
    "collapsed": false
   },
   "outputs": [
    {
     "ename": "ERROR",
     "evalue": "Error in Summary.factor(structure(c(4L, 8L, 1L, 5L, 8L, 2L, 7L, 11L, 1L, : 'sum' not meaningful for factors\n",
     "output_type": "error",
     "traceback": [
      "Error in Summary.factor(structure(c(4L, 8L, 1L, 5L, 8L, 2L, 7L, 11L, 1L, : 'sum' not meaningful for factors\n"
     ]
    }
   ],
   "source": [
    "## Fréquence totale\n",
    "## VOTRE REPONSE : \n",
    "\n",
    "(freq.perc.tot <- freq/sum(freq))"
   ]
  }
 ],
 "metadata": {
  "kernelspec": {
   "display_name": "R",
   "language": "R",
   "name": "ir"
  },
  "language_info": {
   "codemirror_mode": "r",
   "file_extension": ".r",
   "mimetype": "text/x-r-source",
   "name": "R",
   "pygments_lexer": "r",
   "version": "3.2.3"
  }
 },
 "nbformat": 4,
 "nbformat_minor": 0
}
