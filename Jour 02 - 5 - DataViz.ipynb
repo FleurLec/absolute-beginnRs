{
 "cells": [
  {
   "cell_type": "markdown",
   "metadata": {},
   "source": [
    "# Section 5 - Datavisualisation avec R"
   ]
  },
  {
   "cell_type": "markdown",
   "metadata": {},
   "source": [
    "\n",
    "<br>\n",
    "# <span style=\"color: steelblue\">4. Datavisualisation avec R</span>\n",
    "\n",
    "# <span style=\"font-family:Calibri\">4.0 plot de base</span>\n",
    "\n",
    "Quand on cherche simplement a avoir une tendance, et donc grapher rapidement des données sans chercher a le rendre beau ou persistant, on peut utiliser le package de base et la fonction <b>plot()</b>  \n",
    "\n",
    "Cette fonction ne sera pas abordée dans ce chapitre. Néanmoins, voici un exemple standard d'utilisation (?plot et ?plot.default pour + d'options)\n"
   ]
  },
  {
   "cell_type": "code",
   "execution_count": null,
   "metadata": {
    "collapsed": true
   },
   "outputs": [],
   "source": [
    "y1 <- rpois(1000, 1)\n",
    "y10 <- rpois(1000, 10)"
   ]
  },
  {
   "cell_type": "code",
   "execution_count": null,
   "metadata": {
    "collapsed": false
   },
   "outputs": [],
   "source": [
    "plot(table(y1), type = \"h\", xlim = c(0, 20))\n",
    "abline(v = 1, col = \"green\", lwd = 2)\n",
    "plot(table(y10), type = \"h\", xlim = c(0, 20), col = \"red\")\n",
    "\n",
    "## Constat : on peut rajouter abline(), line(), points(), ... sur un plot() existant,\n",
    "## mais en appelant de nouveau la fonction plot, on repart sur un nouveau graphique"
   ]
  },
  {
   "cell_type": "code",
   "execution_count": null,
   "metadata": {
    "collapsed": false
   },
   "outputs": [],
   "source": [
    "plot(table(y1), type = \"h\", xlim = c(0, 20))\n",
    "abline(v = 1, col = \"green\", lwd = 2)\n",
    "\n",
    "par(new = TRUE) ## pour superposer les plot(), on peut utiliser cette option\n",
    "plot(table(y10), type = \"h\", xlim = c(0, 20), col = \"red\")"
   ]
  },
  {
   "cell_type": "markdown",
   "metadata": {},
   "source": [
    "# <span style=\"font-family:Calibri\">4.1 le package ggplot</span>\n",
    "\n",
    "ggplot2 est un package R developpé par Hadley Wickham pour produire des graphiques.\n",
    "Il s'appuie sur une grammaire developpée par (Wilkinson, 2005)\n",
    "\n",
    "Les graphiques avec ggplot2 sont créés par <b>couches</b> : la première contient les données brutes, les suivantes servent à mettre en forme ces données : \n",
    "\n",
    " - dataframe\n",
    " - systeme de coordonnées (coord) : comment mapper les données(cartesiennes, polaires, geographique…)\n",
    " - objets géometriques (geoms)\n",
    " - propriétés (couleur, taille, forme..)\n",
    " - transformations statistics (stats)\n",
    " - facetage pour afficher suivant plusieurs modalités \n",
    " \n",
    " \n",
    "<img src=\"http://upload.dinhosting.fr/m/0/i/J02_dataviz_grammarggplot.jpg\" align=\"left\"> \n",
    "<br><br><br> \n",
    "<br> <br> <br>\n",
    "Bible : http://moderngraphics11.pbworks.com/f/ggplot2-Book09hWickham.pdf  \n",
    "Antisèche : https://www.rstudio.com/wp-content/uploads/2015/03/ggplot2-cheatsheet.pdf  \n",
    "Liste des objets  : http://docs.ggplot2.org/current/index.html \n",
    " "
   ]
  },
  {
   "cell_type": "markdown",
   "metadata": {},
   "source": [
    "#### Differents types de graphiques selon...\n",
    " - le nombre de dimensions / le type de données (catégoriel ou numerique)\n",
    "  - 1 axis : barplot, pie chart, boxplot ..\n",
    "  - 2 axis : scatter plot, line plot,\n",
    "  - 3 axis or more : rasters, bubble plot, 3D plots, use of color/shape/facets …  \n",
    "  \n",
    "  \n",
    " - Données Géographiques \n",
    "  - Cartes choroplethes\n",
    "  - données GPS data  \n",
    "  \n",
    "  \n",
    " - Autres données spécfiques : temporelles, données de flux, graphes de réseaux ...  \n",
    " \n",
    " - Graphiques statiques ou dynamiques (googleVis, Shiny, d3.js, …)\n"
   ]
  },
  {
   "cell_type": "markdown",
   "metadata": {},
   "source": [
    "### 4.1.1. overview des objets disponibles \n",
    "\n",
    "#### objets geom_ :  \n",
    "Les fonctions geom_ possèdent des paramètres optionnels:\n",
    "Lorsque ces paramètres sont omis, les valeurs automatiquement attribuées sont héritées de celles de ggplot().\n",
    "\n",
    " - <span style=\"color: mediumpurple; font-weight:bold\">data</span> : données brutes à représenter,\n",
    " - <span style=\"color: mediumpurple; font-weight:bold\">mapping</span> : projection graphique à employer,\n",
    " - <span style=\"color: mediumpurple; font-weight:bold\">stat</span> : transformation statistique,\n",
    " - <span style=\"color: mediumpurple; font-weight:bold\">position</span> : des positions pour éviter le chevauchement\n",
    "  \n"
   ]
  },
  {
   "cell_type": "markdown",
   "metadata": {},
   "source": [
    "<table border = 1  align = left  width = 70% style=\"font-size: 9pt\">\n",
    "<tr span style=\"background-color: royalblue\"> <td colspan=2><span style=\"color: white; font-weight:bold; font-size: 12pt\"> Objets Geom  </span></td></tr>\n",
    "<tr> <td>geom_point() </td>   <td> tracer des points </td> </tr>\n",
    "<tr> <td>geom_line() </td>    <td> tracer des lignes </td> </tr> \n",
    "<tr> <td>geom_polygon() </td> <td> tracer des lignes </td> </tr>\n",
    "<tr> <td>geom_path() </td>    <td> tracer des points dans l’ordre du data frame </td> </tr>\n",
    "<tr> <td>geom_step() </td>    <td> faire un graphique en escalier </td> </tr>\n",
    "<tr> <td>geom_boxplot() </td> <td> tracer une boîte à moustache </td> </tr>\n",
    "<tr> <td>geom_jitter() </td>  <td> mettre des points côte à côte pour une variable catégorielle </td> </tr>\n",
    "<tr> <td>geom_smooth() </td>  <td> ajouter une courbe de tendance </td> </tr>\n",
    "<tr> <td>geom_histogram()</td><td> tracer un histogramme </td> </tr>\n",
    "<tr> <td>geom_bar() </td>     <td> tracer un diagramme en bâton </td> </tr>\n",
    "<tr> <td>geom_density() </td> <td> tracer une estimation de densité. </td> </tr>\n",
    "</table>\n"
   ]
  },
  {
   "cell_type": "markdown",
   "metadata": {},
   "source": [
    "\n",
    "<table border = 1 align = left  width = 70% style=\"font-size: 9pt\">\n",
    "<tr span style=\"background-color: royalblue\"> <td colspan=2><span style=\"color: white; font-weight:bold; font-size: 12pt\">  Fonction statistiques</span></td></tr>\n",
    "<tr> <td>stat_bin()</td><td> répartition des données en classes</td> </tr>\n",
    "<tr> <td>stat_contour()</td><td> calculer les contours des données en 3d</td> </tr>\n",
    "<tr> <td>stat_density()</td><td> estimation de densité 1d par la méthode du noyau</td> </tr>\n",
    "<tr> <td>stat_density_2d()</td><td> estimation de densité 2d</td> </tr>\n",
    "<tr> <td>stat_identity()</td><td> ne transforme pas les données</td> </tr>\n",
    "<tr> <td>stat_qq()</td><td> qqplot (droite de Henry)</td> </tr>\n",
    "<tr> <td>stat_quantile()</td><td> quantiles continus</td> </tr>\n",
    "<tr> <td>stat_smooth()</td><td> lissage</td> </tr>\n",
    "<tr> <td>stat_sum()</td><td> somme les valeurs uniques</td> </tr>\n",
    "<tr> <td>stat_summary()</td><td> appliquer une fonction pour faire des summaries sur les valeurs de y</td> </tr>\n",
    "<tr> <td>stat_unique()</td><td> retire les valeurs dupliquées</td> </tr>\n",
    "</table>"
   ]
  },
  {
   "cell_type": "markdown",
   "metadata": {},
   "source": [
    "<table border = 1 align = left  width = 70% style=\"font-size: 9pt\"> \n",
    "<tr span style=\"background-color: royalblue\"> <td colspan=3> <span style=\"color: white; font-weight:bold; font-size: 12pt\"> Fonctions d'échelle </span></td></tr>\n",
    "<tr> <td>ESTHÉTIQUE</td>           <td> VARIABLE DISCRÈTE      </td><td>VARIABLE CONTINUE</td> </tr>\n",
    "<tr> <td>Transparence (alpha) </td><td>scale_alpha_discrete()  </td><td>scale_alpha_continuous()</td> </tr>\n",
    "<tr> <td></td>                     <td>scale_alpha_manual()    </td><td>                       </td> </tr>\n",
    "<tr> <td></td>                     <td>scale_alpha_identity()  </td><td>scale_alpha_identity()</td> </tr>\n",
    "\n",
    "<tr> <td>Couleur (colour)</td>     <td>scale_colour_discrete() </td><td>scale_colour_continuous()</td> </tr>\n",
    "<tr> <td></td>                     <td>scale_colour_brewer()   </td><td>scale_colour_dilstiller()</td> </tr>\n",
    "<tr> <td></td>                     <td>scale_colour_grey()     </td><td>scale_colour_gradient()</td> </tr>\n",
    "<tr> <td></td>                     <td>scale_colour_hue()      </td><td>scale_colour_gradient2()</td> </tr>\n",
    "<tr> <td></td>                     <td>scale_colour_manual()   </td><td>scale_colour_gradientn()</td> </tr>\n",
    "<tr> <td></td>                     <td>scale_colour_identity() </td><td>scale_colour_identity()</td> </tr>\n",
    "\n",
    "<tr> <td>Remplissage (fill)</td>   <td>scale_fill_discrete()   </td><td>scale_fill_continuous()</td> </tr>\n",
    "<tr> <td></td>                     <td>scale_fill_brewer()     </td><td>scale_fill_distiller()</td> </tr>\n",
    "<tr> <td></td>                     <td>scale_fill_grey()       </td><td>scale_fill_gradient()</td> </tr>\n",
    "<tr> <td></td>                     <td>scale_fill_hue()        </td><td>scale_fill_gradient2()</td> </tr>\n",
    "<tr> <td></td>                     <td>scale_fill_manual()     </td><td>scale_fill_gradientn()</td> </tr>\n",
    "<tr> <td></td>                     <td>scale_fill_identity()   </td><td>scale_fill_identity()</td> </tr>\n",
    "\n",
    "<tr> <td>Type de ligne (linetype)</td><td>scale_linetype_discrete()</td><td>scale_linetype_continuous()</td> </tr>\n",
    "<tr> <td></td>                        <td>scale_linetype_manual()  </td> <td></td> </tr>\n",
    "<tr> <td></td>                        <td>scale_linetype_identity() </td> <td>scale_linetype_identity()</td> </tr>\n",
    "\n",
    "<tr> <td>Forme                   </td><td>scale_shape_discrete() </td><td>scale_shape_continuous()</td> </tr>\n",
    "<tr> <td></td>                        <td>scale_shape_manual()   </td><td></td> </tr>\n",
    "<tr> <td></td>                        <td>scale_shape_identity()</td><td> scale_shape_identity()</td> </tr>\n",
    "\n",
    "<tr> <td>Taille (size) </td>          <td>scale_size_discrete()</td><td> scale_size_continuous()</td> </tr>\n",
    "<tr> <td></td>                        <td>scale_size_manual() </td><td>scale_size_area()</td> </tr>\n",
    "<tr> <td></td>                        <td>scale_size_identity() </td><td>scale_size_identity()</td> </tr>\n",
    "\n",
    "<tr> <td>Position (x, y) </td> <td>scale_x_discrete() </td>    <td>scale_x_continuous()</td> </tr>\n",
    "<tr> <td></td>                 <td>scale_y_discrete() </td>    <td>scale_y_continuous()</td> </tr>\n",
    "<tr> <td></td>                 <td></td>                       <td>scale_x_date()</td> </tr>\n",
    "<tr> <td></td>                 <td></td>                       <td>scale_x_log10()</td> </tr>\n",
    "<tr> <td></td>                 <td></td>                       <td>...</td> </tr>\n",
    "\n",
    "</table>\n"
   ]
  },
  {
   "cell_type": "markdown",
   "metadata": {},
   "source": [
    "<table border = 1 align = left  width = 70% style=\"font-size: 9pt\">\n",
    "<tr span style=\"background-color: royalblue\"> <td colspan=2> <span style=\"color: white; font-weight:bold; font-size: 12pt\"> Position </span></td></tr>\n",
    "<tr> <td>position_dodge </td> <td>évite les chevauchements, place les éléments côte à côte</td> </tr>\n",
    "<tr> <td>position_fill </td> <td>empile les éléments qui se chevauchent, en normalisant pour avoir une hauteur égale</td> </tr>\n",
    "<tr> <td>position_identity </td> <td>n’ajuste pas la position</td> </tr>\n",
    "<tr> <td>position_jitter</td> <td>place les éméments côte à côte en essyant d’optimiser l’espace</td> </tr>\n",
    "<tr> <td>position_stack </td> <td>empile les éléments qui se chevauchent</td> </tr>\n",
    "</table>"
   ]
  },
  {
   "cell_type": "markdown",
   "metadata": {},
   "source": [
    "### 4.1.2. Les scatterplots et affiliés\n",
    "#### geom_point(), geom_text(), geom_jitter()"
   ]
  },
  {
   "cell_type": "code",
   "execution_count": null,
   "metadata": {
    "collapsed": false
   },
   "outputs": [],
   "source": [
    "library(ggplot2)\n",
    "library(MASS)\n",
    "ggplot(data=Cars93, aes(x=Horsepower, y=Price)) + geom_point()\n",
    "# qui peut aussi s'ecrire : \n",
    "# ggplot() + geom_point(data=Cars93, aes(x=Horsepower, y=Price))"
   ]
  },
  {
   "cell_type": "markdown",
   "metadata": {},
   "source": [
    "Les paramètre d'esthetiques permette de definir l'objet géometrique : \n",
    "Ils dependent des types d'objets appelés, mais on retrouve frequemments : \n",
    "- les coordonnées a grapher : (x, y, ..)\n",
    "- la couleur (color=)\n",
    "- la forme (shape=)\n",
    "- la transparence (alpha=)\n",
    "- la taille (size=)\n",
    "...\n",
    "\n",
    "Essayez en quelques uns sur le dataset Cars93..."
   ]
  },
  {
   "cell_type": "code",
   "execution_count": null,
   "metadata": {
    "collapsed": false
   },
   "outputs": [],
   "source": [
    "ggplot() +\n",
    " geom_point(data=Cars93, aes(x=Horsepower, y=Price, color=Origin, size=EngineSize)) + \n",
    " theme(legend.position=\"bottom\")\n"
   ]
  },
  {
   "cell_type": "code",
   "execution_count": null,
   "metadata": {
    "collapsed": false
   },
   "outputs": [],
   "source": [
    "ggplot(data=head(Cars93, 15), aes(x=Type, y=Price, ymax = max(Price), size=Horsepower, label=Make)) +\n",
    "  geom_point(aes(color=Manufacturer)) + \n",
    "  geom_text(aes(size=Horsepower)) +\n",
    "  scale_size(range=c(2,8))  # taille des lettres"
   ]
  },
  {
   "cell_type": "markdown",
   "metadata": {},
   "source": [
    "### 4.1.3.  boxplot, histogram, barplot, pie chart etc...\n",
    "De nombreux types de graphiques sont disponibles, tous listés dans http://docs.ggplot2.org/current/index.html.  \n",
    "Ci-dessous quelques exemples classiques, sur lesquels nous ne reviendrons pas. \n",
    "\n",
    "A noter un point important : on peut assigner un graphe ggplot dans un objet. \n",
    "Dans ce cas, les données sont egalement packagées, et l'objet ggplot ne changera pas meme si le dataframe disparait ou evolue."
   ]
  },
  {
   "cell_type": "code",
   "execution_count": null,
   "metadata": {
    "collapsed": false
   },
   "outputs": [],
   "source": [
    "my_theme_small_text = function(x) { theme(legend.text = element_text(size=x),\n",
    "            axis.text=element_text(size=x), axis.title=element_text(size=x)) }\n",
    "\n",
    "library(ggplot2)\n",
    "p_box <- ggplot(data=Cars93, aes(x=Type, y=Price, fill=Type)) +\n",
    "             geom_boxplot() + \n",
    "             ggtitle(\"Quantile with Box Plots\") + \n",
    "             my_theme_small_text(8)\n",
    "\n",
    "p_bar <- ggplot(data=Cars93, aes(x=Type, fill=Type)) +\n",
    "             geom_bar() + \n",
    "             ggtitle(\"Freq with Bar Plot\") + \n",
    "             my_theme_small_text(8)\n",
    "\n",
    "p_ras <- ggplot(data=Cars93, aes(x=Origin, y=Type, z=Price)) + \n",
    "             geom_raster() + \n",
    "             stat_summary_2d(fun = mean) +\n",
    "             scale_fill_gradient(name = \"Price\", low = \"#FFFF00\", high =\"#FF0000\") + \n",
    "             ggtitle(\"Raster\") + \n",
    "             my_theme_small_text(8)\n",
    "\n",
    "p_pie <- ggplot(data=Cars93, aes(x=factor(1), fill=Type)) +\n",
    "             geom_bar() + coord_polar(theta=\"y\") + \n",
    "             my_theme_small_text(8)\n"
   ]
  },
  {
   "cell_type": "code",
   "execution_count": null,
   "metadata": {
    "collapsed": false
   },
   "outputs": [],
   "source": [
    "library(gridExtra) ; library(grid)\n",
    "grid.arrange(p_box, p_bar, p_ras, p_pie, ncol=2, nrow=2, widths = unit(c(0.5,0.5), \"npc\"),\n",
    "             heights = unit(c(0.5,0.5), \"npc\"))"
   ]
  },
  {
   "cell_type": "markdown",
   "metadata": {},
   "source": [
    "### 4.1.4. Facet Grid\n",
    "\n",
    "Produit un même graphique en mosaique, suivant la modalité d'une variable"
   ]
  },
  {
   "cell_type": "code",
   "execution_count": null,
   "metadata": {
    "collapsed": false
   },
   "outputs": [],
   "source": [
    "library(MASS)\n",
    "ggplot(Cars93, aes(DriveTrain, fill = Origin, position = 'fill')) + \n",
    "  geom_bar() +\n",
    "  stat_count(aes(label= ..count.. ), vjust=1, geom=\"text\") +\n",
    "  facet_wrap(facets = ~Type)"
   ]
  },
  {
   "cell_type": "markdown",
   "metadata": {},
   "source": [
    "### 4.1.5. Utilisation de stats\n",
    "\n",
    "Dans l'exemple suivant, on souhaite illustrer la densité de points par un gradient de couleur sur le graphique.\n",
    "\n",
    "On peut voir pas à pas les differentes briques du graphique : \n",
    "- appel de ggplot sur le dataframe et les coordonnées x,y souhaitées  \n",
    "- affichage sour forme de nuage de point, avec une transparence forte\n",
    "- ajout d'une densité (kernel density - MASS::kde2d) dont les niveaux automatiquement créées (..level..) sont affichées : \n",
    "    - dans le remplissage\n",
    "    - dans la transparence\n",
    "    - dans la couleur des lignes\n",
    "- ajout d'un gradient de couleur de remplissage\n",
    "- ajout d'un gradient de couleur de trait\n",
    "- (en commentaire) : limitation de la fenetre xlim / ylim\n",
    "- rajout de 2 lignes, horizontales et verticales, marquant la moyenne des indicateurs"
   ]
  },
  {
   "cell_type": "code",
   "execution_count": null,
   "metadata": {
    "collapsed": false
   },
   "outputs": [],
   "source": [
    "library(ggplot2)\n",
    "DF <- data.frame(Apport.net = rnorm(n=200, 0, 2000),\n",
    "                 RC         = rnorm(n=200, 96, 3))\n",
    "\n",
    "ggplot(data=DF, aes(x=Apport.net, y=RC)) + \n",
    "  geom_point(alpha = .2) +\n",
    "  stat_density2d(aes(fill = ..level..,  alpha =..level.., col = ..level..), n=16,  geom = \"polygon\") +\n",
    "  scale_fill_gradient(low = \"green\", high = \"red\") +\n",
    "  scale_color_gradient(low = \"green\", high = \"red\") +\n",
    "  #scale_x_continuous(limits = c(-4000, 4000)) +\n",
    "  #scale_y_continuous(limits = c(-80, 120)) +\n",
    "  geom_vline(xintercept = mean(DF$Apport.net), col = \"red\", alpha=.5) +\n",
    "  geom_hline(yintercept = mean(DF$RC), col = \"red\", alpha=.5)\n"
   ]
  },
  {
   "cell_type": "markdown",
   "metadata": {},
   "source": [
    "### 4.1.6. Couleurs et themes\n",
    "\n",
    "On ne va pas se leurrer, l'interêt de ggplot2 par rapport a beaucoup d'autre, c'est surtout que les graphiques sont beaux.\n",
    "Pour aller plus loin a ce propos, 2 points à noter : \n",
    " - l'existence de thèmes disponibles avec ggthemes\n",
    " - les librairies de couleurs avec RColorBrewer"
   ]
  },
  {
   "cell_type": "markdown",
   "metadata": {},
   "source": [
    "<b> <u>Thèmes</u></b>"
   ]
  },
  {
   "cell_type": "code",
   "execution_count": null,
   "metadata": {
    "collapsed": false
   },
   "outputs": [],
   "source": [
    "library(ggthemes)\n",
    "t1 <- p_box + theme_economist() + scale_fill_economist()\n",
    "t2 <- p_box + theme_solarized(light=FALSE) + scale_fill_solarized()\n",
    "grid.arrange(t1, t2, ncol=2, widths = unit(c(0.5,0.5), \"npc\"),  heights = unit(8, \"cm\"))"
   ]
  },
  {
   "cell_type": "markdown",
   "metadata": {},
   "source": [
    "<b> <u>Couleurs</u></b>"
   ]
  },
  {
   "cell_type": "code",
   "execution_count": null,
   "metadata": {
    "collapsed": false
   },
   "outputs": [],
   "source": [
    "library(RColorBrewer)\n",
    "display.brewer.all()"
   ]
  },
  {
   "cell_type": "code",
   "execution_count": null,
   "metadata": {
    "collapsed": false
   },
   "outputs": [],
   "source": [
    "## on peut etendre une palette au nombre de couleurs voulues avec colorRampPalette : \n",
    "(pal <- colorRampPalette(brewer.pal(9,\"Blues\"))(30))\n"
   ]
  },
  {
   "cell_type": "code",
   "execution_count": null,
   "metadata": {
    "collapsed": false
   },
   "outputs": [],
   "source": [
    "## Ensuite utilisable dans n'importe quel graphique\n",
    "plot(rep(1,30),col=pal ,pch=19 ,cex=3)"
   ]
  },
  {
   "cell_type": "markdown",
   "metadata": {},
   "source": [
    "# <span style=\"font-family:Calibri\">4.2 les googleVis</span>\n",
    "\n",
    "Autre visualisations sympas et dynamiques.  \n",
    "Creation automatique d'une page web.  \n",
    "\n",
    "https://cran.r-project.org/web/packages/googleVis/vignettes/googleVis_examples.html"
   ]
  },
  {
   "cell_type": "markdown",
   "metadata": {},
   "source": [
    "### 4.2.1. Diagramme de flux\n",
    "\n",
    "Exemple de relations père/fils (attention, pas de boucles)"
   ]
  },
  {
   "cell_type": "code",
   "execution_count": null,
   "metadata": {
    "collapsed": false
   },
   "outputs": [],
   "source": [
    "## En mouvement avec les googleVis : diagramme de flux (ordonné) : \n",
    "## Le resultat est stocké à l'adresse indiquée dans le print...\n",
    "\n",
    "DF <- data.frame(pere = LETTERS[1:5], \n",
    "                 fils = LETTERS[2:11], \n",
    "                 intensite = rpois(5, 10)) \n",
    "\n",
    "suppressPackageStartupMessages(library(googleVis))\n",
    "\n",
    "sankey <- gvisSankey(DF , from=\"DE\", to=\"VERS\", weight=\"intensité\",\n",
    "                     options=list(height=250, sankey=\"{link:{color:{fill:'lightblue'}}}\"))\n",
    "\n",
    "print(sankey, file=\"C:/R/05_Training/Axa_Training/Jour 02 - DataViz/my_Sankey.html\")\n"
   ]
  },
  {
   "cell_type": "markdown",
   "metadata": {},
   "source": [
    "### 4.2.2. données temporelles\n",
    "\n",
    "Example de serie temporelles sur fond de calendrier : "
   ]
  },
  {
   "cell_type": "code",
   "execution_count": null,
   "metadata": {
    "collapsed": false
   },
   "outputs": [],
   "source": [
    "suppressPackageStartupMessages(library(googleVis))\n",
    "suppressPackageStartupMessages(library(htmltools))\n",
    "suppressPackageStartupMessages(library(dplyr))\n",
    " \n",
    "load(\"C:/R/05_Training/Axa_Training/Data/DF.Corpo.Rdata\")\n",
    "    \n",
    "DF.corpo.agg <- group_by(DF.corpo, date) %>% \n",
    "                na.omit() %>%\n",
    "                summarise(tot = n())    \n",
    "\n",
    "\n",
    "DF.corpo.agg[,\"date\"] <- as.Date(DF.corpo.agg$date,\"%Y-%m-%d\")\n",
    "  \n",
    "calendar <- gvisCalendar(data = DF.corpo.agg, datevar = \"date\", numvar = \"tot\", options = list(width = 1100, height = 600))\n",
    "\n",
    "print(calendar, file=\"C:/R/05_Training/Axa_Training/Jour 02 - DataViz/my_Calendar.html\")\n"
   ]
  },
  {
   "cell_type": "markdown",
   "metadata": {},
   "source": [
    "### 4.2.3. Jauges\n",
    "\n",
    "Utilisations de jauges (statiques) pour restituer des indicateurs clefs par exemple : "
   ]
  },
  {
   "cell_type": "code",
   "execution_count": null,
   "metadata": {
    "collapsed": true
   },
   "outputs": [],
   "source": [
    "LR <- data.frame(line = c(\"Motor\", \"Household\", \"Motorbike\", \"Prof.\", \"Constr.\", \"Fleet\"),\n",
    "LossRatio = c(96, 92, 90, 105, 110, 99))\n",
    "  \n",
    "Gauge <-  gvisGauge(LR, options=list(min=50, max=150, greenFrom=50, greenTo=95, \n",
    "yellowFrom=95, yellowTo=105, redFrom=105, redTo=150, width=400, height=300))\n",
    "\n",
    "print(Gauge, file=\"C:/R/05_Training/Axa_Training/Jour 02 - DataViz/my_Gauge.html\")\n"
   ]
  },
  {
   "cell_type": "markdown",
   "metadata": {},
   "source": [
    "# <span style=\"font-family:Calibri\">4.3. Autres viz (hors géographiques)</span>\n",
    "\n",
    "<b><font size=4 color=\"blue\">Les graphiques suivants sont dynamiques : leur execution sous Jupyter fonctionne mal (voire pas).<br>\n",
    "Je propose de switcher dans RStudio pour les tester</font></b>"
   ]
  },
  {
   "cell_type": "markdown",
   "metadata": {},
   "source": [
    "### 4.3.1. chordDiagrams"
   ]
  },
  {
   "cell_type": "code",
   "execution_count": null,
   "metadata": {
    "collapsed": false
   },
   "outputs": [],
   "source": [
    "## ChordDiagrammes : \n",
    "options(repr.plot.width=4, repr.plot.height=4)\n",
    "\n",
    "library(circlize)\n",
    "set.seed(1)\n",
    "mat <- matrix( rep(c(0,1), 25) , nrow=5, ncol=5 , dimnames = list(LETTERS[(1:5)], letters[1:5] ))\n",
    "chordDiagram(mat)\n"
   ]
  },
  {
   "cell_type": "markdown",
   "metadata": {},
   "source": [
    "### 4.3.2. graphiques dynamiques"
   ]
  },
  {
   "cell_type": "markdown",
   "metadata": {},
   "source": [
    "#### A l'ancienne : library(rgl)"
   ]
  },
  {
   "cell_type": "code",
   "execution_count": null,
   "metadata": {
    "collapsed": false
   },
   "outputs": [],
   "source": [
    "## Restons dans la visu dynamique avec le fameux package rgl, bien connu des étudiants, relativement peu utilisé dans le monde pro\n",
    "\n",
    "# A LANCER SOUS RSTUDIO (fait planter Jupyter)\n",
    "\n",
    "library(rgl)\n",
    "persp <- rgl::persp3d(x=seq(1,dim(volcano)[1]), y=seq(1,dim(volcano)[2]), z=volcano, col=\"lightblue\", xlab=\"\", ylab=\"\")\n",
    "plot(persp)\n"
   ]
  },
  {
   "cell_type": "code",
   "execution_count": null,
   "metadata": {
    "collapsed": true
   },
   "outputs": [],
   "source": [
    "\n",
    "t = runif(1000)\n",
    "x = (1-sin(t))*sin(t)*log(t)\n",
    "y = (1-cos(t))*cos(t)*log(t)\n",
    "z = x^2 + y^2  + rnorm(1000)\n",
    "\n",
    "plot3d(x,y,z, col=rainbow(10))"
   ]
  },
  {
   "cell_type": "markdown",
   "metadata": {},
   "source": [
    "#### Les graphes dynamiques avec Javascript\n",
    "\n",
    " - <b>HighCharter</b>"
   ]
  },
  {
   "cell_type": "raw",
   "metadata": {
    "collapsed": false
   },
   "source": [
    "##HighCharter\n",
    "install.packages(\"highcharter\", repos = \"http://cran.us.r-project.org\")\n",
    "library(highcharter)\n"
   ]
  },
  {
   "cell_type": "code",
   "execution_count": null,
   "metadata": {
    "collapsed": false
   },
   "outputs": [],
   "source": [
    "library(highcharter)\n",
    "hchart(mtcars$mpg)"
   ]
  },
  {
   "cell_type": "markdown",
   "metadata": {},
   "source": [
    " - <b>rCharts</b>"
   ]
  },
  {
   "cell_type": "code",
   "execution_count": null,
   "metadata": {
    "collapsed": true
   },
   "outputs": [],
   "source": [
    "library(rCharts)\n",
    "\n",
    "\n",
    "hPlot(Pulse ~ Height, data = MASS::survey, type = \"scatter\", group = \"Exer\")\n",
    "\n",
    "## Example 2\n",
    "hPlot(Pulse ~ Height, data = MASS::survey, type = \"bubble\", title = \"Zoom demo\", subtitle = \"bubble chart\", size = \"Age\", group = \"Exer\")\n",
    "\n",
    "## Example 4\n",
    "x <- data.frame(key = paste(\"Categ.\", letters[(1:6)]), value = rnorm(6))\n",
    "hPlot(x = \"key\", y = \"value\", data = x, type = \"pie\")\n",
    "\n",
    "## Example 6\n",
    "hPlot(freq ~ Exer, data = plyr::count(MASS::survey, c('Sex', 'Exer')), type = c('column', 'line'), group = 'Sex', radius = 6)\n",
    "\n",
    "## Example 7\n",
    "hPlot(freq ~ Exer, data = plyr::count(MASS::survey, c('Sex', 'Exer')), type = 'bar', group = 'Sex', group.na = 'NA\\'s')\n"
   ]
  },
  {
   "cell_type": "markdown",
   "metadata": {},
   "source": [
    "\n",
    "\n"
   ]
  }
 ],
 "metadata": {
  "kernelspec": {
   "display_name": "R",
   "language": "R",
   "name": "ir"
  },
  "language_info": {
   "codemirror_mode": "r",
   "file_extension": ".r",
   "mimetype": "text/x-r-source",
   "name": "R",
   "pygments_lexer": "r",
   "version": "3.2.3"
  }
 },
 "nbformat": 4,
 "nbformat_minor": 0
}
